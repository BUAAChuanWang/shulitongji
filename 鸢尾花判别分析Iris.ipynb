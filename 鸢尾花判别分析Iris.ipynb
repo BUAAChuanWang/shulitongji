{
 "cells": [
  {
   "cell_type": "markdown",
   "metadata": {
    "_uuid": "e0db02d257c6bb6631773d9bcd03ff022e25649a"
   },
   "source": [
    "<img src=\"http://s5047.pcdn.co/wp-content/uploads/2015/04/iris_petal_sepal.png\">\n"
   ]
  },
  {
   "cell_type": "markdown",
   "metadata": {
    "_uuid": "283e08476dae18925992a6168f868693e81dcd2a"
   },
   "source": [
    "<a href='#'>Preface</a><br>\n",
    "<a href='#desc'>description</a><br>\n",
    "<a href='#about'>About notebook</a><br>\n",
    "<a href='#load_lib'>Load libraries</a><br>\n",
    "<a href='#load_data'>Load Dataset</a><br>\n",
    "<a href='#visual'>Let's Visualize the dataset</a><br>\n",
    "- <a href='#types_species'> Types of species</a>\n",
    "- <a href='#corelation'>Corelation between features</a><br>\n",
    "- <a href='#visual_sepal'>Visualizing species based on sepal length and width</a><br>\n",
    "- <a href='#visual_petal'>Visualizing species based on petal length and width</a><br>\n",
    "- <a href='#value_petal_width'>Values distribution based on petal width</a><br>\n",
    "- <a href='#value_petal_length'>Values distribution based on petal length</a><br>\n",
    "- <a href='#value_sepal_length'>Values distribution based on sepal length</a><br>\n",
    "- <a href='#value_sepal_width'>Values distribution based on sepal width</a><br>\n",
    "- <a href='#andrew'>Andrew curves</a><br>\n",
    "- <a href='#lin_sepal'>Linear regression based on sepal</a><br>\n",
    "- <a href='#lin_petal'>Linear regression based on petal</a><br>\n",
    "\n",
    "<a href='#ml'>Machine Learning</a><br>\n",
    "- <a href='#list'> List of algorithms</a>\n",
    "- <a href='#logistic'>Logistic regression</a><br>\n",
    "- <a href='#decision'>Decision tree</a><br>\n",
    "- <a href='#knn'>KNN</a><br>\n",
    "- <a href='#svm'>SVM</a><br>\n",
    "- <a href='#nbc'>Naive Bayes Classification</a><br>\n",
    "- <a href='#random'>Random forest</a><br>\n",
    "- <a href='#etc'>Extra Tree Classifier</a><br>\n",
    "- <a href='#xgboost'>XGBoost</a><br>\n",
    "- <a href='#lbgm'>LigthGBM</a><br>\n",
    "\n",
    "<a href='#dl'>Deep Learning</a><br>\n",
    "- <a href='#shallow'>Shallow Deep learning</a><br>\n",
    "- <a href='#deep'>Deep Deep learning</a><br>\n"
   ]
  },
  {
   "cell_type": "markdown",
   "metadata": {
    "_uuid": "b76ae77466be5ddfeb2ad8510c7c0c341ce863c4"
   },
   "source": [
    "# <a id='desc'> Description</a>\n"
   ]
  },
  {
   "cell_type": "markdown",
   "metadata": {
    "_uuid": "3c23607dc3ccb91848089096ccfd7620666903ae"
   },
   "source": [
    "The Iris dataset was used in R.A. Fisher's classic 1936 paper, The Use of Multiple Measurements in Taxonomic Problems, and can also be found on the UCI Machine Learning Repository.\n",
    "\n",
    "It includes three iris species with 50 samples each as well as some properties about each flower. One flower species is linearly separable from the other two, but the other two are not linearly separable from each other.\n",
    "\n",
    "The columns in this dataset are:\n",
    "\n",
    "- Id\n",
    "- SepalLengthCm\n",
    "- SepalWidthCm\n",
    "- PetalLengthCm\n",
    "- PetalWidthCm\n",
    "- Species"
   ]
  },
  {
   "cell_type": "markdown",
   "metadata": {
    "_uuid": "c48025029289ae1508f0757431ded97fa406da1a"
   },
   "source": [
    "# <a id='about'>About the notebook</a>\n"
   ]
  },
  {
   "cell_type": "markdown",
   "metadata": {
    "_uuid": "5ad3d0ac84f2ef712c4a77d0e8e83db59f1bb434"
   },
   "source": [
    "In this notebook we will look into famous dataset which is iris, we will analyse the dataset with plotly library which is very interactive library in python then later we will apply different macine learning algorithms and see the best accuracy.\n",
    "\n"
   ]
  },
  {
   "cell_type": "markdown",
   "metadata": {
    "_uuid": "b4d6c82733d12e223387758889036b50c68884dd"
   },
   "source": [
    "# <a id='load_lib'>Let's load the required libraries</a>\n"
   ]
  },
  {
   "cell_type": "code",
   "execution_count": 1,
   "metadata": {
    "_kg_hide-input": true,
    "_uuid": "ab3c2f7c07531992dd024b7d1df6997ba1a251b3"
   },
   "outputs": [
    {
     "name": "stderr",
     "output_type": "stream",
     "text": [
      "/usr/lib/python3.5/importlib/_bootstrap.py:222: RuntimeWarning: numpy.dtype size changed, may indicate binary incompatibility. Expected 96, got 88\n",
      "  return f(*args, **kwds)\n",
      "/usr/lib/python3.5/importlib/_bootstrap.py:222: RuntimeWarning: numpy.dtype size changed, may indicate binary incompatibility. Expected 96, got 88\n",
      "  return f(*args, **kwds)\n",
      "/usr/lib/python3.5/importlib/_bootstrap.py:222: RuntimeWarning: numpy.dtype size changed, may indicate binary incompatibility. Expected 96, got 88\n",
      "  return f(*args, **kwds)\n",
      "/usr/lib/python3.5/importlib/_bootstrap.py:222: RuntimeWarning: numpy.dtype size changed, may indicate binary incompatibility. Expected 96, got 88\n",
      "  return f(*args, **kwds)\n"
     ]
    },
    {
     "data": {
      "text/html": [
       "<script type=\"text/javascript\">window.PlotlyConfig = {MathJaxConfig: 'local'};</script><script type=\"text/javascript\">if (window.MathJax) {MathJax.Hub.Config({SVG: {font: \"STIX-Web\"}});}</script><script>requirejs.config({paths: { 'plotly': ['https://cdn.plot.ly/plotly-latest.min']},});if(!window._Plotly) {require(['plotly'],function(plotly) {window._Plotly=plotly;});}</script>"
      ],
      "text/vnd.plotly.v1+html": [
       "<script type=\"text/javascript\">window.PlotlyConfig = {MathJaxConfig: 'local'};</script><script type=\"text/javascript\">if (window.MathJax) {MathJax.Hub.Config({SVG: {font: \"STIX-Web\"}});}</script><script>requirejs.config({paths: { 'plotly': ['https://cdn.plot.ly/plotly-latest.min']},});if(!window._Plotly) {require(['plotly'],function(plotly) {window._Plotly=plotly;});}</script>"
      ]
     },
     "metadata": {},
     "output_type": "display_data"
    },
    {
     "name": "stderr",
     "output_type": "stream",
     "text": [
      "/usr/lib/python3.5/importlib/_bootstrap.py:222: RuntimeWarning:\n",
      "\n",
      "numpy.dtype size changed, may indicate binary incompatibility. Expected 96, got 88\n",
      "\n",
      "/usr/lib/python3.5/importlib/_bootstrap.py:222: RuntimeWarning:\n",
      "\n",
      "numpy.dtype size changed, may indicate binary incompatibility. Expected 96, got 88\n",
      "\n",
      "/usr/local/lib/python3.5/dist-packages/sklearn/ensemble/weight_boosting.py:29: DeprecationWarning:\n",
      "\n",
      "numpy.core.umath_tests is an internal NumPy module and should not be imported. It will be removed in a future NumPy release.\n",
      "\n"
     ]
    }
   ],
   "source": [
    "import numpy as np\n",
    "import random\n",
    "import pandas as pd\n",
    "from pandas.tools import plotting\n",
    "import seaborn as sns\n",
    "import matplotlib.pyplot as plt\n",
    "%matplotlib inline\n",
    "\n",
    "import plotly.offline as py\n",
    "from plotly.offline import init_notebook_mode, iplot\n",
    "import plotly.graph_objs as go\n",
    "from plotly import tools\n",
    "init_notebook_mode(connected=True)  \n",
    "import plotly.figure_factory as ff\n",
    "\n",
    "from sklearn.model_selection import train_test_split\n",
    "from sklearn.linear_model import LogisticRegression\n",
    "from sklearn.svm import SVC\n",
    "from sklearn.naive_bayes import GaussianNB\n",
    "from sklearn.tree import DecisionTreeClassifier\n",
    "from sklearn.ensemble import RandomForestClassifier, ExtraTreesClassifier\n",
    "from sklearn.neighbors import KNeighborsClassifier\n",
    "from lightgbm import LGBMClassifier\n",
    "from sklearn.metrics import  accuracy_score\n",
    "\n",
    "import xgboost as xgb\n",
    "import lightgbm as  lgb\n",
    "from xgboost.sklearn import XGBClassifier\n",
    "# from catboost import CatBoostClassifier\n",
    "\n",
    "from sklearn.preprocessing import StandardScaler, LabelBinarizer\n",
    "# auxiliary function\n",
    "from sklearn.preprocessing import LabelEncoder\n",
    "def random_colors(number_of_colors):\n",
    "    color = [\"#\"+''.join([random.choice('0123456789ABCDEF') for j in range(6)])\n",
    "                 for i in range(number_of_colors)]\n",
    "    return color\n",
    "\n",
    "import warnings\n",
    "warnings.filterwarnings('ignore')"
   ]
  },
  {
   "cell_type": "markdown",
   "metadata": {
    "_uuid": "cc720b9cb2ab8ee436074089b4d6d74fc5b8f882"
   },
   "source": [
    "# <a id='load_data'>Load data set</a>\n",
    "\n"
   ]
  },
  {
   "cell_type": "code",
   "execution_count": 2,
   "metadata": {
    "_kg_hide-input": true,
    "_uuid": "0caff7f827cd7a8a0352992e2a80d42fdb8d26dc"
   },
   "outputs": [],
   "source": [
    "df = pd.read_csv('data/Iris.csv')\n",
    "table = ff.create_table(df.head())"
   ]
  },
  {
   "cell_type": "code",
   "execution_count": 3,
   "metadata": {
    "_kg_hide-input": true,
    "_uuid": "3f04383afd4c6edfdd1a395d6425f5278a8bc778"
   },
   "outputs": [
    {
     "data": {
      "application/vnd.plotly.v1+json": {
       "config": {
        "linkText": "Export to plot.ly",
        "plotlyServerURL": "https://plot.ly",
        "showLink": true
       },
       "data": [
        {
         "colorscale": [
          [
           0,
           "#00083e"
          ],
          [
           0.5,
           "#ededee"
          ],
          [
           1,
           "#ffffff"
          ]
         ],
         "hoverinfo": "none",
         "opacity": 0.75,
         "showscale": false,
         "type": "heatmap",
         "uid": "5b2f7331-7e52-4a88-aabf-939f843708b1",
         "z": [
          [
           0,
           0,
           0,
           0,
           0,
           0
          ],
          [
           0.5,
           0.5,
           0.5,
           0.5,
           0.5,
           0.5
          ],
          [
           1,
           1,
           1,
           1,
           1,
           1
          ],
          [
           0.5,
           0.5,
           0.5,
           0.5,
           0.5,
           0.5
          ],
          [
           1,
           1,
           1,
           1,
           1,
           1
          ],
          [
           0.5,
           0.5,
           0.5,
           0.5,
           0.5,
           0.5
          ]
         ]
        }
       ],
       "layout": {
        "annotations": [
         {
          "align": "left",
          "font": {
           "color": "#ffffff"
          },
          "showarrow": false,
          "text": "<b>Id</b>",
          "x": -0.45,
          "xanchor": "left",
          "xref": "x",
          "y": 0,
          "yref": "y"
         },
         {
          "align": "left",
          "font": {
           "color": "#ffffff"
          },
          "showarrow": false,
          "text": "<b>SepalLengthCm</b>",
          "x": 0.55,
          "xanchor": "left",
          "xref": "x",
          "y": 0,
          "yref": "y"
         },
         {
          "align": "left",
          "font": {
           "color": "#ffffff"
          },
          "showarrow": false,
          "text": "<b>SepalWidthCm</b>",
          "x": 1.55,
          "xanchor": "left",
          "xref": "x",
          "y": 0,
          "yref": "y"
         },
         {
          "align": "left",
          "font": {
           "color": "#ffffff"
          },
          "showarrow": false,
          "text": "<b>PetalLengthCm</b>",
          "x": 2.55,
          "xanchor": "left",
          "xref": "x",
          "y": 0,
          "yref": "y"
         },
         {
          "align": "left",
          "font": {
           "color": "#ffffff"
          },
          "showarrow": false,
          "text": "<b>PetalWidthCm</b>",
          "x": 3.55,
          "xanchor": "left",
          "xref": "x",
          "y": 0,
          "yref": "y"
         },
         {
          "align": "left",
          "font": {
           "color": "#ffffff"
          },
          "showarrow": false,
          "text": "<b>Species</b>",
          "x": 4.55,
          "xanchor": "left",
          "xref": "x",
          "y": 0,
          "yref": "y"
         },
         {
          "align": "left",
          "font": {
           "color": "#000000"
          },
          "showarrow": false,
          "text": "1",
          "x": -0.45,
          "xanchor": "left",
          "xref": "x",
          "y": 1,
          "yref": "y"
         },
         {
          "align": "left",
          "font": {
           "color": "#000000"
          },
          "showarrow": false,
          "text": "5.1",
          "x": 0.55,
          "xanchor": "left",
          "xref": "x",
          "y": 1,
          "yref": "y"
         },
         {
          "align": "left",
          "font": {
           "color": "#000000"
          },
          "showarrow": false,
          "text": "3.5",
          "x": 1.55,
          "xanchor": "left",
          "xref": "x",
          "y": 1,
          "yref": "y"
         },
         {
          "align": "left",
          "font": {
           "color": "#000000"
          },
          "showarrow": false,
          "text": "1.4",
          "x": 2.55,
          "xanchor": "left",
          "xref": "x",
          "y": 1,
          "yref": "y"
         },
         {
          "align": "left",
          "font": {
           "color": "#000000"
          },
          "showarrow": false,
          "text": "0.2",
          "x": 3.55,
          "xanchor": "left",
          "xref": "x",
          "y": 1,
          "yref": "y"
         },
         {
          "align": "left",
          "font": {
           "color": "#000000"
          },
          "showarrow": false,
          "text": "Iris-setosa",
          "x": 4.55,
          "xanchor": "left",
          "xref": "x",
          "y": 1,
          "yref": "y"
         },
         {
          "align": "left",
          "font": {
           "color": "#000000"
          },
          "showarrow": false,
          "text": "2",
          "x": -0.45,
          "xanchor": "left",
          "xref": "x",
          "y": 2,
          "yref": "y"
         },
         {
          "align": "left",
          "font": {
           "color": "#000000"
          },
          "showarrow": false,
          "text": "4.9",
          "x": 0.55,
          "xanchor": "left",
          "xref": "x",
          "y": 2,
          "yref": "y"
         },
         {
          "align": "left",
          "font": {
           "color": "#000000"
          },
          "showarrow": false,
          "text": "3.0",
          "x": 1.55,
          "xanchor": "left",
          "xref": "x",
          "y": 2,
          "yref": "y"
         },
         {
          "align": "left",
          "font": {
           "color": "#000000"
          },
          "showarrow": false,
          "text": "1.4",
          "x": 2.55,
          "xanchor": "left",
          "xref": "x",
          "y": 2,
          "yref": "y"
         },
         {
          "align": "left",
          "font": {
           "color": "#000000"
          },
          "showarrow": false,
          "text": "0.2",
          "x": 3.55,
          "xanchor": "left",
          "xref": "x",
          "y": 2,
          "yref": "y"
         },
         {
          "align": "left",
          "font": {
           "color": "#000000"
          },
          "showarrow": false,
          "text": "Iris-setosa",
          "x": 4.55,
          "xanchor": "left",
          "xref": "x",
          "y": 2,
          "yref": "y"
         },
         {
          "align": "left",
          "font": {
           "color": "#000000"
          },
          "showarrow": false,
          "text": "3",
          "x": -0.45,
          "xanchor": "left",
          "xref": "x",
          "y": 3,
          "yref": "y"
         },
         {
          "align": "left",
          "font": {
           "color": "#000000"
          },
          "showarrow": false,
          "text": "4.7",
          "x": 0.55,
          "xanchor": "left",
          "xref": "x",
          "y": 3,
          "yref": "y"
         },
         {
          "align": "left",
          "font": {
           "color": "#000000"
          },
          "showarrow": false,
          "text": "3.2",
          "x": 1.55,
          "xanchor": "left",
          "xref": "x",
          "y": 3,
          "yref": "y"
         },
         {
          "align": "left",
          "font": {
           "color": "#000000"
          },
          "showarrow": false,
          "text": "1.3",
          "x": 2.55,
          "xanchor": "left",
          "xref": "x",
          "y": 3,
          "yref": "y"
         },
         {
          "align": "left",
          "font": {
           "color": "#000000"
          },
          "showarrow": false,
          "text": "0.2",
          "x": 3.55,
          "xanchor": "left",
          "xref": "x",
          "y": 3,
          "yref": "y"
         },
         {
          "align": "left",
          "font": {
           "color": "#000000"
          },
          "showarrow": false,
          "text": "Iris-setosa",
          "x": 4.55,
          "xanchor": "left",
          "xref": "x",
          "y": 3,
          "yref": "y"
         },
         {
          "align": "left",
          "font": {
           "color": "#000000"
          },
          "showarrow": false,
          "text": "4",
          "x": -0.45,
          "xanchor": "left",
          "xref": "x",
          "y": 4,
          "yref": "y"
         },
         {
          "align": "left",
          "font": {
           "color": "#000000"
          },
          "showarrow": false,
          "text": "4.6",
          "x": 0.55,
          "xanchor": "left",
          "xref": "x",
          "y": 4,
          "yref": "y"
         },
         {
          "align": "left",
          "font": {
           "color": "#000000"
          },
          "showarrow": false,
          "text": "3.1",
          "x": 1.55,
          "xanchor": "left",
          "xref": "x",
          "y": 4,
          "yref": "y"
         },
         {
          "align": "left",
          "font": {
           "color": "#000000"
          },
          "showarrow": false,
          "text": "1.5",
          "x": 2.55,
          "xanchor": "left",
          "xref": "x",
          "y": 4,
          "yref": "y"
         },
         {
          "align": "left",
          "font": {
           "color": "#000000"
          },
          "showarrow": false,
          "text": "0.2",
          "x": 3.55,
          "xanchor": "left",
          "xref": "x",
          "y": 4,
          "yref": "y"
         },
         {
          "align": "left",
          "font": {
           "color": "#000000"
          },
          "showarrow": false,
          "text": "Iris-setosa",
          "x": 4.55,
          "xanchor": "left",
          "xref": "x",
          "y": 4,
          "yref": "y"
         },
         {
          "align": "left",
          "font": {
           "color": "#000000"
          },
          "showarrow": false,
          "text": "5",
          "x": -0.45,
          "xanchor": "left",
          "xref": "x",
          "y": 5,
          "yref": "y"
         },
         {
          "align": "left",
          "font": {
           "color": "#000000"
          },
          "showarrow": false,
          "text": "5.0",
          "x": 0.55,
          "xanchor": "left",
          "xref": "x",
          "y": 5,
          "yref": "y"
         },
         {
          "align": "left",
          "font": {
           "color": "#000000"
          },
          "showarrow": false,
          "text": "3.6",
          "x": 1.55,
          "xanchor": "left",
          "xref": "x",
          "y": 5,
          "yref": "y"
         },
         {
          "align": "left",
          "font": {
           "color": "#000000"
          },
          "showarrow": false,
          "text": "1.4",
          "x": 2.55,
          "xanchor": "left",
          "xref": "x",
          "y": 5,
          "yref": "y"
         },
         {
          "align": "left",
          "font": {
           "color": "#000000"
          },
          "showarrow": false,
          "text": "0.2",
          "x": 3.55,
          "xanchor": "left",
          "xref": "x",
          "y": 5,
          "yref": "y"
         },
         {
          "align": "left",
          "font": {
           "color": "#000000"
          },
          "showarrow": false,
          "text": "Iris-setosa",
          "x": 4.55,
          "xanchor": "left",
          "xref": "x",
          "y": 5,
          "yref": "y"
         }
        ],
        "height": 230,
        "margin": {
         "b": 0,
         "l": 0,
         "r": 0,
         "t": 0
        },
        "xaxis": {
         "dtick": 1,
         "gridwidth": 2,
         "showticklabels": false,
         "tick0": -0.5,
         "ticks": "",
         "zeroline": false
        },
        "yaxis": {
         "autorange": "reversed",
         "dtick": 1,
         "gridwidth": 2,
         "showticklabels": false,
         "tick0": 0.5,
         "ticks": "",
         "zeroline": false
        }
       }
      },
      "text/html": [
       "<div id=\"b5ec828f-78b8-40d4-b4d6-04dc2515cb47\" style=\"height: 230px; width: 100%;\" class=\"plotly-graph-div\"></div><script type=\"text/javascript\">require([\"plotly\"], function(Plotly) { window.PLOTLYENV=window.PLOTLYENV || {};window.PLOTLYENV.BASE_URL=\"https://plot.ly\";Plotly.newPlot(\"b5ec828f-78b8-40d4-b4d6-04dc2515cb47\", [{\"z\": [[0, 0, 0, 0, 0, 0], [0.5, 0.5, 0.5, 0.5, 0.5, 0.5], [1, 1, 1, 1, 1, 1], [0.5, 0.5, 0.5, 0.5, 0.5, 0.5], [1, 1, 1, 1, 1, 1], [0.5, 0.5, 0.5, 0.5, 0.5, 0.5]], \"uid\": \"5b2f7331-7e52-4a88-aabf-939f843708b1\", \"opacity\": 0.75, \"showscale\": false, \"colorscale\": [[0, \"#00083e\"], [0.5, \"#ededee\"], [1, \"#ffffff\"]], \"hoverinfo\": \"none\", \"type\": \"heatmap\"}], {\"height\": 230, \"annotations\": [{\"xref\": \"x\", \"yref\": \"y\", \"align\": \"left\", \"showarrow\": false, \"xanchor\": \"left\", \"y\": 0, \"font\": {\"color\": \"#ffffff\"}, \"text\": \"<b>Id</b>\", \"x\": -0.45}, {\"xref\": \"x\", \"yref\": \"y\", \"align\": \"left\", \"showarrow\": false, \"xanchor\": \"left\", \"y\": 0, \"font\": {\"color\": \"#ffffff\"}, \"text\": \"<b>SepalLengthCm</b>\", \"x\": 0.55}, {\"xref\": \"x\", \"yref\": \"y\", \"align\": \"left\", \"showarrow\": false, \"xanchor\": \"left\", \"y\": 0, \"font\": {\"color\": \"#ffffff\"}, \"text\": \"<b>SepalWidthCm</b>\", \"x\": 1.55}, {\"xref\": \"x\", \"yref\": \"y\", \"align\": \"left\", \"showarrow\": false, \"xanchor\": \"left\", \"y\": 0, \"font\": {\"color\": \"#ffffff\"}, \"text\": \"<b>PetalLengthCm</b>\", \"x\": 2.55}, {\"xref\": \"x\", \"yref\": \"y\", \"align\": \"left\", \"showarrow\": false, \"xanchor\": \"left\", \"y\": 0, \"font\": {\"color\": \"#ffffff\"}, \"text\": \"<b>PetalWidthCm</b>\", \"x\": 3.55}, {\"xref\": \"x\", \"yref\": \"y\", \"align\": \"left\", \"showarrow\": false, \"xanchor\": \"left\", \"y\": 0, \"font\": {\"color\": \"#ffffff\"}, \"text\": \"<b>Species</b>\", \"x\": 4.55}, {\"xref\": \"x\", \"yref\": \"y\", \"align\": \"left\", \"showarrow\": false, \"xanchor\": \"left\", \"y\": 1, \"font\": {\"color\": \"#000000\"}, \"text\": \"1\", \"x\": -0.45}, {\"xref\": \"x\", \"yref\": \"y\", \"align\": \"left\", \"showarrow\": false, \"xanchor\": \"left\", \"y\": 1, \"font\": {\"color\": \"#000000\"}, \"text\": \"5.1\", \"x\": 0.55}, {\"xref\": \"x\", \"yref\": \"y\", \"align\": \"left\", \"showarrow\": false, \"xanchor\": \"left\", \"y\": 1, \"font\": {\"color\": \"#000000\"}, \"text\": \"3.5\", \"x\": 1.55}, {\"xref\": \"x\", \"yref\": \"y\", \"align\": \"left\", \"showarrow\": false, \"xanchor\": \"left\", \"y\": 1, \"font\": {\"color\": \"#000000\"}, \"text\": \"1.4\", \"x\": 2.55}, {\"xref\": \"x\", \"yref\": \"y\", \"align\": \"left\", \"showarrow\": false, \"xanchor\": \"left\", \"y\": 1, \"font\": {\"color\": \"#000000\"}, \"text\": \"0.2\", \"x\": 3.55}, {\"xref\": \"x\", \"yref\": \"y\", \"align\": \"left\", \"showarrow\": false, \"xanchor\": \"left\", \"y\": 1, \"font\": {\"color\": \"#000000\"}, \"text\": \"Iris-setosa\", \"x\": 4.55}, {\"xref\": \"x\", \"yref\": \"y\", \"align\": \"left\", \"showarrow\": false, \"xanchor\": \"left\", \"y\": 2, \"font\": {\"color\": \"#000000\"}, \"text\": \"2\", \"x\": -0.45}, {\"xref\": \"x\", \"yref\": \"y\", \"align\": \"left\", \"showarrow\": false, \"xanchor\": \"left\", \"y\": 2, \"font\": {\"color\": \"#000000\"}, \"text\": \"4.9\", \"x\": 0.55}, {\"xref\": \"x\", \"yref\": \"y\", \"align\": \"left\", \"showarrow\": false, \"xanchor\": \"left\", \"y\": 2, \"font\": {\"color\": \"#000000\"}, \"text\": \"3.0\", \"x\": 1.55}, {\"xref\": \"x\", \"yref\": \"y\", \"align\": \"left\", \"showarrow\": false, \"xanchor\": \"left\", \"y\": 2, \"font\": {\"color\": \"#000000\"}, \"text\": \"1.4\", \"x\": 2.55}, {\"xref\": \"x\", \"yref\": \"y\", \"align\": \"left\", \"showarrow\": false, \"xanchor\": \"left\", \"y\": 2, \"font\": {\"color\": \"#000000\"}, \"text\": \"0.2\", \"x\": 3.55}, {\"xref\": \"x\", \"yref\": \"y\", \"align\": \"left\", \"showarrow\": false, \"xanchor\": \"left\", \"y\": 2, \"font\": {\"color\": \"#000000\"}, \"text\": \"Iris-setosa\", \"x\": 4.55}, {\"xref\": \"x\", \"yref\": \"y\", \"align\": \"left\", \"showarrow\": false, \"xanchor\": \"left\", \"y\": 3, \"font\": {\"color\": \"#000000\"}, \"text\": \"3\", \"x\": -0.45}, {\"xref\": \"x\", \"yref\": \"y\", \"align\": \"left\", \"showarrow\": false, \"xanchor\": \"left\", \"y\": 3, \"font\": {\"color\": \"#000000\"}, \"text\": \"4.7\", \"x\": 0.55}, {\"xref\": \"x\", \"yref\": \"y\", \"align\": \"left\", \"showarrow\": false, \"xanchor\": \"left\", \"y\": 3, \"font\": {\"color\": \"#000000\"}, \"text\": \"3.2\", \"x\": 1.55}, {\"xref\": \"x\", \"yref\": \"y\", \"align\": \"left\", \"showarrow\": false, \"xanchor\": \"left\", \"y\": 3, \"font\": {\"color\": \"#000000\"}, \"text\": \"1.3\", \"x\": 2.55}, {\"xref\": \"x\", \"yref\": \"y\", \"align\": \"left\", \"showarrow\": false, \"xanchor\": \"left\", \"y\": 3, \"font\": {\"color\": \"#000000\"}, \"text\": \"0.2\", \"x\": 3.55}, {\"xref\": \"x\", \"yref\": \"y\", \"align\": \"left\", \"showarrow\": false, \"xanchor\": \"left\", \"y\": 3, \"font\": {\"color\": \"#000000\"}, \"text\": \"Iris-setosa\", \"x\": 4.55}, {\"xref\": \"x\", \"yref\": \"y\", \"align\": \"left\", \"showarrow\": false, \"xanchor\": \"left\", \"y\": 4, \"font\": {\"color\": \"#000000\"}, \"text\": \"4\", \"x\": -0.45}, {\"xref\": \"x\", \"yref\": \"y\", \"align\": \"left\", \"showarrow\": false, \"xanchor\": \"left\", \"y\": 4, \"font\": {\"color\": \"#000000\"}, \"text\": \"4.6\", \"x\": 0.55}, {\"xref\": \"x\", \"yref\": \"y\", \"align\": \"left\", \"showarrow\": false, \"xanchor\": \"left\", \"y\": 4, \"font\": {\"color\": \"#000000\"}, \"text\": \"3.1\", \"x\": 1.55}, {\"xref\": \"x\", \"yref\": \"y\", \"align\": \"left\", \"showarrow\": false, \"xanchor\": \"left\", \"y\": 4, \"font\": {\"color\": \"#000000\"}, \"text\": \"1.5\", \"x\": 2.55}, {\"xref\": \"x\", \"yref\": \"y\", \"align\": \"left\", \"showarrow\": false, \"xanchor\": \"left\", \"y\": 4, \"font\": {\"color\": \"#000000\"}, \"text\": \"0.2\", \"x\": 3.55}, {\"xref\": \"x\", \"yref\": \"y\", \"align\": \"left\", \"showarrow\": false, \"xanchor\": \"left\", \"y\": 4, \"font\": {\"color\": \"#000000\"}, \"text\": \"Iris-setosa\", \"x\": 4.55}, {\"xref\": \"x\", \"yref\": \"y\", \"align\": \"left\", \"showarrow\": false, \"xanchor\": \"left\", \"y\": 5, \"font\": {\"color\": \"#000000\"}, \"text\": \"5\", \"x\": -0.45}, {\"xref\": \"x\", \"yref\": \"y\", \"align\": \"left\", \"showarrow\": false, \"xanchor\": \"left\", \"y\": 5, \"font\": {\"color\": \"#000000\"}, \"text\": \"5.0\", \"x\": 0.55}, {\"xref\": \"x\", \"yref\": \"y\", \"align\": \"left\", \"showarrow\": false, \"xanchor\": \"left\", \"y\": 5, \"font\": {\"color\": \"#000000\"}, \"text\": \"3.6\", \"x\": 1.55}, {\"xref\": \"x\", \"yref\": \"y\", \"align\": \"left\", \"showarrow\": false, \"xanchor\": \"left\", \"y\": 5, \"font\": {\"color\": \"#000000\"}, \"text\": \"1.4\", \"x\": 2.55}, {\"xref\": \"x\", \"yref\": \"y\", \"align\": \"left\", \"showarrow\": false, \"xanchor\": \"left\", \"y\": 5, \"font\": {\"color\": \"#000000\"}, \"text\": \"0.2\", \"x\": 3.55}, {\"xref\": \"x\", \"yref\": \"y\", \"align\": \"left\", \"showarrow\": false, \"xanchor\": \"left\", \"y\": 5, \"font\": {\"color\": \"#000000\"}, \"text\": \"Iris-setosa\", \"x\": 4.55}], \"xaxis\": {\"ticks\": \"\", \"gridwidth\": 2, \"showticklabels\": false, \"tick0\": -0.5, \"zeroline\": false, \"dtick\": 1}, \"margin\": {\"b\": 0, \"l\": 0, \"t\": 0, \"r\": 0}, \"yaxis\": {\"autorange\": \"reversed\", \"gridwidth\": 2, \"showticklabels\": false, \"ticks\": \"\", \"zeroline\": false, \"tick0\": 0.5, \"dtick\": 1}}, {\"linkText\": \"Export to plot.ly\", \"plotlyServerURL\": \"https://plot.ly\", \"showLink\": true})});</script><script type=\"text/javascript\">window.addEventListener(\"resize\", function(){window._Plotly.Plots.resize(document.getElementById(\"b5ec828f-78b8-40d4-b4d6-04dc2515cb47\"));});</script>"
      ],
      "text/vnd.plotly.v1+html": [
       "<div id=\"b5ec828f-78b8-40d4-b4d6-04dc2515cb47\" style=\"height: 230px; width: 100%;\" class=\"plotly-graph-div\"></div><script type=\"text/javascript\">require([\"plotly\"], function(Plotly) { window.PLOTLYENV=window.PLOTLYENV || {};window.PLOTLYENV.BASE_URL=\"https://plot.ly\";Plotly.newPlot(\"b5ec828f-78b8-40d4-b4d6-04dc2515cb47\", [{\"z\": [[0, 0, 0, 0, 0, 0], [0.5, 0.5, 0.5, 0.5, 0.5, 0.5], [1, 1, 1, 1, 1, 1], [0.5, 0.5, 0.5, 0.5, 0.5, 0.5], [1, 1, 1, 1, 1, 1], [0.5, 0.5, 0.5, 0.5, 0.5, 0.5]], \"uid\": \"5b2f7331-7e52-4a88-aabf-939f843708b1\", \"opacity\": 0.75, \"showscale\": false, \"colorscale\": [[0, \"#00083e\"], [0.5, \"#ededee\"], [1, \"#ffffff\"]], \"hoverinfo\": \"none\", \"type\": \"heatmap\"}], {\"height\": 230, \"annotations\": [{\"xref\": \"x\", \"yref\": \"y\", \"align\": \"left\", \"showarrow\": false, \"xanchor\": \"left\", \"y\": 0, \"font\": {\"color\": \"#ffffff\"}, \"text\": \"<b>Id</b>\", \"x\": -0.45}, {\"xref\": \"x\", \"yref\": \"y\", \"align\": \"left\", \"showarrow\": false, \"xanchor\": \"left\", \"y\": 0, \"font\": {\"color\": \"#ffffff\"}, \"text\": \"<b>SepalLengthCm</b>\", \"x\": 0.55}, {\"xref\": \"x\", \"yref\": \"y\", \"align\": \"left\", \"showarrow\": false, \"xanchor\": \"left\", \"y\": 0, \"font\": {\"color\": \"#ffffff\"}, \"text\": \"<b>SepalWidthCm</b>\", \"x\": 1.55}, {\"xref\": \"x\", \"yref\": \"y\", \"align\": \"left\", \"showarrow\": false, \"xanchor\": \"left\", \"y\": 0, \"font\": {\"color\": \"#ffffff\"}, \"text\": \"<b>PetalLengthCm</b>\", \"x\": 2.55}, {\"xref\": \"x\", \"yref\": \"y\", \"align\": \"left\", \"showarrow\": false, \"xanchor\": \"left\", \"y\": 0, \"font\": {\"color\": \"#ffffff\"}, \"text\": \"<b>PetalWidthCm</b>\", \"x\": 3.55}, {\"xref\": \"x\", \"yref\": \"y\", \"align\": \"left\", \"showarrow\": false, \"xanchor\": \"left\", \"y\": 0, \"font\": {\"color\": \"#ffffff\"}, \"text\": \"<b>Species</b>\", \"x\": 4.55}, {\"xref\": \"x\", \"yref\": \"y\", \"align\": \"left\", \"showarrow\": false, \"xanchor\": \"left\", \"y\": 1, \"font\": {\"color\": \"#000000\"}, \"text\": \"1\", \"x\": -0.45}, {\"xref\": \"x\", \"yref\": \"y\", \"align\": \"left\", \"showarrow\": false, \"xanchor\": \"left\", \"y\": 1, \"font\": {\"color\": \"#000000\"}, \"text\": \"5.1\", \"x\": 0.55}, {\"xref\": \"x\", \"yref\": \"y\", \"align\": \"left\", \"showarrow\": false, \"xanchor\": \"left\", \"y\": 1, \"font\": {\"color\": \"#000000\"}, \"text\": \"3.5\", \"x\": 1.55}, {\"xref\": \"x\", \"yref\": \"y\", \"align\": \"left\", \"showarrow\": false, \"xanchor\": \"left\", \"y\": 1, \"font\": {\"color\": \"#000000\"}, \"text\": \"1.4\", \"x\": 2.55}, {\"xref\": \"x\", \"yref\": \"y\", \"align\": \"left\", \"showarrow\": false, \"xanchor\": \"left\", \"y\": 1, \"font\": {\"color\": \"#000000\"}, \"text\": \"0.2\", \"x\": 3.55}, {\"xref\": \"x\", \"yref\": \"y\", \"align\": \"left\", \"showarrow\": false, \"xanchor\": \"left\", \"y\": 1, \"font\": {\"color\": \"#000000\"}, \"text\": \"Iris-setosa\", \"x\": 4.55}, {\"xref\": \"x\", \"yref\": \"y\", \"align\": \"left\", \"showarrow\": false, \"xanchor\": \"left\", \"y\": 2, \"font\": {\"color\": \"#000000\"}, \"text\": \"2\", \"x\": -0.45}, {\"xref\": \"x\", \"yref\": \"y\", \"align\": \"left\", \"showarrow\": false, \"xanchor\": \"left\", \"y\": 2, \"font\": {\"color\": \"#000000\"}, \"text\": \"4.9\", \"x\": 0.55}, {\"xref\": \"x\", \"yref\": \"y\", \"align\": \"left\", \"showarrow\": false, \"xanchor\": \"left\", \"y\": 2, \"font\": {\"color\": \"#000000\"}, \"text\": \"3.0\", \"x\": 1.55}, {\"xref\": \"x\", \"yref\": \"y\", \"align\": \"left\", \"showarrow\": false, \"xanchor\": \"left\", \"y\": 2, \"font\": {\"color\": \"#000000\"}, \"text\": \"1.4\", \"x\": 2.55}, {\"xref\": \"x\", \"yref\": \"y\", \"align\": \"left\", \"showarrow\": false, \"xanchor\": \"left\", \"y\": 2, \"font\": {\"color\": \"#000000\"}, \"text\": \"0.2\", \"x\": 3.55}, {\"xref\": \"x\", \"yref\": \"y\", \"align\": \"left\", \"showarrow\": false, \"xanchor\": \"left\", \"y\": 2, \"font\": {\"color\": \"#000000\"}, \"text\": \"Iris-setosa\", \"x\": 4.55}, {\"xref\": \"x\", \"yref\": \"y\", \"align\": \"left\", \"showarrow\": false, \"xanchor\": \"left\", \"y\": 3, \"font\": {\"color\": \"#000000\"}, \"text\": \"3\", \"x\": -0.45}, {\"xref\": \"x\", \"yref\": \"y\", \"align\": \"left\", \"showarrow\": false, \"xanchor\": \"left\", \"y\": 3, \"font\": {\"color\": \"#000000\"}, \"text\": \"4.7\", \"x\": 0.55}, {\"xref\": \"x\", \"yref\": \"y\", \"align\": \"left\", \"showarrow\": false, \"xanchor\": \"left\", \"y\": 3, \"font\": {\"color\": \"#000000\"}, \"text\": \"3.2\", \"x\": 1.55}, {\"xref\": \"x\", \"yref\": \"y\", \"align\": \"left\", \"showarrow\": false, \"xanchor\": \"left\", \"y\": 3, \"font\": {\"color\": \"#000000\"}, \"text\": \"1.3\", \"x\": 2.55}, {\"xref\": \"x\", \"yref\": \"y\", \"align\": \"left\", \"showarrow\": false, \"xanchor\": \"left\", \"y\": 3, \"font\": {\"color\": \"#000000\"}, \"text\": \"0.2\", \"x\": 3.55}, {\"xref\": \"x\", \"yref\": \"y\", \"align\": \"left\", \"showarrow\": false, \"xanchor\": \"left\", \"y\": 3, \"font\": {\"color\": \"#000000\"}, \"text\": \"Iris-setosa\", \"x\": 4.55}, {\"xref\": \"x\", \"yref\": \"y\", \"align\": \"left\", \"showarrow\": false, \"xanchor\": \"left\", \"y\": 4, \"font\": {\"color\": \"#000000\"}, \"text\": \"4\", \"x\": -0.45}, {\"xref\": \"x\", \"yref\": \"y\", \"align\": \"left\", \"showarrow\": false, \"xanchor\": \"left\", \"y\": 4, \"font\": {\"color\": \"#000000\"}, \"text\": \"4.6\", \"x\": 0.55}, {\"xref\": \"x\", \"yref\": \"y\", \"align\": \"left\", \"showarrow\": false, \"xanchor\": \"left\", \"y\": 4, \"font\": {\"color\": \"#000000\"}, \"text\": \"3.1\", \"x\": 1.55}, {\"xref\": \"x\", \"yref\": \"y\", \"align\": \"left\", \"showarrow\": false, \"xanchor\": \"left\", \"y\": 4, \"font\": {\"color\": \"#000000\"}, \"text\": \"1.5\", \"x\": 2.55}, {\"xref\": \"x\", \"yref\": \"y\", \"align\": \"left\", \"showarrow\": false, \"xanchor\": \"left\", \"y\": 4, \"font\": {\"color\": \"#000000\"}, \"text\": \"0.2\", \"x\": 3.55}, {\"xref\": \"x\", \"yref\": \"y\", \"align\": \"left\", \"showarrow\": false, \"xanchor\": \"left\", \"y\": 4, \"font\": {\"color\": \"#000000\"}, \"text\": \"Iris-setosa\", \"x\": 4.55}, {\"xref\": \"x\", \"yref\": \"y\", \"align\": \"left\", \"showarrow\": false, \"xanchor\": \"left\", \"y\": 5, \"font\": {\"color\": \"#000000\"}, \"text\": \"5\", \"x\": -0.45}, {\"xref\": \"x\", \"yref\": \"y\", \"align\": \"left\", \"showarrow\": false, \"xanchor\": \"left\", \"y\": 5, \"font\": {\"color\": \"#000000\"}, \"text\": \"5.0\", \"x\": 0.55}, {\"xref\": \"x\", \"yref\": \"y\", \"align\": \"left\", \"showarrow\": false, \"xanchor\": \"left\", \"y\": 5, \"font\": {\"color\": \"#000000\"}, \"text\": \"3.6\", \"x\": 1.55}, {\"xref\": \"x\", \"yref\": \"y\", \"align\": \"left\", \"showarrow\": false, \"xanchor\": \"left\", \"y\": 5, \"font\": {\"color\": \"#000000\"}, \"text\": \"1.4\", \"x\": 2.55}, {\"xref\": \"x\", \"yref\": \"y\", \"align\": \"left\", \"showarrow\": false, \"xanchor\": \"left\", \"y\": 5, \"font\": {\"color\": \"#000000\"}, \"text\": \"0.2\", \"x\": 3.55}, {\"xref\": \"x\", \"yref\": \"y\", \"align\": \"left\", \"showarrow\": false, \"xanchor\": \"left\", \"y\": 5, \"font\": {\"color\": \"#000000\"}, \"text\": \"Iris-setosa\", \"x\": 4.55}], \"xaxis\": {\"ticks\": \"\", \"gridwidth\": 2, \"showticklabels\": false, \"tick0\": -0.5, \"zeroline\": false, \"dtick\": 1}, \"margin\": {\"b\": 0, \"l\": 0, \"t\": 0, \"r\": 0}, \"yaxis\": {\"autorange\": \"reversed\", \"gridwidth\": 2, \"showticklabels\": false, \"ticks\": \"\", \"zeroline\": false, \"tick0\": 0.5, \"dtick\": 1}}, {\"linkText\": \"Export to plot.ly\", \"plotlyServerURL\": \"https://plot.ly\", \"showLink\": true})});</script><script type=\"text/javascript\">window.addEventListener(\"resize\", function(){window._Plotly.Plots.resize(document.getElementById(\"b5ec828f-78b8-40d4-b4d6-04dc2515cb47\"));});</script>"
      ]
     },
     "metadata": {},
     "output_type": "display_data"
    }
   ],
   "source": [
    "py.iplot(table,filename='jupyter-table1')"
   ]
  },
  {
   "cell_type": "code",
   "execution_count": 4,
   "metadata": {
    "_kg_hide-input": true,
    "_uuid": "60779db42446412a6b94d353e9173285351042e2"
   },
   "outputs": [
    {
     "data": {
      "application/vnd.plotly.v1+json": {
       "config": {
        "linkText": "Export to plot.ly",
        "plotlyServerURL": "https://plot.ly",
        "showLink": true
       },
       "data": [
        {
         "colorscale": [
          [
           0,
           "#00083e"
          ],
          [
           0.5,
           "#ededee"
          ],
          [
           1,
           "#ffffff"
          ]
         ],
         "hoverinfo": "none",
         "opacity": 0.75,
         "showscale": false,
         "type": "heatmap",
         "uid": "dd3cceb2-51cb-4983-921d-b1c948fcfca8",
         "z": [
          [
           0,
           0,
           0,
           0,
           0
          ],
          [
           0.5,
           0.5,
           0.5,
           0.5,
           0.5
          ],
          [
           1,
           1,
           1,
           1,
           1
          ],
          [
           0.5,
           0.5,
           0.5,
           0.5,
           0.5
          ],
          [
           1,
           1,
           1,
           1,
           1
          ],
          [
           0.5,
           0.5,
           0.5,
           0.5,
           0.5
          ],
          [
           1,
           1,
           1,
           1,
           1
          ],
          [
           0.5,
           0.5,
           0.5,
           0.5,
           0.5
          ],
          [
           1,
           1,
           1,
           1,
           1
          ]
         ]
        }
       ],
       "layout": {
        "annotations": [
         {
          "align": "left",
          "font": {
           "color": "#ffffff"
          },
          "showarrow": false,
          "text": "<b>Id</b>",
          "x": -0.45,
          "xanchor": "left",
          "xref": "x",
          "y": 0,
          "yref": "y"
         },
         {
          "align": "left",
          "font": {
           "color": "#ffffff"
          },
          "showarrow": false,
          "text": "<b>SepalLengthCm</b>",
          "x": 0.55,
          "xanchor": "left",
          "xref": "x",
          "y": 0,
          "yref": "y"
         },
         {
          "align": "left",
          "font": {
           "color": "#ffffff"
          },
          "showarrow": false,
          "text": "<b>SepalWidthCm</b>",
          "x": 1.55,
          "xanchor": "left",
          "xref": "x",
          "y": 0,
          "yref": "y"
         },
         {
          "align": "left",
          "font": {
           "color": "#ffffff"
          },
          "showarrow": false,
          "text": "<b>PetalLengthCm</b>",
          "x": 2.55,
          "xanchor": "left",
          "xref": "x",
          "y": 0,
          "yref": "y"
         },
         {
          "align": "left",
          "font": {
           "color": "#ffffff"
          },
          "showarrow": false,
          "text": "<b>PetalWidthCm</b>",
          "x": 3.55,
          "xanchor": "left",
          "xref": "x",
          "y": 0,
          "yref": "y"
         },
         {
          "align": "left",
          "font": {
           "color": "#000000"
          },
          "showarrow": false,
          "text": "150.0",
          "x": -0.45,
          "xanchor": "left",
          "xref": "x",
          "y": 1,
          "yref": "y"
         },
         {
          "align": "left",
          "font": {
           "color": "#000000"
          },
          "showarrow": false,
          "text": "150.0",
          "x": 0.55,
          "xanchor": "left",
          "xref": "x",
          "y": 1,
          "yref": "y"
         },
         {
          "align": "left",
          "font": {
           "color": "#000000"
          },
          "showarrow": false,
          "text": "150.0",
          "x": 1.55,
          "xanchor": "left",
          "xref": "x",
          "y": 1,
          "yref": "y"
         },
         {
          "align": "left",
          "font": {
           "color": "#000000"
          },
          "showarrow": false,
          "text": "150.0",
          "x": 2.55,
          "xanchor": "left",
          "xref": "x",
          "y": 1,
          "yref": "y"
         },
         {
          "align": "left",
          "font": {
           "color": "#000000"
          },
          "showarrow": false,
          "text": "150.0",
          "x": 3.55,
          "xanchor": "left",
          "xref": "x",
          "y": 1,
          "yref": "y"
         },
         {
          "align": "left",
          "font": {
           "color": "#000000"
          },
          "showarrow": false,
          "text": "75.5",
          "x": -0.45,
          "xanchor": "left",
          "xref": "x",
          "y": 2,
          "yref": "y"
         },
         {
          "align": "left",
          "font": {
           "color": "#000000"
          },
          "showarrow": false,
          "text": "5.843333333333334",
          "x": 0.55,
          "xanchor": "left",
          "xref": "x",
          "y": 2,
          "yref": "y"
         },
         {
          "align": "left",
          "font": {
           "color": "#000000"
          },
          "showarrow": false,
          "text": "3.0540000000000003",
          "x": 1.55,
          "xanchor": "left",
          "xref": "x",
          "y": 2,
          "yref": "y"
         },
         {
          "align": "left",
          "font": {
           "color": "#000000"
          },
          "showarrow": false,
          "text": "3.758666666666666",
          "x": 2.55,
          "xanchor": "left",
          "xref": "x",
          "y": 2,
          "yref": "y"
         },
         {
          "align": "left",
          "font": {
           "color": "#000000"
          },
          "showarrow": false,
          "text": "1.1986666666666668",
          "x": 3.55,
          "xanchor": "left",
          "xref": "x",
          "y": 2,
          "yref": "y"
         },
         {
          "align": "left",
          "font": {
           "color": "#000000"
          },
          "showarrow": false,
          "text": "43.445367992456916",
          "x": -0.45,
          "xanchor": "left",
          "xref": "x",
          "y": 3,
          "yref": "y"
         },
         {
          "align": "left",
          "font": {
           "color": "#000000"
          },
          "showarrow": false,
          "text": "0.828066127977863",
          "x": 0.55,
          "xanchor": "left",
          "xref": "x",
          "y": 3,
          "yref": "y"
         },
         {
          "align": "left",
          "font": {
           "color": "#000000"
          },
          "showarrow": false,
          "text": "0.4335943113621737",
          "x": 1.55,
          "xanchor": "left",
          "xref": "x",
          "y": 3,
          "yref": "y"
         },
         {
          "align": "left",
          "font": {
           "color": "#000000"
          },
          "showarrow": false,
          "text": "1.7644204199522626",
          "x": 2.55,
          "xanchor": "left",
          "xref": "x",
          "y": 3,
          "yref": "y"
         },
         {
          "align": "left",
          "font": {
           "color": "#000000"
          },
          "showarrow": false,
          "text": "0.7631607417008411",
          "x": 3.55,
          "xanchor": "left",
          "xref": "x",
          "y": 3,
          "yref": "y"
         },
         {
          "align": "left",
          "font": {
           "color": "#000000"
          },
          "showarrow": false,
          "text": "1.0",
          "x": -0.45,
          "xanchor": "left",
          "xref": "x",
          "y": 4,
          "yref": "y"
         },
         {
          "align": "left",
          "font": {
           "color": "#000000"
          },
          "showarrow": false,
          "text": "4.3",
          "x": 0.55,
          "xanchor": "left",
          "xref": "x",
          "y": 4,
          "yref": "y"
         },
         {
          "align": "left",
          "font": {
           "color": "#000000"
          },
          "showarrow": false,
          "text": "2.0",
          "x": 1.55,
          "xanchor": "left",
          "xref": "x",
          "y": 4,
          "yref": "y"
         },
         {
          "align": "left",
          "font": {
           "color": "#000000"
          },
          "showarrow": false,
          "text": "1.0",
          "x": 2.55,
          "xanchor": "left",
          "xref": "x",
          "y": 4,
          "yref": "y"
         },
         {
          "align": "left",
          "font": {
           "color": "#000000"
          },
          "showarrow": false,
          "text": "0.1",
          "x": 3.55,
          "xanchor": "left",
          "xref": "x",
          "y": 4,
          "yref": "y"
         },
         {
          "align": "left",
          "font": {
           "color": "#000000"
          },
          "showarrow": false,
          "text": "38.25",
          "x": -0.45,
          "xanchor": "left",
          "xref": "x",
          "y": 5,
          "yref": "y"
         },
         {
          "align": "left",
          "font": {
           "color": "#000000"
          },
          "showarrow": false,
          "text": "5.1",
          "x": 0.55,
          "xanchor": "left",
          "xref": "x",
          "y": 5,
          "yref": "y"
         },
         {
          "align": "left",
          "font": {
           "color": "#000000"
          },
          "showarrow": false,
          "text": "2.8",
          "x": 1.55,
          "xanchor": "left",
          "xref": "x",
          "y": 5,
          "yref": "y"
         },
         {
          "align": "left",
          "font": {
           "color": "#000000"
          },
          "showarrow": false,
          "text": "1.6",
          "x": 2.55,
          "xanchor": "left",
          "xref": "x",
          "y": 5,
          "yref": "y"
         },
         {
          "align": "left",
          "font": {
           "color": "#000000"
          },
          "showarrow": false,
          "text": "0.3",
          "x": 3.55,
          "xanchor": "left",
          "xref": "x",
          "y": 5,
          "yref": "y"
         },
         {
          "align": "left",
          "font": {
           "color": "#000000"
          },
          "showarrow": false,
          "text": "75.5",
          "x": -0.45,
          "xanchor": "left",
          "xref": "x",
          "y": 6,
          "yref": "y"
         },
         {
          "align": "left",
          "font": {
           "color": "#000000"
          },
          "showarrow": false,
          "text": "5.8",
          "x": 0.55,
          "xanchor": "left",
          "xref": "x",
          "y": 6,
          "yref": "y"
         },
         {
          "align": "left",
          "font": {
           "color": "#000000"
          },
          "showarrow": false,
          "text": "3.0",
          "x": 1.55,
          "xanchor": "left",
          "xref": "x",
          "y": 6,
          "yref": "y"
         },
         {
          "align": "left",
          "font": {
           "color": "#000000"
          },
          "showarrow": false,
          "text": "4.35",
          "x": 2.55,
          "xanchor": "left",
          "xref": "x",
          "y": 6,
          "yref": "y"
         },
         {
          "align": "left",
          "font": {
           "color": "#000000"
          },
          "showarrow": false,
          "text": "1.3",
          "x": 3.55,
          "xanchor": "left",
          "xref": "x",
          "y": 6,
          "yref": "y"
         },
         {
          "align": "left",
          "font": {
           "color": "#000000"
          },
          "showarrow": false,
          "text": "112.75",
          "x": -0.45,
          "xanchor": "left",
          "xref": "x",
          "y": 7,
          "yref": "y"
         },
         {
          "align": "left",
          "font": {
           "color": "#000000"
          },
          "showarrow": false,
          "text": "6.4",
          "x": 0.55,
          "xanchor": "left",
          "xref": "x",
          "y": 7,
          "yref": "y"
         },
         {
          "align": "left",
          "font": {
           "color": "#000000"
          },
          "showarrow": false,
          "text": "3.3",
          "x": 1.55,
          "xanchor": "left",
          "xref": "x",
          "y": 7,
          "yref": "y"
         },
         {
          "align": "left",
          "font": {
           "color": "#000000"
          },
          "showarrow": false,
          "text": "5.1",
          "x": 2.55,
          "xanchor": "left",
          "xref": "x",
          "y": 7,
          "yref": "y"
         },
         {
          "align": "left",
          "font": {
           "color": "#000000"
          },
          "showarrow": false,
          "text": "1.8",
          "x": 3.55,
          "xanchor": "left",
          "xref": "x",
          "y": 7,
          "yref": "y"
         },
         {
          "align": "left",
          "font": {
           "color": "#000000"
          },
          "showarrow": false,
          "text": "150.0",
          "x": -0.45,
          "xanchor": "left",
          "xref": "x",
          "y": 8,
          "yref": "y"
         },
         {
          "align": "left",
          "font": {
           "color": "#000000"
          },
          "showarrow": false,
          "text": "7.9",
          "x": 0.55,
          "xanchor": "left",
          "xref": "x",
          "y": 8,
          "yref": "y"
         },
         {
          "align": "left",
          "font": {
           "color": "#000000"
          },
          "showarrow": false,
          "text": "4.4",
          "x": 1.55,
          "xanchor": "left",
          "xref": "x",
          "y": 8,
          "yref": "y"
         },
         {
          "align": "left",
          "font": {
           "color": "#000000"
          },
          "showarrow": false,
          "text": "6.9",
          "x": 2.55,
          "xanchor": "left",
          "xref": "x",
          "y": 8,
          "yref": "y"
         },
         {
          "align": "left",
          "font": {
           "color": "#000000"
          },
          "showarrow": false,
          "text": "2.5",
          "x": 3.55,
          "xanchor": "left",
          "xref": "x",
          "y": 8,
          "yref": "y"
         }
        ],
        "height": 320,
        "margin": {
         "b": 0,
         "l": 0,
         "r": 0,
         "t": 0
        },
        "xaxis": {
         "dtick": 1,
         "gridwidth": 2,
         "showticklabels": false,
         "tick0": -0.5,
         "ticks": "",
         "zeroline": false
        },
        "yaxis": {
         "autorange": "reversed",
         "dtick": 1,
         "gridwidth": 2,
         "showticklabels": false,
         "tick0": 0.5,
         "ticks": "",
         "zeroline": false
        }
       }
      },
      "text/html": [
       "<div id=\"e5fcc5d7-aac6-42ee-8cc7-4448d40fd96b\" style=\"height: 320px; width: 100%;\" class=\"plotly-graph-div\"></div><script type=\"text/javascript\">require([\"plotly\"], function(Plotly) { window.PLOTLYENV=window.PLOTLYENV || {};window.PLOTLYENV.BASE_URL=\"https://plot.ly\";Plotly.newPlot(\"e5fcc5d7-aac6-42ee-8cc7-4448d40fd96b\", [{\"z\": [[0, 0, 0, 0, 0], [0.5, 0.5, 0.5, 0.5, 0.5], [1, 1, 1, 1, 1], [0.5, 0.5, 0.5, 0.5, 0.5], [1, 1, 1, 1, 1], [0.5, 0.5, 0.5, 0.5, 0.5], [1, 1, 1, 1, 1], [0.5, 0.5, 0.5, 0.5, 0.5], [1, 1, 1, 1, 1]], \"uid\": \"dd3cceb2-51cb-4983-921d-b1c948fcfca8\", \"opacity\": 0.75, \"showscale\": false, \"colorscale\": [[0, \"#00083e\"], [0.5, \"#ededee\"], [1, \"#ffffff\"]], \"hoverinfo\": \"none\", \"type\": \"heatmap\"}], {\"height\": 320, \"annotations\": [{\"xref\": \"x\", \"yref\": \"y\", \"align\": \"left\", \"showarrow\": false, \"xanchor\": \"left\", \"y\": 0, \"font\": {\"color\": \"#ffffff\"}, \"text\": \"<b>Id</b>\", \"x\": -0.45}, {\"xref\": \"x\", \"yref\": \"y\", \"align\": \"left\", \"showarrow\": false, \"xanchor\": \"left\", \"y\": 0, \"font\": {\"color\": \"#ffffff\"}, \"text\": \"<b>SepalLengthCm</b>\", \"x\": 0.55}, {\"xref\": \"x\", \"yref\": \"y\", \"align\": \"left\", \"showarrow\": false, \"xanchor\": \"left\", \"y\": 0, \"font\": {\"color\": \"#ffffff\"}, \"text\": \"<b>SepalWidthCm</b>\", \"x\": 1.55}, {\"xref\": \"x\", \"yref\": \"y\", \"align\": \"left\", \"showarrow\": false, \"xanchor\": \"left\", \"y\": 0, \"font\": {\"color\": \"#ffffff\"}, \"text\": \"<b>PetalLengthCm</b>\", \"x\": 2.55}, {\"xref\": \"x\", \"yref\": \"y\", \"align\": \"left\", \"showarrow\": false, \"xanchor\": \"left\", \"y\": 0, \"font\": {\"color\": \"#ffffff\"}, \"text\": \"<b>PetalWidthCm</b>\", \"x\": 3.55}, {\"xref\": \"x\", \"yref\": \"y\", \"align\": \"left\", \"showarrow\": false, \"xanchor\": \"left\", \"y\": 1, \"font\": {\"color\": \"#000000\"}, \"text\": \"150.0\", \"x\": -0.45}, {\"xref\": \"x\", \"yref\": \"y\", \"align\": \"left\", \"showarrow\": false, \"xanchor\": \"left\", \"y\": 1, \"font\": {\"color\": \"#000000\"}, \"text\": \"150.0\", \"x\": 0.55}, {\"xref\": \"x\", \"yref\": \"y\", \"align\": \"left\", \"showarrow\": false, \"xanchor\": \"left\", \"y\": 1, \"font\": {\"color\": \"#000000\"}, \"text\": \"150.0\", \"x\": 1.55}, {\"xref\": \"x\", \"yref\": \"y\", \"align\": \"left\", \"showarrow\": false, \"xanchor\": \"left\", \"y\": 1, \"font\": {\"color\": \"#000000\"}, \"text\": \"150.0\", \"x\": 2.55}, {\"xref\": \"x\", \"yref\": \"y\", \"align\": \"left\", \"showarrow\": false, \"xanchor\": \"left\", \"y\": 1, \"font\": {\"color\": \"#000000\"}, \"text\": \"150.0\", \"x\": 3.55}, {\"xref\": \"x\", \"yref\": \"y\", \"align\": \"left\", \"showarrow\": false, \"xanchor\": \"left\", \"y\": 2, \"font\": {\"color\": \"#000000\"}, \"text\": \"75.5\", \"x\": -0.45}, {\"xref\": \"x\", \"yref\": \"y\", \"align\": \"left\", \"showarrow\": false, \"xanchor\": \"left\", \"y\": 2, \"font\": {\"color\": \"#000000\"}, \"text\": \"5.843333333333334\", \"x\": 0.55}, {\"xref\": \"x\", \"yref\": \"y\", \"align\": \"left\", \"showarrow\": false, \"xanchor\": \"left\", \"y\": 2, \"font\": {\"color\": \"#000000\"}, \"text\": \"3.0540000000000003\", \"x\": 1.55}, {\"xref\": \"x\", \"yref\": \"y\", \"align\": \"left\", \"showarrow\": false, \"xanchor\": \"left\", \"y\": 2, \"font\": {\"color\": \"#000000\"}, \"text\": \"3.758666666666666\", \"x\": 2.55}, {\"xref\": \"x\", \"yref\": \"y\", \"align\": \"left\", \"showarrow\": false, \"xanchor\": \"left\", \"y\": 2, \"font\": {\"color\": \"#000000\"}, \"text\": \"1.1986666666666668\", \"x\": 3.55}, {\"xref\": \"x\", \"yref\": \"y\", \"align\": \"left\", \"showarrow\": false, \"xanchor\": \"left\", \"y\": 3, \"font\": {\"color\": \"#000000\"}, \"text\": \"43.445367992456916\", \"x\": -0.45}, {\"xref\": \"x\", \"yref\": \"y\", \"align\": \"left\", \"showarrow\": false, \"xanchor\": \"left\", \"y\": 3, \"font\": {\"color\": \"#000000\"}, \"text\": \"0.828066127977863\", \"x\": 0.55}, {\"xref\": \"x\", \"yref\": \"y\", \"align\": \"left\", \"showarrow\": false, \"xanchor\": \"left\", \"y\": 3, \"font\": {\"color\": \"#000000\"}, \"text\": \"0.4335943113621737\", \"x\": 1.55}, {\"xref\": \"x\", \"yref\": \"y\", \"align\": \"left\", \"showarrow\": false, \"xanchor\": \"left\", \"y\": 3, \"font\": {\"color\": \"#000000\"}, \"text\": \"1.7644204199522626\", \"x\": 2.55}, {\"xref\": \"x\", \"yref\": \"y\", \"align\": \"left\", \"showarrow\": false, \"xanchor\": \"left\", \"y\": 3, \"font\": {\"color\": \"#000000\"}, \"text\": \"0.7631607417008411\", \"x\": 3.55}, {\"xref\": \"x\", \"yref\": \"y\", \"align\": \"left\", \"showarrow\": false, \"xanchor\": \"left\", \"y\": 4, \"font\": {\"color\": \"#000000\"}, \"text\": \"1.0\", \"x\": -0.45}, {\"xref\": \"x\", \"yref\": \"y\", \"align\": \"left\", \"showarrow\": false, \"xanchor\": \"left\", \"y\": 4, \"font\": {\"color\": \"#000000\"}, \"text\": \"4.3\", \"x\": 0.55}, {\"xref\": \"x\", \"yref\": \"y\", \"align\": \"left\", \"showarrow\": false, \"xanchor\": \"left\", \"y\": 4, \"font\": {\"color\": \"#000000\"}, \"text\": \"2.0\", \"x\": 1.55}, {\"xref\": \"x\", \"yref\": \"y\", \"align\": \"left\", \"showarrow\": false, \"xanchor\": \"left\", \"y\": 4, \"font\": {\"color\": \"#000000\"}, \"text\": \"1.0\", \"x\": 2.55}, {\"xref\": \"x\", \"yref\": \"y\", \"align\": \"left\", \"showarrow\": false, \"xanchor\": \"left\", \"y\": 4, \"font\": {\"color\": \"#000000\"}, \"text\": \"0.1\", \"x\": 3.55}, {\"xref\": \"x\", \"yref\": \"y\", \"align\": \"left\", \"showarrow\": false, \"xanchor\": \"left\", \"y\": 5, \"font\": {\"color\": \"#000000\"}, \"text\": \"38.25\", \"x\": -0.45}, {\"xref\": \"x\", \"yref\": \"y\", \"align\": \"left\", \"showarrow\": false, \"xanchor\": \"left\", \"y\": 5, \"font\": {\"color\": \"#000000\"}, \"text\": \"5.1\", \"x\": 0.55}, {\"xref\": \"x\", \"yref\": \"y\", \"align\": \"left\", \"showarrow\": false, \"xanchor\": \"left\", \"y\": 5, \"font\": {\"color\": \"#000000\"}, \"text\": \"2.8\", \"x\": 1.55}, {\"xref\": \"x\", \"yref\": \"y\", \"align\": \"left\", \"showarrow\": false, \"xanchor\": \"left\", \"y\": 5, \"font\": {\"color\": \"#000000\"}, \"text\": \"1.6\", \"x\": 2.55}, {\"xref\": \"x\", \"yref\": \"y\", \"align\": \"left\", \"showarrow\": false, \"xanchor\": \"left\", \"y\": 5, \"font\": {\"color\": \"#000000\"}, \"text\": \"0.3\", \"x\": 3.55}, {\"xref\": \"x\", \"yref\": \"y\", \"align\": \"left\", \"showarrow\": false, \"xanchor\": \"left\", \"y\": 6, \"font\": {\"color\": \"#000000\"}, \"text\": \"75.5\", \"x\": -0.45}, {\"xref\": \"x\", \"yref\": \"y\", \"align\": \"left\", \"showarrow\": false, \"xanchor\": \"left\", \"y\": 6, \"font\": {\"color\": \"#000000\"}, \"text\": \"5.8\", \"x\": 0.55}, {\"xref\": \"x\", \"yref\": \"y\", \"align\": \"left\", \"showarrow\": false, \"xanchor\": \"left\", \"y\": 6, \"font\": {\"color\": \"#000000\"}, \"text\": \"3.0\", \"x\": 1.55}, {\"xref\": \"x\", \"yref\": \"y\", \"align\": \"left\", \"showarrow\": false, \"xanchor\": \"left\", \"y\": 6, \"font\": {\"color\": \"#000000\"}, \"text\": \"4.35\", \"x\": 2.55}, {\"xref\": \"x\", \"yref\": \"y\", \"align\": \"left\", \"showarrow\": false, \"xanchor\": \"left\", \"y\": 6, \"font\": {\"color\": \"#000000\"}, \"text\": \"1.3\", \"x\": 3.55}, {\"xref\": \"x\", \"yref\": \"y\", \"align\": \"left\", \"showarrow\": false, \"xanchor\": \"left\", \"y\": 7, \"font\": {\"color\": \"#000000\"}, \"text\": \"112.75\", \"x\": -0.45}, {\"xref\": \"x\", \"yref\": \"y\", \"align\": \"left\", \"showarrow\": false, \"xanchor\": \"left\", \"y\": 7, \"font\": {\"color\": \"#000000\"}, \"text\": \"6.4\", \"x\": 0.55}, {\"xref\": \"x\", \"yref\": \"y\", \"align\": \"left\", \"showarrow\": false, \"xanchor\": \"left\", \"y\": 7, \"font\": {\"color\": \"#000000\"}, \"text\": \"3.3\", \"x\": 1.55}, {\"xref\": \"x\", \"yref\": \"y\", \"align\": \"left\", \"showarrow\": false, \"xanchor\": \"left\", \"y\": 7, \"font\": {\"color\": \"#000000\"}, \"text\": \"5.1\", \"x\": 2.55}, {\"xref\": \"x\", \"yref\": \"y\", \"align\": \"left\", \"showarrow\": false, \"xanchor\": \"left\", \"y\": 7, \"font\": {\"color\": \"#000000\"}, \"text\": \"1.8\", \"x\": 3.55}, {\"xref\": \"x\", \"yref\": \"y\", \"align\": \"left\", \"showarrow\": false, \"xanchor\": \"left\", \"y\": 8, \"font\": {\"color\": \"#000000\"}, \"text\": \"150.0\", \"x\": -0.45}, {\"xref\": \"x\", \"yref\": \"y\", \"align\": \"left\", \"showarrow\": false, \"xanchor\": \"left\", \"y\": 8, \"font\": {\"color\": \"#000000\"}, \"text\": \"7.9\", \"x\": 0.55}, {\"xref\": \"x\", \"yref\": \"y\", \"align\": \"left\", \"showarrow\": false, \"xanchor\": \"left\", \"y\": 8, \"font\": {\"color\": \"#000000\"}, \"text\": \"4.4\", \"x\": 1.55}, {\"xref\": \"x\", \"yref\": \"y\", \"align\": \"left\", \"showarrow\": false, \"xanchor\": \"left\", \"y\": 8, \"font\": {\"color\": \"#000000\"}, \"text\": \"6.9\", \"x\": 2.55}, {\"xref\": \"x\", \"yref\": \"y\", \"align\": \"left\", \"showarrow\": false, \"xanchor\": \"left\", \"y\": 8, \"font\": {\"color\": \"#000000\"}, \"text\": \"2.5\", \"x\": 3.55}], \"xaxis\": {\"ticks\": \"\", \"gridwidth\": 2, \"showticklabels\": false, \"tick0\": -0.5, \"zeroline\": false, \"dtick\": 1}, \"margin\": {\"b\": 0, \"l\": 0, \"t\": 0, \"r\": 0}, \"yaxis\": {\"autorange\": \"reversed\", \"gridwidth\": 2, \"showticklabels\": false, \"ticks\": \"\", \"zeroline\": false, \"tick0\": 0.5, \"dtick\": 1}}, {\"linkText\": \"Export to plot.ly\", \"plotlyServerURL\": \"https://plot.ly\", \"showLink\": true})});</script><script type=\"text/javascript\">window.addEventListener(\"resize\", function(){window._Plotly.Plots.resize(document.getElementById(\"e5fcc5d7-aac6-42ee-8cc7-4448d40fd96b\"));});</script>"
      ],
      "text/vnd.plotly.v1+html": [
       "<div id=\"e5fcc5d7-aac6-42ee-8cc7-4448d40fd96b\" style=\"height: 320px; width: 100%;\" class=\"plotly-graph-div\"></div><script type=\"text/javascript\">require([\"plotly\"], function(Plotly) { window.PLOTLYENV=window.PLOTLYENV || {};window.PLOTLYENV.BASE_URL=\"https://plot.ly\";Plotly.newPlot(\"e5fcc5d7-aac6-42ee-8cc7-4448d40fd96b\", [{\"z\": [[0, 0, 0, 0, 0], [0.5, 0.5, 0.5, 0.5, 0.5], [1, 1, 1, 1, 1], [0.5, 0.5, 0.5, 0.5, 0.5], [1, 1, 1, 1, 1], [0.5, 0.5, 0.5, 0.5, 0.5], [1, 1, 1, 1, 1], [0.5, 0.5, 0.5, 0.5, 0.5], [1, 1, 1, 1, 1]], \"uid\": \"dd3cceb2-51cb-4983-921d-b1c948fcfca8\", \"opacity\": 0.75, \"showscale\": false, \"colorscale\": [[0, \"#00083e\"], [0.5, \"#ededee\"], [1, \"#ffffff\"]], \"hoverinfo\": \"none\", \"type\": \"heatmap\"}], {\"height\": 320, \"annotations\": [{\"xref\": \"x\", \"yref\": \"y\", \"align\": \"left\", \"showarrow\": false, \"xanchor\": \"left\", \"y\": 0, \"font\": {\"color\": \"#ffffff\"}, \"text\": \"<b>Id</b>\", \"x\": -0.45}, {\"xref\": \"x\", \"yref\": \"y\", \"align\": \"left\", \"showarrow\": false, \"xanchor\": \"left\", \"y\": 0, \"font\": {\"color\": \"#ffffff\"}, \"text\": \"<b>SepalLengthCm</b>\", \"x\": 0.55}, {\"xref\": \"x\", \"yref\": \"y\", \"align\": \"left\", \"showarrow\": false, \"xanchor\": \"left\", \"y\": 0, \"font\": {\"color\": \"#ffffff\"}, \"text\": \"<b>SepalWidthCm</b>\", \"x\": 1.55}, {\"xref\": \"x\", \"yref\": \"y\", \"align\": \"left\", \"showarrow\": false, \"xanchor\": \"left\", \"y\": 0, \"font\": {\"color\": \"#ffffff\"}, \"text\": \"<b>PetalLengthCm</b>\", \"x\": 2.55}, {\"xref\": \"x\", \"yref\": \"y\", \"align\": \"left\", \"showarrow\": false, \"xanchor\": \"left\", \"y\": 0, \"font\": {\"color\": \"#ffffff\"}, \"text\": \"<b>PetalWidthCm</b>\", \"x\": 3.55}, {\"xref\": \"x\", \"yref\": \"y\", \"align\": \"left\", \"showarrow\": false, \"xanchor\": \"left\", \"y\": 1, \"font\": {\"color\": \"#000000\"}, \"text\": \"150.0\", \"x\": -0.45}, {\"xref\": \"x\", \"yref\": \"y\", \"align\": \"left\", \"showarrow\": false, \"xanchor\": \"left\", \"y\": 1, \"font\": {\"color\": \"#000000\"}, \"text\": \"150.0\", \"x\": 0.55}, {\"xref\": \"x\", \"yref\": \"y\", \"align\": \"left\", \"showarrow\": false, \"xanchor\": \"left\", \"y\": 1, \"font\": {\"color\": \"#000000\"}, \"text\": \"150.0\", \"x\": 1.55}, {\"xref\": \"x\", \"yref\": \"y\", \"align\": \"left\", \"showarrow\": false, \"xanchor\": \"left\", \"y\": 1, \"font\": {\"color\": \"#000000\"}, \"text\": \"150.0\", \"x\": 2.55}, {\"xref\": \"x\", \"yref\": \"y\", \"align\": \"left\", \"showarrow\": false, \"xanchor\": \"left\", \"y\": 1, \"font\": {\"color\": \"#000000\"}, \"text\": \"150.0\", \"x\": 3.55}, {\"xref\": \"x\", \"yref\": \"y\", \"align\": \"left\", \"showarrow\": false, \"xanchor\": \"left\", \"y\": 2, \"font\": {\"color\": \"#000000\"}, \"text\": \"75.5\", \"x\": -0.45}, {\"xref\": \"x\", \"yref\": \"y\", \"align\": \"left\", \"showarrow\": false, \"xanchor\": \"left\", \"y\": 2, \"font\": {\"color\": \"#000000\"}, \"text\": \"5.843333333333334\", \"x\": 0.55}, {\"xref\": \"x\", \"yref\": \"y\", \"align\": \"left\", \"showarrow\": false, \"xanchor\": \"left\", \"y\": 2, \"font\": {\"color\": \"#000000\"}, \"text\": \"3.0540000000000003\", \"x\": 1.55}, {\"xref\": \"x\", \"yref\": \"y\", \"align\": \"left\", \"showarrow\": false, \"xanchor\": \"left\", \"y\": 2, \"font\": {\"color\": \"#000000\"}, \"text\": \"3.758666666666666\", \"x\": 2.55}, {\"xref\": \"x\", \"yref\": \"y\", \"align\": \"left\", \"showarrow\": false, \"xanchor\": \"left\", \"y\": 2, \"font\": {\"color\": \"#000000\"}, \"text\": \"1.1986666666666668\", \"x\": 3.55}, {\"xref\": \"x\", \"yref\": \"y\", \"align\": \"left\", \"showarrow\": false, \"xanchor\": \"left\", \"y\": 3, \"font\": {\"color\": \"#000000\"}, \"text\": \"43.445367992456916\", \"x\": -0.45}, {\"xref\": \"x\", \"yref\": \"y\", \"align\": \"left\", \"showarrow\": false, \"xanchor\": \"left\", \"y\": 3, \"font\": {\"color\": \"#000000\"}, \"text\": \"0.828066127977863\", \"x\": 0.55}, {\"xref\": \"x\", \"yref\": \"y\", \"align\": \"left\", \"showarrow\": false, \"xanchor\": \"left\", \"y\": 3, \"font\": {\"color\": \"#000000\"}, \"text\": \"0.4335943113621737\", \"x\": 1.55}, {\"xref\": \"x\", \"yref\": \"y\", \"align\": \"left\", \"showarrow\": false, \"xanchor\": \"left\", \"y\": 3, \"font\": {\"color\": \"#000000\"}, \"text\": \"1.7644204199522626\", \"x\": 2.55}, {\"xref\": \"x\", \"yref\": \"y\", \"align\": \"left\", \"showarrow\": false, \"xanchor\": \"left\", \"y\": 3, \"font\": {\"color\": \"#000000\"}, \"text\": \"0.7631607417008411\", \"x\": 3.55}, {\"xref\": \"x\", \"yref\": \"y\", \"align\": \"left\", \"showarrow\": false, \"xanchor\": \"left\", \"y\": 4, \"font\": {\"color\": \"#000000\"}, \"text\": \"1.0\", \"x\": -0.45}, {\"xref\": \"x\", \"yref\": \"y\", \"align\": \"left\", \"showarrow\": false, \"xanchor\": \"left\", \"y\": 4, \"font\": {\"color\": \"#000000\"}, \"text\": \"4.3\", \"x\": 0.55}, {\"xref\": \"x\", \"yref\": \"y\", \"align\": \"left\", \"showarrow\": false, \"xanchor\": \"left\", \"y\": 4, \"font\": {\"color\": \"#000000\"}, \"text\": \"2.0\", \"x\": 1.55}, {\"xref\": \"x\", \"yref\": \"y\", \"align\": \"left\", \"showarrow\": false, \"xanchor\": \"left\", \"y\": 4, \"font\": {\"color\": \"#000000\"}, \"text\": \"1.0\", \"x\": 2.55}, {\"xref\": \"x\", \"yref\": \"y\", \"align\": \"left\", \"showarrow\": false, \"xanchor\": \"left\", \"y\": 4, \"font\": {\"color\": \"#000000\"}, \"text\": \"0.1\", \"x\": 3.55}, {\"xref\": \"x\", \"yref\": \"y\", \"align\": \"left\", \"showarrow\": false, \"xanchor\": \"left\", \"y\": 5, \"font\": {\"color\": \"#000000\"}, \"text\": \"38.25\", \"x\": -0.45}, {\"xref\": \"x\", \"yref\": \"y\", \"align\": \"left\", \"showarrow\": false, \"xanchor\": \"left\", \"y\": 5, \"font\": {\"color\": \"#000000\"}, \"text\": \"5.1\", \"x\": 0.55}, {\"xref\": \"x\", \"yref\": \"y\", \"align\": \"left\", \"showarrow\": false, \"xanchor\": \"left\", \"y\": 5, \"font\": {\"color\": \"#000000\"}, \"text\": \"2.8\", \"x\": 1.55}, {\"xref\": \"x\", \"yref\": \"y\", \"align\": \"left\", \"showarrow\": false, \"xanchor\": \"left\", \"y\": 5, \"font\": {\"color\": \"#000000\"}, \"text\": \"1.6\", \"x\": 2.55}, {\"xref\": \"x\", \"yref\": \"y\", \"align\": \"left\", \"showarrow\": false, \"xanchor\": \"left\", \"y\": 5, \"font\": {\"color\": \"#000000\"}, \"text\": \"0.3\", \"x\": 3.55}, {\"xref\": \"x\", \"yref\": \"y\", \"align\": \"left\", \"showarrow\": false, \"xanchor\": \"left\", \"y\": 6, \"font\": {\"color\": \"#000000\"}, \"text\": \"75.5\", \"x\": -0.45}, {\"xref\": \"x\", \"yref\": \"y\", \"align\": \"left\", \"showarrow\": false, \"xanchor\": \"left\", \"y\": 6, \"font\": {\"color\": \"#000000\"}, \"text\": \"5.8\", \"x\": 0.55}, {\"xref\": \"x\", \"yref\": \"y\", \"align\": \"left\", \"showarrow\": false, \"xanchor\": \"left\", \"y\": 6, \"font\": {\"color\": \"#000000\"}, \"text\": \"3.0\", \"x\": 1.55}, {\"xref\": \"x\", \"yref\": \"y\", \"align\": \"left\", \"showarrow\": false, \"xanchor\": \"left\", \"y\": 6, \"font\": {\"color\": \"#000000\"}, \"text\": \"4.35\", \"x\": 2.55}, {\"xref\": \"x\", \"yref\": \"y\", \"align\": \"left\", \"showarrow\": false, \"xanchor\": \"left\", \"y\": 6, \"font\": {\"color\": \"#000000\"}, \"text\": \"1.3\", \"x\": 3.55}, {\"xref\": \"x\", \"yref\": \"y\", \"align\": \"left\", \"showarrow\": false, \"xanchor\": \"left\", \"y\": 7, \"font\": {\"color\": \"#000000\"}, \"text\": \"112.75\", \"x\": -0.45}, {\"xref\": \"x\", \"yref\": \"y\", \"align\": \"left\", \"showarrow\": false, \"xanchor\": \"left\", \"y\": 7, \"font\": {\"color\": \"#000000\"}, \"text\": \"6.4\", \"x\": 0.55}, {\"xref\": \"x\", \"yref\": \"y\", \"align\": \"left\", \"showarrow\": false, \"xanchor\": \"left\", \"y\": 7, \"font\": {\"color\": \"#000000\"}, \"text\": \"3.3\", \"x\": 1.55}, {\"xref\": \"x\", \"yref\": \"y\", \"align\": \"left\", \"showarrow\": false, \"xanchor\": \"left\", \"y\": 7, \"font\": {\"color\": \"#000000\"}, \"text\": \"5.1\", \"x\": 2.55}, {\"xref\": \"x\", \"yref\": \"y\", \"align\": \"left\", \"showarrow\": false, \"xanchor\": \"left\", \"y\": 7, \"font\": {\"color\": \"#000000\"}, \"text\": \"1.8\", \"x\": 3.55}, {\"xref\": \"x\", \"yref\": \"y\", \"align\": \"left\", \"showarrow\": false, \"xanchor\": \"left\", \"y\": 8, \"font\": {\"color\": \"#000000\"}, \"text\": \"150.0\", \"x\": -0.45}, {\"xref\": \"x\", \"yref\": \"y\", \"align\": \"left\", \"showarrow\": false, \"xanchor\": \"left\", \"y\": 8, \"font\": {\"color\": \"#000000\"}, \"text\": \"7.9\", \"x\": 0.55}, {\"xref\": \"x\", \"yref\": \"y\", \"align\": \"left\", \"showarrow\": false, \"xanchor\": \"left\", \"y\": 8, \"font\": {\"color\": \"#000000\"}, \"text\": \"4.4\", \"x\": 1.55}, {\"xref\": \"x\", \"yref\": \"y\", \"align\": \"left\", \"showarrow\": false, \"xanchor\": \"left\", \"y\": 8, \"font\": {\"color\": \"#000000\"}, \"text\": \"6.9\", \"x\": 2.55}, {\"xref\": \"x\", \"yref\": \"y\", \"align\": \"left\", \"showarrow\": false, \"xanchor\": \"left\", \"y\": 8, \"font\": {\"color\": \"#000000\"}, \"text\": \"2.5\", \"x\": 3.55}], \"xaxis\": {\"ticks\": \"\", \"gridwidth\": 2, \"showticklabels\": false, \"tick0\": -0.5, \"zeroline\": false, \"dtick\": 1}, \"margin\": {\"b\": 0, \"l\": 0, \"t\": 0, \"r\": 0}, \"yaxis\": {\"autorange\": \"reversed\", \"gridwidth\": 2, \"showticklabels\": false, \"ticks\": \"\", \"zeroline\": false, \"tick0\": 0.5, \"dtick\": 1}}, {\"linkText\": \"Export to plot.ly\", \"plotlyServerURL\": \"https://plot.ly\", \"showLink\": true})});</script><script type=\"text/javascript\">window.addEventListener(\"resize\", function(){window._Plotly.Plots.resize(document.getElementById(\"e5fcc5d7-aac6-42ee-8cc7-4448d40fd96b\"));});</script>"
      ]
     },
     "metadata": {},
     "output_type": "display_data"
    }
   ],
   "source": [
    "py.iplot(ff.create_table(df.describe()),filename='jupyter-table1')"
   ]
  },
  {
   "cell_type": "code",
   "execution_count": 5,
   "metadata": {
    "_kg_hide-input": true,
    "_uuid": "1179c41df2d7a6e61012afbeab13b4cb97003724"
   },
   "outputs": [
    {
     "name": "stdout",
     "output_type": "stream",
     "text": [
      "<class 'pandas.core.frame.DataFrame'>\n",
      "RangeIndex: 150 entries, 0 to 149\n",
      "Data columns (total 6 columns):\n",
      "Id               150 non-null int64\n",
      "SepalLengthCm    150 non-null float64\n",
      "SepalWidthCm     150 non-null float64\n",
      "PetalLengthCm    150 non-null float64\n",
      "PetalWidthCm     150 non-null float64\n",
      "Species          150 non-null object\n",
      "dtypes: float64(4), int64(1), object(1)\n",
      "memory usage: 7.1+ KB\n"
     ]
    }
   ],
   "source": [
    "df.info()"
   ]
  },
  {
   "cell_type": "markdown",
   "metadata": {
    "_uuid": "d94cacaeb20745de52b44cecadb9f124bba6ede0"
   },
   "source": [
    "so there is no null values available in the data set"
   ]
  },
  {
   "cell_type": "markdown",
   "metadata": {
    "_uuid": "00fb91122216780bf8fbd66c2a13cee1eddfade0"
   },
   "source": [
    "# <a id='visual'>Now lets start visualizing the data set</a>"
   ]
  },
  {
   "cell_type": "markdown",
   "metadata": {
    "_uuid": "3771de617effaadbf899a4bcbf7db24ec45e9402"
   },
   "source": [
    "given the coloums are<br>\n",
    "SepalLengthCm<br>\n",
    "SepalWidthCm<br>\n",
    "PetalLengthCm<br>\n",
    "PetalWidthCm<br>\n",
    "Species<br>"
   ]
  },
  {
   "cell_type": "markdown",
   "metadata": {
    "_uuid": "4c54df7ef24e7d9e75fb6f2e6b137ef086a06319"
   },
   "source": [
    "# <a id='types_species'> Types of Species</a>"
   ]
  },
  {
   "cell_type": "code",
   "execution_count": 6,
   "metadata": {
    "_kg_hide-input": true,
    "_uuid": "ceea7a2606503e6afa020ec014be2efd989fd9d4"
   },
   "outputs": [
    {
     "data": {
      "text/plain": [
       "array(['Iris-setosa', 'Iris-versicolor', 'Iris-virginica'], dtype=object)"
      ]
     },
     "execution_count": 6,
     "metadata": {},
     "output_type": "execute_result"
    }
   ],
   "source": [
    "Species = df['Species'].unique()\n",
    "Species"
   ]
  },
  {
   "cell_type": "markdown",
   "metadata": {
    "_uuid": "3deeea05193d2bff16945fa5eee75f57144ecf06"
   },
   "source": [
    "So there are three types of species \n",
    "\n",
    "Iris-setosa<br/>\n",
    "Iris-versicolor<br/>\n",
    "Iris-virginica<br/>"
   ]
  },
  {
   "cell_type": "code",
   "execution_count": 7,
   "metadata": {
    "_kg_hide-input": true,
    "_uuid": "c0cc233be99d92c867be5b0e4ad77252b092418c"
   },
   "outputs": [
    {
     "data": {
      "application/vnd.plotly.v1+json": {
       "config": {
        "linkText": "Export to plot.ly",
        "plotlyServerURL": "https://plot.ly",
        "showLink": true
       },
       "data": [
        {
         "marker": {
          "color": [
           "#868A6F",
           "#CF3EE3",
           "#D88CF1"
          ]
         },
         "type": "bar",
         "uid": "2840d1ae-f0ce-402d-a32c-1d58e078d705",
         "x": [
          "Iris-virginica",
          "Iris-setosa",
          "Iris-versicolor"
         ],
         "y": [
          50,
          50,
          50
         ]
        }
       ],
       "layout": {}
      },
      "text/html": [
       "<div id=\"83392153-f33f-4663-af10-5b6d6da4d222\" style=\"height: 525px; width: 100%;\" class=\"plotly-graph-div\"></div><script type=\"text/javascript\">require([\"plotly\"], function(Plotly) { window.PLOTLYENV=window.PLOTLYENV || {};window.PLOTLYENV.BASE_URL=\"https://plot.ly\";Plotly.newPlot(\"83392153-f33f-4663-af10-5b6d6da4d222\", [{\"marker\": {\"color\": [\"#868A6F\", \"#CF3EE3\", \"#D88CF1\"]}, \"uid\": \"700b89e6-7e82-423e-b953-077fcd8f7187\", \"x\": [\"Iris-virginica\", \"Iris-setosa\", \"Iris-versicolor\"], \"y\": [50, 50, 50], \"type\": \"bar\"}], {}, {\"linkText\": \"Export to plot.ly\", \"plotlyServerURL\": \"https://plot.ly\", \"showLink\": true})});</script><script type=\"text/javascript\">window.addEventListener(\"resize\", function(){window._Plotly.Plots.resize(document.getElementById(\"83392153-f33f-4663-af10-5b6d6da4d222\"));});</script>"
      ],
      "text/vnd.plotly.v1+html": [
       "<div id=\"83392153-f33f-4663-af10-5b6d6da4d222\" style=\"height: 525px; width: 100%;\" class=\"plotly-graph-div\"></div><script type=\"text/javascript\">require([\"plotly\"], function(Plotly) { window.PLOTLYENV=window.PLOTLYENV || {};window.PLOTLYENV.BASE_URL=\"https://plot.ly\";Plotly.newPlot(\"83392153-f33f-4663-af10-5b6d6da4d222\", [{\"marker\": {\"color\": [\"#868A6F\", \"#CF3EE3\", \"#D88CF1\"]}, \"uid\": \"700b89e6-7e82-423e-b953-077fcd8f7187\", \"x\": [\"Iris-virginica\", \"Iris-setosa\", \"Iris-versicolor\"], \"y\": [50, 50, 50], \"type\": \"bar\"}], {}, {\"linkText\": \"Export to plot.ly\", \"plotlyServerURL\": \"https://plot.ly\", \"showLink\": true})});</script><script type=\"text/javascript\">window.addEventListener(\"resize\", function(){window._Plotly.Plots.resize(document.getElementById(\"83392153-f33f-4663-af10-5b6d6da4d222\"));});</script>"
      ]
     },
     "metadata": {},
     "output_type": "display_data"
    }
   ],
   "source": [
    "species_count = df['Species'].value_counts()\n",
    "data = [go.Bar(\n",
    "    x = species_count.index,\n",
    "    y = species_count.values,\n",
    "    marker = dict(color = random_colors(3))\n",
    ")]\n",
    "py.iplot(data)"
   ]
  },
  {
   "cell_type": "markdown",
   "metadata": {
    "_uuid": "d23bea755d9d9dcafb8038277c26b386fceaafa4"
   },
   "source": [
    "So we have equally distributed species all are of 50"
   ]
  },
  {
   "cell_type": "markdown",
   "metadata": {
    "_uuid": "7e7c935c6749f76b8bb619b1a629861660d5878d"
   },
   "source": [
    "# <a id='corelation'>Corelation between features</a><br>"
   ]
  },
  {
   "cell_type": "code",
   "execution_count": 8,
   "metadata": {
    "_kg_hide-input": true,
    "_uuid": "47326e3e9bc656c6dbf3abffaddd8464180ba585"
   },
   "outputs": [
    {
     "data": {
      "application/vnd.plotly.v1+json": {
       "config": {
        "linkText": "Export to plot.ly",
        "plotlyServerURL": "https://plot.ly",
        "showLink": true
       },
       "data": [
        {
         "colorscale": "Blackbody",
         "type": "heatmap",
         "uid": "551dea4c-676b-411a-a256-04d98ed159e6",
         "x": [
          "Id",
          "SepalLengthCm",
          "SepalWidthCm",
          "PetalLengthCm",
          "PetalWidthCm"
         ],
         "y": [
          "Id",
          "SepalLengthCm",
          "SepalWidthCm",
          "PetalLengthCm",
          "PetalWidthCm"
         ],
         "z": [
          [
           1,
           0.7166762728539001,
           -0.397728811465928,
           0.8827473181390559,
           0.8997585770933502
          ],
          [
           0.7166762728539001,
           1,
           -0.10936924995064935,
           0.8717541573048719,
           0.8179536333691635
          ],
          [
           -0.397728811465928,
           -0.10936924995064935,
           1,
           -0.42051609640115484,
           -0.3565440896138055
          ],
          [
           0.8827473181390559,
           0.8717541573048719,
           -0.42051609640115484,
           1,
           0.9627570970509667
          ],
          [
           0.8997585770933502,
           0.8179536333691635,
           -0.3565440896138055,
           0.9627570970509667,
           1
          ]
         ]
        }
       ],
       "layout": {}
      },
      "text/html": [
       "<div id=\"12a7e5c1-b2ec-487c-9755-b321421bfbb7\" style=\"height: 525px; width: 100%;\" class=\"plotly-graph-div\"></div><script type=\"text/javascript\">require([\"plotly\"], function(Plotly) { window.PLOTLYENV=window.PLOTLYENV || {};window.PLOTLYENV.BASE_URL=\"https://plot.ly\";Plotly.newPlot(\"12a7e5c1-b2ec-487c-9755-b321421bfbb7\", [{\"z\": [[1.0, 0.7166762728539001, -0.397728811465928, 0.8827473181390559, 0.8997585770933502], [0.7166762728539001, 1.0, -0.10936924995064935, 0.8717541573048719, 0.8179536333691635], [-0.397728811465928, -0.10936924995064935, 1.0, -0.42051609640115484, -0.3565440896138055], [0.8827473181390559, 0.8717541573048719, -0.42051609640115484, 1.0, 0.9627570970509667], [0.8997585770933502, 0.8179536333691635, -0.3565440896138055, 0.9627570970509667, 1.0]], \"uid\": \"5ba8673a-38db-48fc-858f-8d476bdfd154\", \"y\": [\"Id\", \"SepalLengthCm\", \"SepalWidthCm\", \"PetalLengthCm\", \"PetalWidthCm\"], \"x\": [\"Id\", \"SepalLengthCm\", \"SepalWidthCm\", \"PetalLengthCm\", \"PetalWidthCm\"], \"colorscale\": \"Blackbody\", \"type\": \"heatmap\"}], {}, {\"linkText\": \"Export to plot.ly\", \"plotlyServerURL\": \"https://plot.ly\", \"showLink\": true})});</script><script type=\"text/javascript\">window.addEventListener(\"resize\", function(){window._Plotly.Plots.resize(document.getElementById(\"12a7e5c1-b2ec-487c-9755-b321421bfbb7\"));});</script>"
      ],
      "text/vnd.plotly.v1+html": [
       "<div id=\"12a7e5c1-b2ec-487c-9755-b321421bfbb7\" style=\"height: 525px; width: 100%;\" class=\"plotly-graph-div\"></div><script type=\"text/javascript\">require([\"plotly\"], function(Plotly) { window.PLOTLYENV=window.PLOTLYENV || {};window.PLOTLYENV.BASE_URL=\"https://plot.ly\";Plotly.newPlot(\"12a7e5c1-b2ec-487c-9755-b321421bfbb7\", [{\"z\": [[1.0, 0.7166762728539001, -0.397728811465928, 0.8827473181390559, 0.8997585770933502], [0.7166762728539001, 1.0, -0.10936924995064935, 0.8717541573048719, 0.8179536333691635], [-0.397728811465928, -0.10936924995064935, 1.0, -0.42051609640115484, -0.3565440896138055], [0.8827473181390559, 0.8717541573048719, -0.42051609640115484, 1.0, 0.9627570970509667], [0.8997585770933502, 0.8179536333691635, -0.3565440896138055, 0.9627570970509667, 1.0]], \"uid\": \"5ba8673a-38db-48fc-858f-8d476bdfd154\", \"y\": [\"Id\", \"SepalLengthCm\", \"SepalWidthCm\", \"PetalLengthCm\", \"PetalWidthCm\"], \"x\": [\"Id\", \"SepalLengthCm\", \"SepalWidthCm\", \"PetalLengthCm\", \"PetalWidthCm\"], \"colorscale\": \"Blackbody\", \"type\": \"heatmap\"}], {}, {\"linkText\": \"Export to plot.ly\", \"plotlyServerURL\": \"https://plot.ly\", \"showLink\": true})});</script><script type=\"text/javascript\">window.addEventListener(\"resize\", function(){window._Plotly.Plots.resize(document.getElementById(\"12a7e5c1-b2ec-487c-9755-b321421bfbb7\"));});</script>"
      ]
     },
     "metadata": {},
     "output_type": "display_data"
    }
   ],
   "source": [
    "corelation = df.corr()\n",
    "data = [go.Heatmap(z = np.array(corelation.values),\n",
    "                   x = np.array(corelation.columns),\n",
    "                   y = np.array(corelation.columns),\n",
    "                     colorscale='Blackbody',)\n",
    "       ]\n",
    "py.iplot(data)"
   ]
  },
  {
   "cell_type": "markdown",
   "metadata": {
    "_uuid": "3b56bbb038bd566ac3814c6229195ee98ead714d"
   },
   "source": [
    "# <a id='visual_sepal'>Visualizing species based on Sepal length and width</a><br>"
   ]
  },
  {
   "cell_type": "code",
   "execution_count": 9,
   "metadata": {
    "_kg_hide-input": true,
    "_uuid": "2ef0b1dfaae5c114d43e6ae957aab61e28f178b3"
   },
   "outputs": [
    {
     "data": {
      "application/vnd.plotly.v1+json": {
       "config": {
        "linkText": "Export to plot.ly",
        "plotlyServerURL": "https://plot.ly",
        "showLink": true
       },
       "data": [
        {
         "mode": "markers",
         "name": "setosa",
         "type": "scatter",
         "uid": "97045db6-1b99-4c9c-b753-c4608afc1e0f",
         "x": [
          5.1,
          4.9,
          4.7,
          4.6,
          5,
          5.4,
          4.6,
          5,
          4.4,
          4.9,
          5.4,
          4.8,
          4.8,
          4.3,
          5.8,
          5.7,
          5.4,
          5.1,
          5.7,
          5.1,
          5.4,
          5.1,
          4.6,
          5.1,
          4.8,
          5,
          5,
          5.2,
          5.2,
          4.7,
          4.8,
          5.4,
          5.2,
          5.5,
          4.9,
          5,
          5.5,
          4.9,
          4.4,
          5.1,
          5,
          4.5,
          4.4,
          5,
          5.1,
          4.8,
          5.1,
          4.6,
          5.3,
          5
         ],
         "y": [
          3.5,
          3,
          3.2,
          3.1,
          3.6,
          3.9,
          3.4,
          3.4,
          2.9,
          3.1,
          3.7,
          3.4,
          3,
          3,
          4,
          4.4,
          3.9,
          3.5,
          3.8,
          3.8,
          3.4,
          3.7,
          3.6,
          3.3,
          3.4,
          3,
          3.4,
          3.5,
          3.4,
          3.2,
          3.1,
          3.4,
          4.1,
          4.2,
          3.1,
          3.2,
          3.5,
          3.1,
          3,
          3.4,
          3.5,
          2.3,
          3.2,
          3.5,
          3.8,
          3,
          3.8,
          3.2,
          3.7,
          3.3
         ]
        },
        {
         "mode": "markers",
         "name": "versicolor",
         "type": "scatter",
         "uid": "3587d91a-4d36-43a7-ac65-ebe22411caa0",
         "x": [
          7,
          6.4,
          6.9,
          5.5,
          6.5,
          5.7,
          6.3,
          4.9,
          6.6,
          5.2,
          5,
          5.9,
          6,
          6.1,
          5.6,
          6.7,
          5.6,
          5.8,
          6.2,
          5.6,
          5.9,
          6.1,
          6.3,
          6.1,
          6.4,
          6.6,
          6.8,
          6.7,
          6,
          5.7,
          5.5,
          5.5,
          5.8,
          6,
          5.4,
          6,
          6.7,
          6.3,
          5.6,
          5.5,
          5.5,
          6.1,
          5.8,
          5,
          5.6,
          5.7,
          5.7,
          6.2,
          5.1,
          5.7
         ],
         "y": [
          3.2,
          3.2,
          3.1,
          2.3,
          2.8,
          2.8,
          3.3,
          2.4,
          2.9,
          2.7,
          2,
          3,
          2.2,
          2.9,
          2.9,
          3.1,
          3,
          2.7,
          2.2,
          2.5,
          3.2,
          2.8,
          2.5,
          2.8,
          2.9,
          3,
          2.8,
          3,
          2.9,
          2.6,
          2.4,
          2.4,
          2.7,
          2.7,
          3,
          3.4,
          3.1,
          2.3,
          3,
          2.5,
          2.6,
          3,
          2.6,
          2.3,
          2.7,
          3,
          2.9,
          2.9,
          2.5,
          2.8
         ]
        },
        {
         "mode": "markers",
         "name": "virginica",
         "type": "scatter",
         "uid": "7a20d2cc-bf60-48fb-a21b-98b937dcc0a3",
         "x": [
          6.3,
          5.8,
          7.1,
          6.3,
          6.5,
          7.6,
          4.9,
          7.3,
          6.7,
          7.2,
          6.5,
          6.4,
          6.8,
          5.7,
          5.8,
          6.4,
          6.5,
          7.7,
          7.7,
          6,
          6.9,
          5.6,
          7.7,
          6.3,
          6.7,
          7.2,
          6.2,
          6.1,
          6.4,
          7.2,
          7.4,
          7.9,
          6.4,
          6.3,
          6.1,
          7.7,
          6.3,
          6.4,
          6,
          6.9,
          6.7,
          6.9,
          5.8,
          6.8,
          6.7,
          6.7,
          6.3,
          6.5,
          6.2,
          5.9
         ],
         "y": [
          3.3,
          2.7,
          3,
          2.9,
          3,
          3,
          2.5,
          2.9,
          2.5,
          3.6,
          3.2,
          2.7,
          3,
          2.5,
          2.8,
          3.2,
          3,
          3.8,
          2.6,
          2.2,
          3.2,
          2.8,
          2.8,
          2.7,
          3.3,
          3.2,
          2.8,
          3,
          2.8,
          3,
          2.8,
          3.8,
          2.8,
          2.8,
          2.6,
          3,
          3.4,
          3.1,
          3,
          3.1,
          3.1,
          3.1,
          2.7,
          3.2,
          3.3,
          3,
          2.5,
          3,
          3.4,
          3
         ]
        }
       ],
       "layout": {}
      },
      "text/html": [
       "<div id=\"5afb1690-93f5-4182-9c07-48e2cc3430ce\" style=\"height: 525px; width: 100%;\" class=\"plotly-graph-div\"></div><script type=\"text/javascript\">require([\"plotly\"], function(Plotly) { window.PLOTLYENV=window.PLOTLYENV || {};window.PLOTLYENV.BASE_URL=\"https://plot.ly\";Plotly.newPlot(\"5afb1690-93f5-4182-9c07-48e2cc3430ce\", [{\"name\": \"setosa\", \"uid\": \"69bf17c2-90bc-463c-b68b-88d498db0685\", \"y\": [3.5, 3.0, 3.2, 3.1, 3.6, 3.9, 3.4, 3.4, 2.9, 3.1, 3.7, 3.4, 3.0, 3.0, 4.0, 4.4, 3.9, 3.5, 3.8, 3.8, 3.4, 3.7, 3.6, 3.3, 3.4, 3.0, 3.4, 3.5, 3.4, 3.2, 3.1, 3.4, 4.1, 4.2, 3.1, 3.2, 3.5, 3.1, 3.0, 3.4, 3.5, 2.3, 3.2, 3.5, 3.8, 3.0, 3.8, 3.2, 3.7, 3.3], \"mode\": \"markers\", \"x\": [5.1, 4.9, 4.7, 4.6, 5.0, 5.4, 4.6, 5.0, 4.4, 4.9, 5.4, 4.8, 4.8, 4.3, 5.8, 5.7, 5.4, 5.1, 5.7, 5.1, 5.4, 5.1, 4.6, 5.1, 4.8, 5.0, 5.0, 5.2, 5.2, 4.7, 4.8, 5.4, 5.2, 5.5, 4.9, 5.0, 5.5, 4.9, 4.4, 5.1, 5.0, 4.5, 4.4, 5.0, 5.1, 4.8, 5.1, 4.6, 5.3, 5.0], \"type\": \"scatter\"}, {\"name\": \"versicolor\", \"uid\": \"73630aa0-232c-4665-837a-b9e0c295e681\", \"y\": [3.2, 3.2, 3.1, 2.3, 2.8, 2.8, 3.3, 2.4, 2.9, 2.7, 2.0, 3.0, 2.2, 2.9, 2.9, 3.1, 3.0, 2.7, 2.2, 2.5, 3.2, 2.8, 2.5, 2.8, 2.9, 3.0, 2.8, 3.0, 2.9, 2.6, 2.4, 2.4, 2.7, 2.7, 3.0, 3.4, 3.1, 2.3, 3.0, 2.5, 2.6, 3.0, 2.6, 2.3, 2.7, 3.0, 2.9, 2.9, 2.5, 2.8], \"mode\": \"markers\", \"x\": [7.0, 6.4, 6.9, 5.5, 6.5, 5.7, 6.3, 4.9, 6.6, 5.2, 5.0, 5.9, 6.0, 6.1, 5.6, 6.7, 5.6, 5.8, 6.2, 5.6, 5.9, 6.1, 6.3, 6.1, 6.4, 6.6, 6.8, 6.7, 6.0, 5.7, 5.5, 5.5, 5.8, 6.0, 5.4, 6.0, 6.7, 6.3, 5.6, 5.5, 5.5, 6.1, 5.8, 5.0, 5.6, 5.7, 5.7, 6.2, 5.1, 5.7], \"type\": \"scatter\"}, {\"name\": \"virginica\", \"uid\": \"fe6d2f8f-d2e0-4d9c-a499-05d9391f6e89\", \"y\": [3.3, 2.7, 3.0, 2.9, 3.0, 3.0, 2.5, 2.9, 2.5, 3.6, 3.2, 2.7, 3.0, 2.5, 2.8, 3.2, 3.0, 3.8, 2.6, 2.2, 3.2, 2.8, 2.8, 2.7, 3.3, 3.2, 2.8, 3.0, 2.8, 3.0, 2.8, 3.8, 2.8, 2.8, 2.6, 3.0, 3.4, 3.1, 3.0, 3.1, 3.1, 3.1, 2.7, 3.2, 3.3, 3.0, 2.5, 3.0, 3.4, 3.0], \"mode\": \"markers\", \"x\": [6.3, 5.8, 7.1, 6.3, 6.5, 7.6, 4.9, 7.3, 6.7, 7.2, 6.5, 6.4, 6.8, 5.7, 5.8, 6.4, 6.5, 7.7, 7.7, 6.0, 6.9, 5.6, 7.7, 6.3, 6.7, 7.2, 6.2, 6.1, 6.4, 7.2, 7.4, 7.9, 6.4, 6.3, 6.1, 7.7, 6.3, 6.4, 6.0, 6.9, 6.7, 6.9, 5.8, 6.8, 6.7, 6.7, 6.3, 6.5, 6.2, 5.9], \"type\": \"scatter\"}], {}, {\"linkText\": \"Export to plot.ly\", \"plotlyServerURL\": \"https://plot.ly\", \"showLink\": true})});</script><script type=\"text/javascript\">window.addEventListener(\"resize\", function(){window._Plotly.Plots.resize(document.getElementById(\"5afb1690-93f5-4182-9c07-48e2cc3430ce\"));});</script>"
      ],
      "text/vnd.plotly.v1+html": [
       "<div id=\"5afb1690-93f5-4182-9c07-48e2cc3430ce\" style=\"height: 525px; width: 100%;\" class=\"plotly-graph-div\"></div><script type=\"text/javascript\">require([\"plotly\"], function(Plotly) { window.PLOTLYENV=window.PLOTLYENV || {};window.PLOTLYENV.BASE_URL=\"https://plot.ly\";Plotly.newPlot(\"5afb1690-93f5-4182-9c07-48e2cc3430ce\", [{\"name\": \"setosa\", \"uid\": \"69bf17c2-90bc-463c-b68b-88d498db0685\", \"y\": [3.5, 3.0, 3.2, 3.1, 3.6, 3.9, 3.4, 3.4, 2.9, 3.1, 3.7, 3.4, 3.0, 3.0, 4.0, 4.4, 3.9, 3.5, 3.8, 3.8, 3.4, 3.7, 3.6, 3.3, 3.4, 3.0, 3.4, 3.5, 3.4, 3.2, 3.1, 3.4, 4.1, 4.2, 3.1, 3.2, 3.5, 3.1, 3.0, 3.4, 3.5, 2.3, 3.2, 3.5, 3.8, 3.0, 3.8, 3.2, 3.7, 3.3], \"mode\": \"markers\", \"x\": [5.1, 4.9, 4.7, 4.6, 5.0, 5.4, 4.6, 5.0, 4.4, 4.9, 5.4, 4.8, 4.8, 4.3, 5.8, 5.7, 5.4, 5.1, 5.7, 5.1, 5.4, 5.1, 4.6, 5.1, 4.8, 5.0, 5.0, 5.2, 5.2, 4.7, 4.8, 5.4, 5.2, 5.5, 4.9, 5.0, 5.5, 4.9, 4.4, 5.1, 5.0, 4.5, 4.4, 5.0, 5.1, 4.8, 5.1, 4.6, 5.3, 5.0], \"type\": \"scatter\"}, {\"name\": \"versicolor\", \"uid\": \"73630aa0-232c-4665-837a-b9e0c295e681\", \"y\": [3.2, 3.2, 3.1, 2.3, 2.8, 2.8, 3.3, 2.4, 2.9, 2.7, 2.0, 3.0, 2.2, 2.9, 2.9, 3.1, 3.0, 2.7, 2.2, 2.5, 3.2, 2.8, 2.5, 2.8, 2.9, 3.0, 2.8, 3.0, 2.9, 2.6, 2.4, 2.4, 2.7, 2.7, 3.0, 3.4, 3.1, 2.3, 3.0, 2.5, 2.6, 3.0, 2.6, 2.3, 2.7, 3.0, 2.9, 2.9, 2.5, 2.8], \"mode\": \"markers\", \"x\": [7.0, 6.4, 6.9, 5.5, 6.5, 5.7, 6.3, 4.9, 6.6, 5.2, 5.0, 5.9, 6.0, 6.1, 5.6, 6.7, 5.6, 5.8, 6.2, 5.6, 5.9, 6.1, 6.3, 6.1, 6.4, 6.6, 6.8, 6.7, 6.0, 5.7, 5.5, 5.5, 5.8, 6.0, 5.4, 6.0, 6.7, 6.3, 5.6, 5.5, 5.5, 6.1, 5.8, 5.0, 5.6, 5.7, 5.7, 6.2, 5.1, 5.7], \"type\": \"scatter\"}, {\"name\": \"virginica\", \"uid\": \"fe6d2f8f-d2e0-4d9c-a499-05d9391f6e89\", \"y\": [3.3, 2.7, 3.0, 2.9, 3.0, 3.0, 2.5, 2.9, 2.5, 3.6, 3.2, 2.7, 3.0, 2.5, 2.8, 3.2, 3.0, 3.8, 2.6, 2.2, 3.2, 2.8, 2.8, 2.7, 3.3, 3.2, 2.8, 3.0, 2.8, 3.0, 2.8, 3.8, 2.8, 2.8, 2.6, 3.0, 3.4, 3.1, 3.0, 3.1, 3.1, 3.1, 2.7, 3.2, 3.3, 3.0, 2.5, 3.0, 3.4, 3.0], \"mode\": \"markers\", \"x\": [6.3, 5.8, 7.1, 6.3, 6.5, 7.6, 4.9, 7.3, 6.7, 7.2, 6.5, 6.4, 6.8, 5.7, 5.8, 6.4, 6.5, 7.7, 7.7, 6.0, 6.9, 5.6, 7.7, 6.3, 6.7, 7.2, 6.2, 6.1, 6.4, 7.2, 7.4, 7.9, 6.4, 6.3, 6.1, 7.7, 6.3, 6.4, 6.0, 6.9, 6.7, 6.9, 5.8, 6.8, 6.7, 6.7, 6.3, 6.5, 6.2, 5.9], \"type\": \"scatter\"}], {}, {\"linkText\": \"Export to plot.ly\", \"plotlyServerURL\": \"https://plot.ly\", \"showLink\": true})});</script><script type=\"text/javascript\">window.addEventListener(\"resize\", function(){window._Plotly.Plots.resize(document.getElementById(\"5afb1690-93f5-4182-9c07-48e2cc3430ce\"));});</script>"
      ]
     },
     "metadata": {},
     "output_type": "display_data"
    }
   ],
   "source": [
    "setosa = go.Scatter(x = df['SepalLengthCm'][df.Species =='Iris-setosa'], y = df['SepalWidthCm'][df.Species =='Iris-setosa']\n",
    "                   , mode = 'markers', name = 'setosa')\n",
    "versicolor = go.Scatter(x = df['SepalLengthCm'][df.Species =='Iris-versicolor'], y = df['SepalWidthCm'][df.Species =='Iris-versicolor']\n",
    "                   , mode = 'markers', name = 'versicolor')\n",
    "virginica = go.Scatter(x = df['SepalLengthCm'][df.Species =='Iris-virginica'], y = df['SepalWidthCm'][df.Species =='Iris-virginica']\n",
    "                   , mode = 'markers', name = 'virginica')\n",
    "data = [setosa, versicolor, virginica]\n",
    "fig = dict(data=data)\n",
    "py.iplot(fig, filename='styled-scatter')"
   ]
  },
  {
   "cell_type": "markdown",
   "metadata": {
    "_uuid": "40067201ffdfbdf8c61c2c4b9ec7fda510430eaa"
   },
   "source": [
    "We can easily differentiate setosa based on Sepal but for versicolor and virginica its difficult because the data is scattred."
   ]
  },
  {
   "cell_type": "markdown",
   "metadata": {
    "_uuid": "57ee9c60cac06b153615b63a0e42bebf3afd9e6a"
   },
   "source": [
    "#  <a id='visual_petal'>Visualizing species based on petal length and width</a><br>"
   ]
  },
  {
   "cell_type": "code",
   "execution_count": 10,
   "metadata": {
    "_kg_hide-input": true,
    "_uuid": "cfe04b72e851722e20c282f0434c1da2c33715f9"
   },
   "outputs": [
    {
     "data": {
      "application/vnd.plotly.v1+json": {
       "config": {
        "linkText": "Export to plot.ly",
        "plotlyServerURL": "https://plot.ly",
        "showLink": true
       },
       "data": [
        {
         "mode": "markers",
         "name": "setosa",
         "type": "scatter",
         "uid": "684e1878-be61-4528-85a4-46936118e56f",
         "x": [
          1.4,
          1.4,
          1.3,
          1.5,
          1.4,
          1.7,
          1.4,
          1.5,
          1.4,
          1.5,
          1.5,
          1.6,
          1.4,
          1.1,
          1.2,
          1.5,
          1.3,
          1.4,
          1.7,
          1.5,
          1.7,
          1.5,
          1,
          1.7,
          1.9,
          1.6,
          1.6,
          1.5,
          1.4,
          1.6,
          1.6,
          1.5,
          1.5,
          1.4,
          1.5,
          1.2,
          1.3,
          1.5,
          1.3,
          1.5,
          1.3,
          1.3,
          1.3,
          1.6,
          1.9,
          1.4,
          1.6,
          1.4,
          1.5,
          1.4
         ],
         "y": [
          0.2,
          0.2,
          0.2,
          0.2,
          0.2,
          0.4,
          0.3,
          0.2,
          0.2,
          0.1,
          0.2,
          0.2,
          0.1,
          0.1,
          0.2,
          0.4,
          0.4,
          0.3,
          0.3,
          0.3,
          0.2,
          0.4,
          0.2,
          0.5,
          0.2,
          0.2,
          0.4,
          0.2,
          0.2,
          0.2,
          0.2,
          0.4,
          0.1,
          0.2,
          0.1,
          0.2,
          0.2,
          0.1,
          0.2,
          0.2,
          0.3,
          0.3,
          0.2,
          0.6,
          0.4,
          0.3,
          0.2,
          0.2,
          0.2,
          0.2
         ]
        },
        {
         "mode": "markers",
         "name": "versicolor",
         "type": "scatter",
         "uid": "86f611bd-8723-4400-8274-52b5a0c0c937",
         "x": [
          4.7,
          4.5,
          4.9,
          4,
          4.6,
          4.5,
          4.7,
          3.3,
          4.6,
          3.9,
          3.5,
          4.2,
          4,
          4.7,
          3.6,
          4.4,
          4.5,
          4.1,
          4.5,
          3.9,
          4.8,
          4,
          4.9,
          4.7,
          4.3,
          4.4,
          4.8,
          5,
          4.5,
          3.5,
          3.8,
          3.7,
          3.9,
          5.1,
          4.5,
          4.5,
          4.7,
          4.4,
          4.1,
          4,
          4.4,
          4.6,
          4,
          3.3,
          4.2,
          4.2,
          4.2,
          4.3,
          3,
          4.1
         ],
         "y": [
          1.4,
          1.5,
          1.5,
          1.3,
          1.5,
          1.3,
          1.6,
          1,
          1.3,
          1.4,
          1,
          1.5,
          1,
          1.4,
          1.3,
          1.4,
          1.5,
          1,
          1.5,
          1.1,
          1.8,
          1.3,
          1.5,
          1.2,
          1.3,
          1.4,
          1.4,
          1.7,
          1.5,
          1,
          1.1,
          1,
          1.2,
          1.6,
          1.5,
          1.6,
          1.5,
          1.3,
          1.3,
          1.3,
          1.2,
          1.4,
          1.2,
          1,
          1.3,
          1.2,
          1.3,
          1.3,
          1.1,
          1.3
         ]
        },
        {
         "mode": "markers",
         "name": "virginica",
         "type": "scatter",
         "uid": "fa398cf5-d0e2-49f4-8d0d-79928a0c6b4f",
         "x": [
          6,
          5.1,
          5.9,
          5.6,
          5.8,
          6.6,
          4.5,
          6.3,
          5.8,
          6.1,
          5.1,
          5.3,
          5.5,
          5,
          5.1,
          5.3,
          5.5,
          6.7,
          6.9,
          5,
          5.7,
          4.9,
          6.7,
          4.9,
          5.7,
          6,
          4.8,
          4.9,
          5.6,
          5.8,
          6.1,
          6.4,
          5.6,
          5.1,
          5.6,
          6.1,
          5.6,
          5.5,
          4.8,
          5.4,
          5.6,
          5.1,
          5.1,
          5.9,
          5.7,
          5.2,
          5,
          5.2,
          5.4,
          5.1
         ],
         "y": [
          2.5,
          1.9,
          2.1,
          1.8,
          2.2,
          2.1,
          1.7,
          1.8,
          1.8,
          2.5,
          2,
          1.9,
          2.1,
          2,
          2.4,
          2.3,
          1.8,
          2.2,
          2.3,
          1.5,
          2.3,
          2,
          2,
          1.8,
          2.1,
          1.8,
          1.8,
          1.8,
          2.1,
          1.6,
          1.9,
          2,
          2.2,
          1.5,
          1.4,
          2.3,
          2.4,
          1.8,
          1.8,
          2.1,
          2.4,
          2.3,
          1.9,
          2.3,
          2.5,
          2.3,
          1.9,
          2,
          2.3,
          1.8
         ]
        }
       ],
       "layout": {}
      },
      "text/html": [
       "<div id=\"6d424767-30db-497f-ba99-5ed424f291e0\" style=\"height: 525px; width: 100%;\" class=\"plotly-graph-div\"></div><script type=\"text/javascript\">require([\"plotly\"], function(Plotly) { window.PLOTLYENV=window.PLOTLYENV || {};window.PLOTLYENV.BASE_URL=\"https://plot.ly\";Plotly.newPlot(\"6d424767-30db-497f-ba99-5ed424f291e0\", [{\"name\": \"setosa\", \"uid\": \"8aa49b2f-b964-43c7-8272-09c5f28bcec9\", \"y\": [0.2, 0.2, 0.2, 0.2, 0.2, 0.4, 0.3, 0.2, 0.2, 0.1, 0.2, 0.2, 0.1, 0.1, 0.2, 0.4, 0.4, 0.3, 0.3, 0.3, 0.2, 0.4, 0.2, 0.5, 0.2, 0.2, 0.4, 0.2, 0.2, 0.2, 0.2, 0.4, 0.1, 0.2, 0.1, 0.2, 0.2, 0.1, 0.2, 0.2, 0.3, 0.3, 0.2, 0.6, 0.4, 0.3, 0.2, 0.2, 0.2, 0.2], \"mode\": \"markers\", \"x\": [1.4, 1.4, 1.3, 1.5, 1.4, 1.7, 1.4, 1.5, 1.4, 1.5, 1.5, 1.6, 1.4, 1.1, 1.2, 1.5, 1.3, 1.4, 1.7, 1.5, 1.7, 1.5, 1.0, 1.7, 1.9, 1.6, 1.6, 1.5, 1.4, 1.6, 1.6, 1.5, 1.5, 1.4, 1.5, 1.2, 1.3, 1.5, 1.3, 1.5, 1.3, 1.3, 1.3, 1.6, 1.9, 1.4, 1.6, 1.4, 1.5, 1.4], \"type\": \"scatter\"}, {\"name\": \"versicolor\", \"uid\": \"2a734fc9-973d-45ad-9412-6d9834c5c904\", \"y\": [1.4, 1.5, 1.5, 1.3, 1.5, 1.3, 1.6, 1.0, 1.3, 1.4, 1.0, 1.5, 1.0, 1.4, 1.3, 1.4, 1.5, 1.0, 1.5, 1.1, 1.8, 1.3, 1.5, 1.2, 1.3, 1.4, 1.4, 1.7, 1.5, 1.0, 1.1, 1.0, 1.2, 1.6, 1.5, 1.6, 1.5, 1.3, 1.3, 1.3, 1.2, 1.4, 1.2, 1.0, 1.3, 1.2, 1.3, 1.3, 1.1, 1.3], \"mode\": \"markers\", \"x\": [4.7, 4.5, 4.9, 4.0, 4.6, 4.5, 4.7, 3.3, 4.6, 3.9, 3.5, 4.2, 4.0, 4.7, 3.6, 4.4, 4.5, 4.1, 4.5, 3.9, 4.8, 4.0, 4.9, 4.7, 4.3, 4.4, 4.8, 5.0, 4.5, 3.5, 3.8, 3.7, 3.9, 5.1, 4.5, 4.5, 4.7, 4.4, 4.1, 4.0, 4.4, 4.6, 4.0, 3.3, 4.2, 4.2, 4.2, 4.3, 3.0, 4.1], \"type\": \"scatter\"}, {\"name\": \"virginica\", \"uid\": \"049e02ee-6cda-4409-babb-f80bb8a7b988\", \"y\": [2.5, 1.9, 2.1, 1.8, 2.2, 2.1, 1.7, 1.8, 1.8, 2.5, 2.0, 1.9, 2.1, 2.0, 2.4, 2.3, 1.8, 2.2, 2.3, 1.5, 2.3, 2.0, 2.0, 1.8, 2.1, 1.8, 1.8, 1.8, 2.1, 1.6, 1.9, 2.0, 2.2, 1.5, 1.4, 2.3, 2.4, 1.8, 1.8, 2.1, 2.4, 2.3, 1.9, 2.3, 2.5, 2.3, 1.9, 2.0, 2.3, 1.8], \"mode\": \"markers\", \"x\": [6.0, 5.1, 5.9, 5.6, 5.8, 6.6, 4.5, 6.3, 5.8, 6.1, 5.1, 5.3, 5.5, 5.0, 5.1, 5.3, 5.5, 6.7, 6.9, 5.0, 5.7, 4.9, 6.7, 4.9, 5.7, 6.0, 4.8, 4.9, 5.6, 5.8, 6.1, 6.4, 5.6, 5.1, 5.6, 6.1, 5.6, 5.5, 4.8, 5.4, 5.6, 5.1, 5.1, 5.9, 5.7, 5.2, 5.0, 5.2, 5.4, 5.1], \"type\": \"scatter\"}], {}, {\"linkText\": \"Export to plot.ly\", \"plotlyServerURL\": \"https://plot.ly\", \"showLink\": true})});</script><script type=\"text/javascript\">window.addEventListener(\"resize\", function(){window._Plotly.Plots.resize(document.getElementById(\"6d424767-30db-497f-ba99-5ed424f291e0\"));});</script>"
      ],
      "text/vnd.plotly.v1+html": [
       "<div id=\"6d424767-30db-497f-ba99-5ed424f291e0\" style=\"height: 525px; width: 100%;\" class=\"plotly-graph-div\"></div><script type=\"text/javascript\">require([\"plotly\"], function(Plotly) { window.PLOTLYENV=window.PLOTLYENV || {};window.PLOTLYENV.BASE_URL=\"https://plot.ly\";Plotly.newPlot(\"6d424767-30db-497f-ba99-5ed424f291e0\", [{\"name\": \"setosa\", \"uid\": \"8aa49b2f-b964-43c7-8272-09c5f28bcec9\", \"y\": [0.2, 0.2, 0.2, 0.2, 0.2, 0.4, 0.3, 0.2, 0.2, 0.1, 0.2, 0.2, 0.1, 0.1, 0.2, 0.4, 0.4, 0.3, 0.3, 0.3, 0.2, 0.4, 0.2, 0.5, 0.2, 0.2, 0.4, 0.2, 0.2, 0.2, 0.2, 0.4, 0.1, 0.2, 0.1, 0.2, 0.2, 0.1, 0.2, 0.2, 0.3, 0.3, 0.2, 0.6, 0.4, 0.3, 0.2, 0.2, 0.2, 0.2], \"mode\": \"markers\", \"x\": [1.4, 1.4, 1.3, 1.5, 1.4, 1.7, 1.4, 1.5, 1.4, 1.5, 1.5, 1.6, 1.4, 1.1, 1.2, 1.5, 1.3, 1.4, 1.7, 1.5, 1.7, 1.5, 1.0, 1.7, 1.9, 1.6, 1.6, 1.5, 1.4, 1.6, 1.6, 1.5, 1.5, 1.4, 1.5, 1.2, 1.3, 1.5, 1.3, 1.5, 1.3, 1.3, 1.3, 1.6, 1.9, 1.4, 1.6, 1.4, 1.5, 1.4], \"type\": \"scatter\"}, {\"name\": \"versicolor\", \"uid\": \"2a734fc9-973d-45ad-9412-6d9834c5c904\", \"y\": [1.4, 1.5, 1.5, 1.3, 1.5, 1.3, 1.6, 1.0, 1.3, 1.4, 1.0, 1.5, 1.0, 1.4, 1.3, 1.4, 1.5, 1.0, 1.5, 1.1, 1.8, 1.3, 1.5, 1.2, 1.3, 1.4, 1.4, 1.7, 1.5, 1.0, 1.1, 1.0, 1.2, 1.6, 1.5, 1.6, 1.5, 1.3, 1.3, 1.3, 1.2, 1.4, 1.2, 1.0, 1.3, 1.2, 1.3, 1.3, 1.1, 1.3], \"mode\": \"markers\", \"x\": [4.7, 4.5, 4.9, 4.0, 4.6, 4.5, 4.7, 3.3, 4.6, 3.9, 3.5, 4.2, 4.0, 4.7, 3.6, 4.4, 4.5, 4.1, 4.5, 3.9, 4.8, 4.0, 4.9, 4.7, 4.3, 4.4, 4.8, 5.0, 4.5, 3.5, 3.8, 3.7, 3.9, 5.1, 4.5, 4.5, 4.7, 4.4, 4.1, 4.0, 4.4, 4.6, 4.0, 3.3, 4.2, 4.2, 4.2, 4.3, 3.0, 4.1], \"type\": \"scatter\"}, {\"name\": \"virginica\", \"uid\": \"049e02ee-6cda-4409-babb-f80bb8a7b988\", \"y\": [2.5, 1.9, 2.1, 1.8, 2.2, 2.1, 1.7, 1.8, 1.8, 2.5, 2.0, 1.9, 2.1, 2.0, 2.4, 2.3, 1.8, 2.2, 2.3, 1.5, 2.3, 2.0, 2.0, 1.8, 2.1, 1.8, 1.8, 1.8, 2.1, 1.6, 1.9, 2.0, 2.2, 1.5, 1.4, 2.3, 2.4, 1.8, 1.8, 2.1, 2.4, 2.3, 1.9, 2.3, 2.5, 2.3, 1.9, 2.0, 2.3, 1.8], \"mode\": \"markers\", \"x\": [6.0, 5.1, 5.9, 5.6, 5.8, 6.6, 4.5, 6.3, 5.8, 6.1, 5.1, 5.3, 5.5, 5.0, 5.1, 5.3, 5.5, 6.7, 6.9, 5.0, 5.7, 4.9, 6.7, 4.9, 5.7, 6.0, 4.8, 4.9, 5.6, 5.8, 6.1, 6.4, 5.6, 5.1, 5.6, 6.1, 5.6, 5.5, 4.8, 5.4, 5.6, 5.1, 5.1, 5.9, 5.7, 5.2, 5.0, 5.2, 5.4, 5.1], \"type\": \"scatter\"}], {}, {\"linkText\": \"Export to plot.ly\", \"plotlyServerURL\": \"https://plot.ly\", \"showLink\": true})});</script><script type=\"text/javascript\">window.addEventListener(\"resize\", function(){window._Plotly.Plots.resize(document.getElementById(\"6d424767-30db-497f-ba99-5ed424f291e0\"));});</script>"
      ]
     },
     "metadata": {},
     "output_type": "display_data"
    }
   ],
   "source": [
    "setosa = go.Scatter(x = df['PetalLengthCm'][df.Species =='Iris-setosa'], y = df['PetalWidthCm'][df.Species =='Iris-setosa']\n",
    "                   , mode = 'markers', name = 'setosa')\n",
    "versicolor = go.Scatter(x = df['PetalLengthCm'][df.Species =='Iris-versicolor'], y = df['PetalWidthCm'][df.Species =='Iris-versicolor']\n",
    "                   , mode = 'markers', name = 'versicolor')\n",
    "virginica = go.Scatter(x = df['PetalLengthCm'][df.Species =='Iris-virginica'], y = df['PetalWidthCm'][df.Species =='Iris-virginica']\n",
    "                   , mode = 'markers', name = 'virginica')\n",
    "data = [setosa, versicolor, virginica]\n",
    "fig = dict(data=data)\n",
    "py.iplot(fig, filename='styled-scatter')"
   ]
  },
  {
   "cell_type": "markdown",
   "metadata": {
    "_uuid": "5cf26e01889e05607ff263ef64047020bcf10441"
   },
   "source": [
    "Again based on petal we can easily classify setosa and for versicolor and virginica also we can classify but there is a thin line which should be taken care of"
   ]
  },
  {
   "cell_type": "markdown",
   "metadata": {
    "_uuid": "a1b7b9f53e9ef05304b3bc39977bc786fa461fc0"
   },
   "source": [
    "# <a id='value_petal_width'>Values distribution based on petal width</a><br>"
   ]
  },
  {
   "cell_type": "code",
   "execution_count": 11,
   "metadata": {
    "_kg_hide-input": true,
    "_uuid": "071848513d26db0df5a8e537bbbe18734db7f9db"
   },
   "outputs": [
    {
     "data": {
      "application/vnd.plotly.v1+json": {
       "config": {
        "linkText": "Export to plot.ly",
        "plotlyServerURL": "https://plot.ly",
        "showLink": true
       },
       "data": [
        {
         "boxmean": true,
         "name": "setosa",
         "type": "box",
         "uid": "52aa4aec-b854-4f89-a0a2-25648dee0872",
         "y": [
          0.2,
          0.2,
          0.2,
          0.2,
          0.2,
          0.4,
          0.3,
          0.2,
          0.2,
          0.1,
          0.2,
          0.2,
          0.1,
          0.1,
          0.2,
          0.4,
          0.4,
          0.3,
          0.3,
          0.3,
          0.2,
          0.4,
          0.2,
          0.5,
          0.2,
          0.2,
          0.4,
          0.2,
          0.2,
          0.2,
          0.2,
          0.4,
          0.1,
          0.2,
          0.1,
          0.2,
          0.2,
          0.1,
          0.2,
          0.2,
          0.3,
          0.3,
          0.2,
          0.6,
          0.4,
          0.3,
          0.2,
          0.2,
          0.2,
          0.2
         ]
        },
        {
         "boxmean": true,
         "name": "versicolor",
         "type": "box",
         "uid": "18151477-6697-4300-b37a-96e85d976d15",
         "y": [
          1.4,
          1.5,
          1.5,
          1.3,
          1.5,
          1.3,
          1.6,
          1,
          1.3,
          1.4,
          1,
          1.5,
          1,
          1.4,
          1.3,
          1.4,
          1.5,
          1,
          1.5,
          1.1,
          1.8,
          1.3,
          1.5,
          1.2,
          1.3,
          1.4,
          1.4,
          1.7,
          1.5,
          1,
          1.1,
          1,
          1.2,
          1.6,
          1.5,
          1.6,
          1.5,
          1.3,
          1.3,
          1.3,
          1.2,
          1.4,
          1.2,
          1,
          1.3,
          1.2,
          1.3,
          1.3,
          1.1,
          1.3
         ]
        },
        {
         "boxmean": true,
         "name": "virginica",
         "type": "box",
         "uid": "a47450fe-76c0-477c-8a84-53d3b0764224",
         "y": [
          2.5,
          1.9,
          2.1,
          1.8,
          2.2,
          2.1,
          1.7,
          1.8,
          1.8,
          2.5,
          2,
          1.9,
          2.1,
          2,
          2.4,
          2.3,
          1.8,
          2.2,
          2.3,
          1.5,
          2.3,
          2,
          2,
          1.8,
          2.1,
          1.8,
          1.8,
          1.8,
          2.1,
          1.6,
          1.9,
          2,
          2.2,
          1.5,
          1.4,
          2.3,
          2.4,
          1.8,
          1.8,
          2.1,
          2.4,
          2.3,
          1.9,
          2.3,
          2.5,
          2.3,
          1.9,
          2,
          2.3,
          1.8
         ]
        }
       ],
       "layout": {}
      },
      "text/html": [
       "<div id=\"f5a36ad5-524e-4157-be16-15a585db1524\" style=\"height: 525px; width: 100%;\" class=\"plotly-graph-div\"></div><script type=\"text/javascript\">require([\"plotly\"], function(Plotly) { window.PLOTLYENV=window.PLOTLYENV || {};window.PLOTLYENV.BASE_URL=\"https://plot.ly\";Plotly.newPlot(\"f5a36ad5-524e-4157-be16-15a585db1524\", [{\"name\": \"setosa\", \"boxmean\": true, \"uid\": \"a5673941-4f67-4e3d-8a81-bc5336d63650\", \"y\": [0.2, 0.2, 0.2, 0.2, 0.2, 0.4, 0.3, 0.2, 0.2, 0.1, 0.2, 0.2, 0.1, 0.1, 0.2, 0.4, 0.4, 0.3, 0.3, 0.3, 0.2, 0.4, 0.2, 0.5, 0.2, 0.2, 0.4, 0.2, 0.2, 0.2, 0.2, 0.4, 0.1, 0.2, 0.1, 0.2, 0.2, 0.1, 0.2, 0.2, 0.3, 0.3, 0.2, 0.6, 0.4, 0.3, 0.2, 0.2, 0.2, 0.2], \"type\": \"box\"}, {\"name\": \"versicolor\", \"boxmean\": true, \"uid\": \"b5a6cc4a-724b-4fa5-a135-5243d720d28d\", \"y\": [1.4, 1.5, 1.5, 1.3, 1.5, 1.3, 1.6, 1.0, 1.3, 1.4, 1.0, 1.5, 1.0, 1.4, 1.3, 1.4, 1.5, 1.0, 1.5, 1.1, 1.8, 1.3, 1.5, 1.2, 1.3, 1.4, 1.4, 1.7, 1.5, 1.0, 1.1, 1.0, 1.2, 1.6, 1.5, 1.6, 1.5, 1.3, 1.3, 1.3, 1.2, 1.4, 1.2, 1.0, 1.3, 1.2, 1.3, 1.3, 1.1, 1.3], \"type\": \"box\"}, {\"name\": \"virginica\", \"boxmean\": true, \"uid\": \"547ddcd4-a40e-4b03-957c-6f3417125596\", \"y\": [2.5, 1.9, 2.1, 1.8, 2.2, 2.1, 1.7, 1.8, 1.8, 2.5, 2.0, 1.9, 2.1, 2.0, 2.4, 2.3, 1.8, 2.2, 2.3, 1.5, 2.3, 2.0, 2.0, 1.8, 2.1, 1.8, 1.8, 1.8, 2.1, 1.6, 1.9, 2.0, 2.2, 1.5, 1.4, 2.3, 2.4, 1.8, 1.8, 2.1, 2.4, 2.3, 1.9, 2.3, 2.5, 2.3, 1.9, 2.0, 2.3, 1.8], \"type\": \"box\"}], {}, {\"linkText\": \"Export to plot.ly\", \"plotlyServerURL\": \"https://plot.ly\", \"showLink\": true})});</script><script type=\"text/javascript\">window.addEventListener(\"resize\", function(){window._Plotly.Plots.resize(document.getElementById(\"f5a36ad5-524e-4157-be16-15a585db1524\"));});</script>"
      ],
      "text/vnd.plotly.v1+html": [
       "<div id=\"f5a36ad5-524e-4157-be16-15a585db1524\" style=\"height: 525px; width: 100%;\" class=\"plotly-graph-div\"></div><script type=\"text/javascript\">require([\"plotly\"], function(Plotly) { window.PLOTLYENV=window.PLOTLYENV || {};window.PLOTLYENV.BASE_URL=\"https://plot.ly\";Plotly.newPlot(\"f5a36ad5-524e-4157-be16-15a585db1524\", [{\"name\": \"setosa\", \"boxmean\": true, \"uid\": \"a5673941-4f67-4e3d-8a81-bc5336d63650\", \"y\": [0.2, 0.2, 0.2, 0.2, 0.2, 0.4, 0.3, 0.2, 0.2, 0.1, 0.2, 0.2, 0.1, 0.1, 0.2, 0.4, 0.4, 0.3, 0.3, 0.3, 0.2, 0.4, 0.2, 0.5, 0.2, 0.2, 0.4, 0.2, 0.2, 0.2, 0.2, 0.4, 0.1, 0.2, 0.1, 0.2, 0.2, 0.1, 0.2, 0.2, 0.3, 0.3, 0.2, 0.6, 0.4, 0.3, 0.2, 0.2, 0.2, 0.2], \"type\": \"box\"}, {\"name\": \"versicolor\", \"boxmean\": true, \"uid\": \"b5a6cc4a-724b-4fa5-a135-5243d720d28d\", \"y\": [1.4, 1.5, 1.5, 1.3, 1.5, 1.3, 1.6, 1.0, 1.3, 1.4, 1.0, 1.5, 1.0, 1.4, 1.3, 1.4, 1.5, 1.0, 1.5, 1.1, 1.8, 1.3, 1.5, 1.2, 1.3, 1.4, 1.4, 1.7, 1.5, 1.0, 1.1, 1.0, 1.2, 1.6, 1.5, 1.6, 1.5, 1.3, 1.3, 1.3, 1.2, 1.4, 1.2, 1.0, 1.3, 1.2, 1.3, 1.3, 1.1, 1.3], \"type\": \"box\"}, {\"name\": \"virginica\", \"boxmean\": true, \"uid\": \"547ddcd4-a40e-4b03-957c-6f3417125596\", \"y\": [2.5, 1.9, 2.1, 1.8, 2.2, 2.1, 1.7, 1.8, 1.8, 2.5, 2.0, 1.9, 2.1, 2.0, 2.4, 2.3, 1.8, 2.2, 2.3, 1.5, 2.3, 2.0, 2.0, 1.8, 2.1, 1.8, 1.8, 1.8, 2.1, 1.6, 1.9, 2.0, 2.2, 1.5, 1.4, 2.3, 2.4, 1.8, 1.8, 2.1, 2.4, 2.3, 1.9, 2.3, 2.5, 2.3, 1.9, 2.0, 2.3, 1.8], \"type\": \"box\"}], {}, {\"linkText\": \"Export to plot.ly\", \"plotlyServerURL\": \"https://plot.ly\", \"showLink\": true})});</script><script type=\"text/javascript\">window.addEventListener(\"resize\", function(){window._Plotly.Plots.resize(document.getElementById(\"f5a36ad5-524e-4157-be16-15a585db1524\"));});</script>"
      ]
     },
     "metadata": {},
     "output_type": "display_data"
    }
   ],
   "source": [
    "trace0 = go.Box(y=df['PetalWidthCm'][df['Species'] == 'Iris-setosa'],boxmean=True, name = 'setosa')\n",
    "\n",
    "trace1 = go.Box(y=df['PetalWidthCm'][df['Species'] == 'Iris-versicolor'],boxmean=True, name = 'versicolor')\n",
    "\n",
    "trace2 = go.Box(y=df['PetalWidthCm'][df['Species'] == 'Iris-virginica'],boxmean=True, name = 'virginica')\n",
    "\n",
    "data = [trace0, trace1, trace2]\n",
    "py.iplot(data)"
   ]
  },
  {
   "cell_type": "markdown",
   "metadata": {
    "_uuid": "701b1b342063c036cc90434c31816a97d0cd9576"
   },
   "source": [
    "# <a id='value_petal_length'>Values distribution based on petal length</a><br>"
   ]
  },
  {
   "cell_type": "code",
   "execution_count": 12,
   "metadata": {
    "_kg_hide-input": true,
    "_uuid": "86a5654cad855f20849d36bf03aa3bd96902ec95"
   },
   "outputs": [
    {
     "data": {
      "application/vnd.plotly.v1+json": {
       "config": {
        "linkText": "Export to plot.ly",
        "plotlyServerURL": "https://plot.ly",
        "showLink": true
       },
       "data": [
        {
         "name": "setosa",
         "type": "box",
         "uid": "d9fcffc5-dbf7-40cb-8489-66ac8651f2a6",
         "y": [
          1.4,
          1.4,
          1.3,
          1.5,
          1.4,
          1.7,
          1.4,
          1.5,
          1.4,
          1.5,
          1.5,
          1.6,
          1.4,
          1.1,
          1.2,
          1.5,
          1.3,
          1.4,
          1.7,
          1.5,
          1.7,
          1.5,
          1,
          1.7,
          1.9,
          1.6,
          1.6,
          1.5,
          1.4,
          1.6,
          1.6,
          1.5,
          1.5,
          1.4,
          1.5,
          1.2,
          1.3,
          1.5,
          1.3,
          1.5,
          1.3,
          1.3,
          1.3,
          1.6,
          1.9,
          1.4,
          1.6,
          1.4,
          1.5,
          1.4
         ]
        },
        {
         "name": "versicolor",
         "type": "box",
         "uid": "906c7461-7e78-474c-bc12-40cb35cc8165",
         "y": [
          4.7,
          4.5,
          4.9,
          4,
          4.6,
          4.5,
          4.7,
          3.3,
          4.6,
          3.9,
          3.5,
          4.2,
          4,
          4.7,
          3.6,
          4.4,
          4.5,
          4.1,
          4.5,
          3.9,
          4.8,
          4,
          4.9,
          4.7,
          4.3,
          4.4,
          4.8,
          5,
          4.5,
          3.5,
          3.8,
          3.7,
          3.9,
          5.1,
          4.5,
          4.5,
          4.7,
          4.4,
          4.1,
          4,
          4.4,
          4.6,
          4,
          3.3,
          4.2,
          4.2,
          4.2,
          4.3,
          3,
          4.1
         ]
        },
        {
         "name": "virginica",
         "type": "box",
         "uid": "f727501c-4136-45ae-87de-607fdc16cd37",
         "y": [
          6,
          5.1,
          5.9,
          5.6,
          5.8,
          6.6,
          4.5,
          6.3,
          5.8,
          6.1,
          5.1,
          5.3,
          5.5,
          5,
          5.1,
          5.3,
          5.5,
          6.7,
          6.9,
          5,
          5.7,
          4.9,
          6.7,
          4.9,
          5.7,
          6,
          4.8,
          4.9,
          5.6,
          5.8,
          6.1,
          6.4,
          5.6,
          5.1,
          5.6,
          6.1,
          5.6,
          5.5,
          4.8,
          5.4,
          5.6,
          5.1,
          5.1,
          5.9,
          5.7,
          5.2,
          5,
          5.2,
          5.4,
          5.1
         ]
        }
       ],
       "layout": {}
      },
      "text/html": [
       "<div id=\"78db67d1-cf62-42e4-bb65-320047a2092d\" style=\"height: 525px; width: 100%;\" class=\"plotly-graph-div\"></div><script type=\"text/javascript\">require([\"plotly\"], function(Plotly) { window.PLOTLYENV=window.PLOTLYENV || {};window.PLOTLYENV.BASE_URL=\"https://plot.ly\";Plotly.newPlot(\"78db67d1-cf62-42e4-bb65-320047a2092d\", [{\"name\": \"setosa\", \"uid\": \"46bff317-fcff-4f14-963b-2a5554f7ab78\", \"y\": [1.4, 1.4, 1.3, 1.5, 1.4, 1.7, 1.4, 1.5, 1.4, 1.5, 1.5, 1.6, 1.4, 1.1, 1.2, 1.5, 1.3, 1.4, 1.7, 1.5, 1.7, 1.5, 1.0, 1.7, 1.9, 1.6, 1.6, 1.5, 1.4, 1.6, 1.6, 1.5, 1.5, 1.4, 1.5, 1.2, 1.3, 1.5, 1.3, 1.5, 1.3, 1.3, 1.3, 1.6, 1.9, 1.4, 1.6, 1.4, 1.5, 1.4], \"type\": \"box\"}, {\"name\": \"versicolor\", \"uid\": \"9d58fafb-ba55-4412-98a8-5ac423a8d4a2\", \"y\": [4.7, 4.5, 4.9, 4.0, 4.6, 4.5, 4.7, 3.3, 4.6, 3.9, 3.5, 4.2, 4.0, 4.7, 3.6, 4.4, 4.5, 4.1, 4.5, 3.9, 4.8, 4.0, 4.9, 4.7, 4.3, 4.4, 4.8, 5.0, 4.5, 3.5, 3.8, 3.7, 3.9, 5.1, 4.5, 4.5, 4.7, 4.4, 4.1, 4.0, 4.4, 4.6, 4.0, 3.3, 4.2, 4.2, 4.2, 4.3, 3.0, 4.1], \"type\": \"box\"}, {\"name\": \"virginica\", \"uid\": \"7bcc62d7-b8f8-43b3-8b69-ead038955de7\", \"y\": [6.0, 5.1, 5.9, 5.6, 5.8, 6.6, 4.5, 6.3, 5.8, 6.1, 5.1, 5.3, 5.5, 5.0, 5.1, 5.3, 5.5, 6.7, 6.9, 5.0, 5.7, 4.9, 6.7, 4.9, 5.7, 6.0, 4.8, 4.9, 5.6, 5.8, 6.1, 6.4, 5.6, 5.1, 5.6, 6.1, 5.6, 5.5, 4.8, 5.4, 5.6, 5.1, 5.1, 5.9, 5.7, 5.2, 5.0, 5.2, 5.4, 5.1], \"type\": \"box\"}], {}, {\"linkText\": \"Export to plot.ly\", \"plotlyServerURL\": \"https://plot.ly\", \"showLink\": true})});</script><script type=\"text/javascript\">window.addEventListener(\"resize\", function(){window._Plotly.Plots.resize(document.getElementById(\"78db67d1-cf62-42e4-bb65-320047a2092d\"));});</script>"
      ],
      "text/vnd.plotly.v1+html": [
       "<div id=\"78db67d1-cf62-42e4-bb65-320047a2092d\" style=\"height: 525px; width: 100%;\" class=\"plotly-graph-div\"></div><script type=\"text/javascript\">require([\"plotly\"], function(Plotly) { window.PLOTLYENV=window.PLOTLYENV || {};window.PLOTLYENV.BASE_URL=\"https://plot.ly\";Plotly.newPlot(\"78db67d1-cf62-42e4-bb65-320047a2092d\", [{\"name\": \"setosa\", \"uid\": \"46bff317-fcff-4f14-963b-2a5554f7ab78\", \"y\": [1.4, 1.4, 1.3, 1.5, 1.4, 1.7, 1.4, 1.5, 1.4, 1.5, 1.5, 1.6, 1.4, 1.1, 1.2, 1.5, 1.3, 1.4, 1.7, 1.5, 1.7, 1.5, 1.0, 1.7, 1.9, 1.6, 1.6, 1.5, 1.4, 1.6, 1.6, 1.5, 1.5, 1.4, 1.5, 1.2, 1.3, 1.5, 1.3, 1.5, 1.3, 1.3, 1.3, 1.6, 1.9, 1.4, 1.6, 1.4, 1.5, 1.4], \"type\": \"box\"}, {\"name\": \"versicolor\", \"uid\": \"9d58fafb-ba55-4412-98a8-5ac423a8d4a2\", \"y\": [4.7, 4.5, 4.9, 4.0, 4.6, 4.5, 4.7, 3.3, 4.6, 3.9, 3.5, 4.2, 4.0, 4.7, 3.6, 4.4, 4.5, 4.1, 4.5, 3.9, 4.8, 4.0, 4.9, 4.7, 4.3, 4.4, 4.8, 5.0, 4.5, 3.5, 3.8, 3.7, 3.9, 5.1, 4.5, 4.5, 4.7, 4.4, 4.1, 4.0, 4.4, 4.6, 4.0, 3.3, 4.2, 4.2, 4.2, 4.3, 3.0, 4.1], \"type\": \"box\"}, {\"name\": \"virginica\", \"uid\": \"7bcc62d7-b8f8-43b3-8b69-ead038955de7\", \"y\": [6.0, 5.1, 5.9, 5.6, 5.8, 6.6, 4.5, 6.3, 5.8, 6.1, 5.1, 5.3, 5.5, 5.0, 5.1, 5.3, 5.5, 6.7, 6.9, 5.0, 5.7, 4.9, 6.7, 4.9, 5.7, 6.0, 4.8, 4.9, 5.6, 5.8, 6.1, 6.4, 5.6, 5.1, 5.6, 6.1, 5.6, 5.5, 4.8, 5.4, 5.6, 5.1, 5.1, 5.9, 5.7, 5.2, 5.0, 5.2, 5.4, 5.1], \"type\": \"box\"}], {}, {\"linkText\": \"Export to plot.ly\", \"plotlyServerURL\": \"https://plot.ly\", \"showLink\": true})});</script><script type=\"text/javascript\">window.addEventListener(\"resize\", function(){window._Plotly.Plots.resize(document.getElementById(\"78db67d1-cf62-42e4-bb65-320047a2092d\"));});</script>"
      ]
     },
     "metadata": {},
     "output_type": "display_data"
    }
   ],
   "source": [
    "trace0 = go.Box(y=df['PetalLengthCm'][df['Species'] == 'Iris-setosa'],name = 'setosa')\n",
    "\n",
    "trace1 = go.Box(y=df['PetalLengthCm'][df['Species'] == 'Iris-versicolor'], name = 'versicolor')\n",
    "\n",
    "trace2 = go.Box(y=df['PetalLengthCm'][df['Species'] == 'Iris-virginica'], name = 'virginica')\n",
    "\n",
    "data = [trace0, trace1, trace2]\n",
    "py.iplot(data)"
   ]
  },
  {
   "cell_type": "markdown",
   "metadata": {
    "_uuid": "eeced3bb248a78ebbae2f14e14c606e21f66fa1f"
   },
   "source": [
    "# <a id='value_sepal_length'>Values distribution based on sepal length</a><br>"
   ]
  },
  {
   "cell_type": "code",
   "execution_count": 13,
   "metadata": {
    "_kg_hide-input": true,
    "_uuid": "bf133320780ea073a2d563d34ae134cc846c87f3"
   },
   "outputs": [
    {
     "data": {
      "application/vnd.plotly.v1+json": {
       "config": {
        "linkText": "Export to plot.ly",
        "plotlyServerURL": "https://plot.ly",
        "showLink": true
       },
       "data": [
        {
         "name": "setosa",
         "type": "box",
         "uid": "a1209f51-5263-4792-a1d6-52c8e7b40b0c",
         "y": [
          5.1,
          4.9,
          4.7,
          4.6,
          5,
          5.4,
          4.6,
          5,
          4.4,
          4.9,
          5.4,
          4.8,
          4.8,
          4.3,
          5.8,
          5.7,
          5.4,
          5.1,
          5.7,
          5.1,
          5.4,
          5.1,
          4.6,
          5.1,
          4.8,
          5,
          5,
          5.2,
          5.2,
          4.7,
          4.8,
          5.4,
          5.2,
          5.5,
          4.9,
          5,
          5.5,
          4.9,
          4.4,
          5.1,
          5,
          4.5,
          4.4,
          5,
          5.1,
          4.8,
          5.1,
          4.6,
          5.3,
          5
         ]
        },
        {
         "name": "versicolor",
         "type": "box",
         "uid": "52634b07-791f-4d45-8354-bf62e3387348",
         "y": [
          7,
          6.4,
          6.9,
          5.5,
          6.5,
          5.7,
          6.3,
          4.9,
          6.6,
          5.2,
          5,
          5.9,
          6,
          6.1,
          5.6,
          6.7,
          5.6,
          5.8,
          6.2,
          5.6,
          5.9,
          6.1,
          6.3,
          6.1,
          6.4,
          6.6,
          6.8,
          6.7,
          6,
          5.7,
          5.5,
          5.5,
          5.8,
          6,
          5.4,
          6,
          6.7,
          6.3,
          5.6,
          5.5,
          5.5,
          6.1,
          5.8,
          5,
          5.6,
          5.7,
          5.7,
          6.2,
          5.1,
          5.7
         ]
        },
        {
         "name": "virginica",
         "type": "box",
         "uid": "69dd656f-d9f4-49a8-a0ff-b45519a7ae4c",
         "y": [
          6.3,
          5.8,
          7.1,
          6.3,
          6.5,
          7.6,
          4.9,
          7.3,
          6.7,
          7.2,
          6.5,
          6.4,
          6.8,
          5.7,
          5.8,
          6.4,
          6.5,
          7.7,
          7.7,
          6,
          6.9,
          5.6,
          7.7,
          6.3,
          6.7,
          7.2,
          6.2,
          6.1,
          6.4,
          7.2,
          7.4,
          7.9,
          6.4,
          6.3,
          6.1,
          7.7,
          6.3,
          6.4,
          6,
          6.9,
          6.7,
          6.9,
          5.8,
          6.8,
          6.7,
          6.7,
          6.3,
          6.5,
          6.2,
          5.9
         ]
        }
       ],
       "layout": {}
      },
      "text/html": [
       "<div id=\"5b2c4bcc-e4fb-4d2a-ab24-e949d0528576\" style=\"height: 525px; width: 100%;\" class=\"plotly-graph-div\"></div><script type=\"text/javascript\">require([\"plotly\"], function(Plotly) { window.PLOTLYENV=window.PLOTLYENV || {};window.PLOTLYENV.BASE_URL=\"https://plot.ly\";Plotly.newPlot(\"5b2c4bcc-e4fb-4d2a-ab24-e949d0528576\", [{\"name\": \"setosa\", \"uid\": \"b8e8a18e-aec4-43be-8226-c0e1fdb92f4b\", \"y\": [5.1, 4.9, 4.7, 4.6, 5.0, 5.4, 4.6, 5.0, 4.4, 4.9, 5.4, 4.8, 4.8, 4.3, 5.8, 5.7, 5.4, 5.1, 5.7, 5.1, 5.4, 5.1, 4.6, 5.1, 4.8, 5.0, 5.0, 5.2, 5.2, 4.7, 4.8, 5.4, 5.2, 5.5, 4.9, 5.0, 5.5, 4.9, 4.4, 5.1, 5.0, 4.5, 4.4, 5.0, 5.1, 4.8, 5.1, 4.6, 5.3, 5.0], \"type\": \"box\"}, {\"name\": \"versicolor\", \"uid\": \"b8b3861c-864f-4214-8f8b-3c8a43707cec\", \"y\": [7.0, 6.4, 6.9, 5.5, 6.5, 5.7, 6.3, 4.9, 6.6, 5.2, 5.0, 5.9, 6.0, 6.1, 5.6, 6.7, 5.6, 5.8, 6.2, 5.6, 5.9, 6.1, 6.3, 6.1, 6.4, 6.6, 6.8, 6.7, 6.0, 5.7, 5.5, 5.5, 5.8, 6.0, 5.4, 6.0, 6.7, 6.3, 5.6, 5.5, 5.5, 6.1, 5.8, 5.0, 5.6, 5.7, 5.7, 6.2, 5.1, 5.7], \"type\": \"box\"}, {\"name\": \"virginica\", \"uid\": \"0ab647f3-3a53-4a1f-882e-2189f0a91823\", \"y\": [6.3, 5.8, 7.1, 6.3, 6.5, 7.6, 4.9, 7.3, 6.7, 7.2, 6.5, 6.4, 6.8, 5.7, 5.8, 6.4, 6.5, 7.7, 7.7, 6.0, 6.9, 5.6, 7.7, 6.3, 6.7, 7.2, 6.2, 6.1, 6.4, 7.2, 7.4, 7.9, 6.4, 6.3, 6.1, 7.7, 6.3, 6.4, 6.0, 6.9, 6.7, 6.9, 5.8, 6.8, 6.7, 6.7, 6.3, 6.5, 6.2, 5.9], \"type\": \"box\"}], {}, {\"linkText\": \"Export to plot.ly\", \"plotlyServerURL\": \"https://plot.ly\", \"showLink\": true})});</script><script type=\"text/javascript\">window.addEventListener(\"resize\", function(){window._Plotly.Plots.resize(document.getElementById(\"5b2c4bcc-e4fb-4d2a-ab24-e949d0528576\"));});</script>"
      ],
      "text/vnd.plotly.v1+html": [
       "<div id=\"5b2c4bcc-e4fb-4d2a-ab24-e949d0528576\" style=\"height: 525px; width: 100%;\" class=\"plotly-graph-div\"></div><script type=\"text/javascript\">require([\"plotly\"], function(Plotly) { window.PLOTLYENV=window.PLOTLYENV || {};window.PLOTLYENV.BASE_URL=\"https://plot.ly\";Plotly.newPlot(\"5b2c4bcc-e4fb-4d2a-ab24-e949d0528576\", [{\"name\": \"setosa\", \"uid\": \"b8e8a18e-aec4-43be-8226-c0e1fdb92f4b\", \"y\": [5.1, 4.9, 4.7, 4.6, 5.0, 5.4, 4.6, 5.0, 4.4, 4.9, 5.4, 4.8, 4.8, 4.3, 5.8, 5.7, 5.4, 5.1, 5.7, 5.1, 5.4, 5.1, 4.6, 5.1, 4.8, 5.0, 5.0, 5.2, 5.2, 4.7, 4.8, 5.4, 5.2, 5.5, 4.9, 5.0, 5.5, 4.9, 4.4, 5.1, 5.0, 4.5, 4.4, 5.0, 5.1, 4.8, 5.1, 4.6, 5.3, 5.0], \"type\": \"box\"}, {\"name\": \"versicolor\", \"uid\": \"b8b3861c-864f-4214-8f8b-3c8a43707cec\", \"y\": [7.0, 6.4, 6.9, 5.5, 6.5, 5.7, 6.3, 4.9, 6.6, 5.2, 5.0, 5.9, 6.0, 6.1, 5.6, 6.7, 5.6, 5.8, 6.2, 5.6, 5.9, 6.1, 6.3, 6.1, 6.4, 6.6, 6.8, 6.7, 6.0, 5.7, 5.5, 5.5, 5.8, 6.0, 5.4, 6.0, 6.7, 6.3, 5.6, 5.5, 5.5, 6.1, 5.8, 5.0, 5.6, 5.7, 5.7, 6.2, 5.1, 5.7], \"type\": \"box\"}, {\"name\": \"virginica\", \"uid\": \"0ab647f3-3a53-4a1f-882e-2189f0a91823\", \"y\": [6.3, 5.8, 7.1, 6.3, 6.5, 7.6, 4.9, 7.3, 6.7, 7.2, 6.5, 6.4, 6.8, 5.7, 5.8, 6.4, 6.5, 7.7, 7.7, 6.0, 6.9, 5.6, 7.7, 6.3, 6.7, 7.2, 6.2, 6.1, 6.4, 7.2, 7.4, 7.9, 6.4, 6.3, 6.1, 7.7, 6.3, 6.4, 6.0, 6.9, 6.7, 6.9, 5.8, 6.8, 6.7, 6.7, 6.3, 6.5, 6.2, 5.9], \"type\": \"box\"}], {}, {\"linkText\": \"Export to plot.ly\", \"plotlyServerURL\": \"https://plot.ly\", \"showLink\": true})});</script><script type=\"text/javascript\">window.addEventListener(\"resize\", function(){window._Plotly.Plots.resize(document.getElementById(\"5b2c4bcc-e4fb-4d2a-ab24-e949d0528576\"));});</script>"
      ]
     },
     "metadata": {},
     "output_type": "display_data"
    }
   ],
   "source": [
    "trace0 = go.Box(y=df['SepalLengthCm'][df['Species'] == 'Iris-setosa'], name = 'setosa')\n",
    "\n",
    "trace1 = go.Box(y=df['SepalLengthCm'][df['Species'] == 'Iris-versicolor'], name = 'versicolor')\n",
    "\n",
    "trace2 = go.Box(y=df['SepalLengthCm'][df['Species'] == 'Iris-virginica'], name = 'virginica')\n",
    "\n",
    "data = [trace0, trace1, trace2]\n",
    "py.iplot(data)"
   ]
  },
  {
   "cell_type": "markdown",
   "metadata": {
    "_uuid": "95a6803effd816173cca2541d484006cfb265d93"
   },
   "source": [
    "# <a id='value_sepal_width'>Values distribution based on sepal width</a><br>"
   ]
  },
  {
   "cell_type": "code",
   "execution_count": 14,
   "metadata": {
    "_kg_hide-input": true,
    "_uuid": "79dc6ea6222ce9657a44cb79400a5c1689a775be"
   },
   "outputs": [
    {
     "data": {
      "application/vnd.plotly.v1+json": {
       "config": {
        "linkText": "Export to plot.ly",
        "plotlyServerURL": "https://plot.ly",
        "showLink": true
       },
       "data": [
        {
         "name": "setosa",
         "type": "box",
         "uid": "f5456d06-35d2-4678-a45e-53f712b072d3",
         "y": [
          5.1,
          4.9,
          4.7,
          4.6,
          5,
          5.4,
          4.6,
          5,
          4.4,
          4.9,
          5.4,
          4.8,
          4.8,
          4.3,
          5.8,
          5.7,
          5.4,
          5.1,
          5.7,
          5.1,
          5.4,
          5.1,
          4.6,
          5.1,
          4.8,
          5,
          5,
          5.2,
          5.2,
          4.7,
          4.8,
          5.4,
          5.2,
          5.5,
          4.9,
          5,
          5.5,
          4.9,
          4.4,
          5.1,
          5,
          4.5,
          4.4,
          5,
          5.1,
          4.8,
          5.1,
          4.6,
          5.3,
          5
         ]
        },
        {
         "name": "versicolor",
         "type": "box",
         "uid": "018bee67-f2aa-4de7-8e98-dc53c50a86f8",
         "y": [
          7,
          6.4,
          6.9,
          5.5,
          6.5,
          5.7,
          6.3,
          4.9,
          6.6,
          5.2,
          5,
          5.9,
          6,
          6.1,
          5.6,
          6.7,
          5.6,
          5.8,
          6.2,
          5.6,
          5.9,
          6.1,
          6.3,
          6.1,
          6.4,
          6.6,
          6.8,
          6.7,
          6,
          5.7,
          5.5,
          5.5,
          5.8,
          6,
          5.4,
          6,
          6.7,
          6.3,
          5.6,
          5.5,
          5.5,
          6.1,
          5.8,
          5,
          5.6,
          5.7,
          5.7,
          6.2,
          5.1,
          5.7
         ]
        },
        {
         "name": "virginica",
         "type": "box",
         "uid": "c66f7162-b0ca-4da0-bc10-8825f1396433",
         "y": [
          6.3,
          5.8,
          7.1,
          6.3,
          6.5,
          7.6,
          4.9,
          7.3,
          6.7,
          7.2,
          6.5,
          6.4,
          6.8,
          5.7,
          5.8,
          6.4,
          6.5,
          7.7,
          7.7,
          6,
          6.9,
          5.6,
          7.7,
          6.3,
          6.7,
          7.2,
          6.2,
          6.1,
          6.4,
          7.2,
          7.4,
          7.9,
          6.4,
          6.3,
          6.1,
          7.7,
          6.3,
          6.4,
          6,
          6.9,
          6.7,
          6.9,
          5.8,
          6.8,
          6.7,
          6.7,
          6.3,
          6.5,
          6.2,
          5.9
         ]
        }
       ],
       "layout": {}
      },
      "text/html": [
       "<div id=\"2b445c4f-7fbd-473c-b5d3-1d81d39e8978\" style=\"height: 525px; width: 100%;\" class=\"plotly-graph-div\"></div><script type=\"text/javascript\">require([\"plotly\"], function(Plotly) { window.PLOTLYENV=window.PLOTLYENV || {};window.PLOTLYENV.BASE_URL=\"https://plot.ly\";Plotly.newPlot(\"2b445c4f-7fbd-473c-b5d3-1d81d39e8978\", [{\"name\": \"setosa\", \"uid\": \"dc483cb7-ff92-43bd-b35a-52a286ae32c9\", \"y\": [5.1, 4.9, 4.7, 4.6, 5.0, 5.4, 4.6, 5.0, 4.4, 4.9, 5.4, 4.8, 4.8, 4.3, 5.8, 5.7, 5.4, 5.1, 5.7, 5.1, 5.4, 5.1, 4.6, 5.1, 4.8, 5.0, 5.0, 5.2, 5.2, 4.7, 4.8, 5.4, 5.2, 5.5, 4.9, 5.0, 5.5, 4.9, 4.4, 5.1, 5.0, 4.5, 4.4, 5.0, 5.1, 4.8, 5.1, 4.6, 5.3, 5.0], \"type\": \"box\"}, {\"name\": \"versicolor\", \"uid\": \"4efe4cff-5595-44f7-9524-76fbc714e03e\", \"y\": [7.0, 6.4, 6.9, 5.5, 6.5, 5.7, 6.3, 4.9, 6.6, 5.2, 5.0, 5.9, 6.0, 6.1, 5.6, 6.7, 5.6, 5.8, 6.2, 5.6, 5.9, 6.1, 6.3, 6.1, 6.4, 6.6, 6.8, 6.7, 6.0, 5.7, 5.5, 5.5, 5.8, 6.0, 5.4, 6.0, 6.7, 6.3, 5.6, 5.5, 5.5, 6.1, 5.8, 5.0, 5.6, 5.7, 5.7, 6.2, 5.1, 5.7], \"type\": \"box\"}, {\"name\": \"virginica\", \"uid\": \"465f0a0d-22c8-4048-b4bc-1ba98a32e15f\", \"y\": [6.3, 5.8, 7.1, 6.3, 6.5, 7.6, 4.9, 7.3, 6.7, 7.2, 6.5, 6.4, 6.8, 5.7, 5.8, 6.4, 6.5, 7.7, 7.7, 6.0, 6.9, 5.6, 7.7, 6.3, 6.7, 7.2, 6.2, 6.1, 6.4, 7.2, 7.4, 7.9, 6.4, 6.3, 6.1, 7.7, 6.3, 6.4, 6.0, 6.9, 6.7, 6.9, 5.8, 6.8, 6.7, 6.7, 6.3, 6.5, 6.2, 5.9], \"type\": \"box\"}], {}, {\"linkText\": \"Export to plot.ly\", \"plotlyServerURL\": \"https://plot.ly\", \"showLink\": true})});</script><script type=\"text/javascript\">window.addEventListener(\"resize\", function(){window._Plotly.Plots.resize(document.getElementById(\"2b445c4f-7fbd-473c-b5d3-1d81d39e8978\"));});</script>"
      ],
      "text/vnd.plotly.v1+html": [
       "<div id=\"2b445c4f-7fbd-473c-b5d3-1d81d39e8978\" style=\"height: 525px; width: 100%;\" class=\"plotly-graph-div\"></div><script type=\"text/javascript\">require([\"plotly\"], function(Plotly) { window.PLOTLYENV=window.PLOTLYENV || {};window.PLOTLYENV.BASE_URL=\"https://plot.ly\";Plotly.newPlot(\"2b445c4f-7fbd-473c-b5d3-1d81d39e8978\", [{\"name\": \"setosa\", \"uid\": \"dc483cb7-ff92-43bd-b35a-52a286ae32c9\", \"y\": [5.1, 4.9, 4.7, 4.6, 5.0, 5.4, 4.6, 5.0, 4.4, 4.9, 5.4, 4.8, 4.8, 4.3, 5.8, 5.7, 5.4, 5.1, 5.7, 5.1, 5.4, 5.1, 4.6, 5.1, 4.8, 5.0, 5.0, 5.2, 5.2, 4.7, 4.8, 5.4, 5.2, 5.5, 4.9, 5.0, 5.5, 4.9, 4.4, 5.1, 5.0, 4.5, 4.4, 5.0, 5.1, 4.8, 5.1, 4.6, 5.3, 5.0], \"type\": \"box\"}, {\"name\": \"versicolor\", \"uid\": \"4efe4cff-5595-44f7-9524-76fbc714e03e\", \"y\": [7.0, 6.4, 6.9, 5.5, 6.5, 5.7, 6.3, 4.9, 6.6, 5.2, 5.0, 5.9, 6.0, 6.1, 5.6, 6.7, 5.6, 5.8, 6.2, 5.6, 5.9, 6.1, 6.3, 6.1, 6.4, 6.6, 6.8, 6.7, 6.0, 5.7, 5.5, 5.5, 5.8, 6.0, 5.4, 6.0, 6.7, 6.3, 5.6, 5.5, 5.5, 6.1, 5.8, 5.0, 5.6, 5.7, 5.7, 6.2, 5.1, 5.7], \"type\": \"box\"}, {\"name\": \"virginica\", \"uid\": \"465f0a0d-22c8-4048-b4bc-1ba98a32e15f\", \"y\": [6.3, 5.8, 7.1, 6.3, 6.5, 7.6, 4.9, 7.3, 6.7, 7.2, 6.5, 6.4, 6.8, 5.7, 5.8, 6.4, 6.5, 7.7, 7.7, 6.0, 6.9, 5.6, 7.7, 6.3, 6.7, 7.2, 6.2, 6.1, 6.4, 7.2, 7.4, 7.9, 6.4, 6.3, 6.1, 7.7, 6.3, 6.4, 6.0, 6.9, 6.7, 6.9, 5.8, 6.8, 6.7, 6.7, 6.3, 6.5, 6.2, 5.9], \"type\": \"box\"}], {}, {\"linkText\": \"Export to plot.ly\", \"plotlyServerURL\": \"https://plot.ly\", \"showLink\": true})});</script><script type=\"text/javascript\">window.addEventListener(\"resize\", function(){window._Plotly.Plots.resize(document.getElementById(\"2b445c4f-7fbd-473c-b5d3-1d81d39e8978\"));});</script>"
      ]
     },
     "metadata": {},
     "output_type": "display_data"
    }
   ],
   "source": [
    "setosa = go.Box(y=df['SepalWidthCm'][df['Species'] == 'Iris-setosa'])\n",
    "\n",
    "versicolor = go.Box(y=df['SepalWidthCm'][df['Species'] == 'Iris-versicolor'])\n",
    "\n",
    "virginica = go.Box(y=df['SepalWidthCm'][df['Species'] == 'Iris-virginica'])\n",
    "\n",
    "data = [trace0, trace1, trace2]\n",
    "py.iplot(data)"
   ]
  },
  {
   "cell_type": "markdown",
   "metadata": {
    "_uuid": "b45612410841c2119cf11e1337f0e089946b5357"
   },
   "source": [
    "- From the above four graph you can see that the distribution of setosa < vericolor < virginica\n",
    "- There are few outliers which can be explained by the scatter plot graph."
   ]
  },
  {
   "cell_type": "markdown",
   "metadata": {
    "_uuid": "4b410ac18f7e4542d395224b11b85899c8d33d8e"
   },
   "source": [
    "# <a id='andrew'>Andrew curves</a><br>"
   ]
  },
  {
   "cell_type": "code",
   "execution_count": 15,
   "metadata": {
    "_kg_hide-input": true,
    "_uuid": "1e8b8291b2ce40d551e3d735f44bcb148ddf21bc"
   },
   "outputs": [
    {
     "data": {
      "text/plain": [
       "<matplotlib.axes._subplots.AxesSubplot at 0x7f459e2c9c18>"
      ]
     },
     "execution_count": 15,
     "metadata": {},
     "output_type": "execute_result"
    },
    {
     "data": {
      "image/png": "[encoded data removed]",
      "text/plain": [
       "<Figure size 720x576 with 2 Axes>"
      ]
     },
     "metadata": {},
     "output_type": "display_data"
    }
   ],
   "source": [
    "plt.subplots(figsize = (10,8))\n",
    "\n",
    "plotting.andrews_curves(df.drop(\"Id\", axis=1), \"Species\")"
   ]
  },
  {
   "cell_type": "markdown",
   "metadata": {
    "_uuid": "63b9baaba108899a03d086f070cffcb686ab46f3"
   },
   "source": [
    "Andrews curves are a method for visualizing multidimensional data by mapping each observation onto a function.\n",
    "\n",
    "Source - https://dzone.com/articles/andrews-curves"
   ]
  },
  {
   "cell_type": "markdown",
   "metadata": {
    "_uuid": "6dd6113a725c65cd882b9694c928ae50cf2108c8"
   },
   "source": [
    "Lets create a regression plot for both petal and sepal"
   ]
  },
  {
   "cell_type": "markdown",
   "metadata": {
    "_uuid": "c82b8e53167921c3fe707b3a04cdc1c157302910"
   },
   "source": [
    "# <a id='lin_sepal'>Linear regression based on sepal</a><br>"
   ]
  },
  {
   "cell_type": "code",
   "execution_count": 16,
   "metadata": {
    "_kg_hide-input": true,
    "_uuid": "59cccdfa7d2cfc6454e7ec289662121f1ae45af2"
   },
   "outputs": [
    {
     "data": {
      "image/png": "[encoded data removed]",
      "text/plain": [
       "<Figure size 463.5x360 with 1 Axes>"
      ]
     },
     "metadata": {},
     "output_type": "display_data"
    }
   ],
   "source": [
    "g = sns.lmplot(x=\"SepalWidthCm\", y=\"SepalLengthCm\", hue=\"Species\", data=df)"
   ]
  },
  {
   "cell_type": "markdown",
   "metadata": {
    "_uuid": "98e6c59ba5e18909aa2012a3e5360e2b51e517dd"
   },
   "source": [
    "# <a id='lin_petal'>Linear regression based on petal</a><br>"
   ]
  },
  {
   "cell_type": "code",
   "execution_count": 17,
   "metadata": {
    "_kg_hide-input": true,
    "_uuid": "90c3f7b518b9ee89dc7a407232c32b3c394b78f7"
   },
   "outputs": [
    {
     "data": {
      "image/png": "[encoded data removed]",
      "text/plain": [
       "<Figure size 463.5x360 with 1 Axes>"
      ]
     },
     "metadata": {},
     "output_type": "display_data"
    }
   ],
   "source": [
    "g = sns.lmplot(x=\"PetalWidthCm\", y=\"PetalLengthCm\", hue=\"Species\", data=df)"
   ]
  },
  {
   "cell_type": "markdown",
   "metadata": {
    "_uuid": "990cd600747e780a0a5941564fc87ec1b2cf5d38"
   },
   "source": [
    "We have seen the visualization part\n",
    "<br>\n",
    "Now lets see the how to apply machine learning to the dataset"
   ]
  },
  {
   "cell_type": "markdown",
   "metadata": {
    "_uuid": "3bb8608826995545cf9cbaba625a6a877afb13a0"
   },
   "source": [
    "# <a id='ml'>What is machine learning ?</a><br> "
   ]
  },
  {
   "cell_type": "markdown",
   "metadata": {
    "_uuid": "3070eda42cec146241b3b53952d14d0034e56ced"
   },
   "source": [
    "The process of learning begins with observations or data, such as examples, direct experience, or instruction, in order to look for patterns in data and make better decisions in the future based on the examples that we provide. The primary aim is to allow the computers learn automatically without human intervention or assistance and adjust actions accordingly.\n",
    "\n",
    "Please go through the blog for in-depth description of machine learning\n",
    "https://www.expertsystem.com/machine-learning-definition/"
   ]
  },
  {
   "cell_type": "markdown",
   "metadata": {
    "_uuid": "c570c2cf8c63a01260ac932868a3bd2244d501cf"
   },
   "source": [
    "So by the defination we see that we need data and we do have the data (Iris dataset).\n",
    "But how will we test the dataset ?"
   ]
  },
  {
   "cell_type": "markdown",
   "metadata": {
    "_uuid": "64480dd6003d8bcd4faaffd09fc9a40efe87fa85"
   },
   "source": [
    "For that we will split out data set into three parts train, test, validation sets.<br>\n",
    "we are going to use the scikit-learn library which has all the required functions and machine learning algorithms required for this notebook"
   ]
  },
  {
   "cell_type": "markdown",
   "metadata": {
    "_uuid": "9a5b85ab1fb12172635c7215b4da2aef6f2f5778"
   },
   "source": [
    "Before we split our data lets look at the output we want to predict.<br> \n",
    "We want to predict the given sepal and petal dimensions follows to which type of species.<br>\n",
    "we have 3 type of species  Iris-setosa Iris-versicolor Iris-virginica.<br>\n",
    "We will convert those species names to a categorical values using label encoding.<br>"
   ]
  },
  {
   "cell_type": "code",
   "execution_count": 18,
   "metadata": {
    "_uuid": "174f80946174bd6bc0ba64bfebf6a5c8fac36db8"
   },
   "outputs": [],
   "source": [
    "x = df[['SepalLengthCm','SepalWidthCm','PetalLengthCm','PetalWidthCm']]\n",
    "y = df['Species']"
   ]
  },
  {
   "cell_type": "code",
   "execution_count": 19,
   "metadata": {
    "_uuid": "6150c9fdda1b523ba908271960aa4f6508bffe6d"
   },
   "outputs": [],
   "source": [
    "encoder = LabelEncoder()\n",
    "y = encoder.fit_transform(y)"
   ]
  },
  {
   "cell_type": "code",
   "execution_count": 20,
   "metadata": {
    "_uuid": "8c130a4ad47d1336614303a58d21b3a498b203e2"
   },
   "outputs": [
    {
     "data": {
      "text/plain": [
       "array([0, 0, 0, 0, 0, 0, 0, 0, 0, 0, 0, 0, 0, 0, 0, 0, 0, 0, 0, 0, 0, 0,\n",
       "       0, 0, 0, 0, 0, 0, 0, 0, 0, 0, 0, 0, 0, 0, 0, 0, 0, 0, 0, 0, 0, 0,\n",
       "       0, 0, 0, 0, 0, 0, 1, 1, 1, 1, 1, 1, 1, 1, 1, 1, 1, 1, 1, 1, 1, 1,\n",
       "       1, 1, 1, 1, 1, 1, 1, 1, 1, 1, 1, 1, 1, 1, 1, 1, 1, 1, 1, 1, 1, 1,\n",
       "       1, 1, 1, 1, 1, 1, 1, 1, 1, 1, 1, 1, 2, 2, 2, 2, 2, 2, 2, 2, 2, 2,\n",
       "       2, 2, 2, 2, 2, 2, 2, 2, 2, 2, 2, 2, 2, 2, 2, 2, 2, 2, 2, 2, 2, 2,\n",
       "       2, 2, 2, 2, 2, 2, 2, 2, 2, 2, 2, 2, 2, 2, 2, 2, 2, 2])"
      ]
     },
     "execution_count": 20,
     "metadata": {},
     "output_type": "execute_result"
    }
   ],
   "source": [
    "y"
   ]
  },
  {
   "cell_type": "markdown",
   "metadata": {
    "_uuid": "b1133179fff6a668edc493033557b4ab0dbbc65a"
   },
   "source": [
    "As you can see Iris-setosa Iris-versicolor Iris-virginica are converted to 0, 1, 2 respectively"
   ]
  },
  {
   "cell_type": "markdown",
   "metadata": {
    "_uuid": "2154389e9a256b2e5b8e77280cfa13542fa15541"
   },
   "source": [
    "First we are splitting the data set into training data and testing data which is 7:3 ratio "
   ]
  },
  {
   "cell_type": "code",
   "execution_count": 21,
   "metadata": {
    "_uuid": "e95d548a7f9a3fbef363cf50060375e3bd4b2def"
   },
   "outputs": [],
   "source": [
    "x_train, x_test, y_train, y_test = train_test_split(x, y, test_size = 0.3, random_state = 101)"
   ]
  },
  {
   "cell_type": "markdown",
   "metadata": {
    "_uuid": "a429c38170278cbc2b6220b9e7b2cdcf97104c75"
   },
   "source": [
    "# <a id='list'> List of algorithms</a>"
   ]
  },
  {
   "cell_type": "markdown",
   "metadata": {
    "_uuid": "a37b694d493d259be10a23e1123f2dd0a349e12f"
   },
   "source": [
    "Since it is a classification problem we will be using<br>\n",
    "Logistic regression<br>\n",
    "Decision tree<br>\n",
    "KNN<br>\n",
    "SVM<br>\n",
    "Naive Bayes Classification<br>\n",
    "Random forest<br>\n",
    "XGBoost<br>\n",
    "LightGBM<br>"
   ]
  },
  {
   "cell_type": "markdown",
   "metadata": {
    "_uuid": "b222fe6d3fc4d877e3d428d6a2ff8a5d29b2c528"
   },
   "source": [
    "# <a id='logistic'>Logistic regression</a><br>"
   ]
  },
  {
   "cell_type": "markdown",
   "metadata": {
    "_uuid": "be3e8af2de05f1a79e33812a6e835073ea5068cb"
   },
   "source": [
    "<img src = \"https://image.slidesharecdn.com/logitregression-161121215510/95/intro-to-logistic-regression-4-638.jpg?cb=1479765630\">"
   ]
  },
  {
   "cell_type": "markdown",
   "metadata": {
    "_uuid": "e36981fb2be6be8f58fdf81e5e41bacd9f429ed4"
   },
   "source": [
    "**Logistic regression** is a statistical method for analyzing a dataset in which there are one or more independent variables that determine an outcome. The outcome is measured with a dichotomous variable (in which there are only two possible outcomes).\n",
    "(https://www.medcalc.org/manual/logistic_regression.php)"
   ]
  },
  {
   "cell_type": "code",
   "execution_count": 22,
   "metadata": {
    "_uuid": "ce27be1c4fe5918c150798b398d3004969b5ba0f"
   },
   "outputs": [
    {
     "name": "stdout",
     "output_type": "stream",
     "text": [
      "Logistic Regression -  0.9555555555555556\n"
     ]
    }
   ],
   "source": [
    "lr_model = LogisticRegression()\n",
    "lr_model.fit(x_train,y_train)\n",
    "lr_predict = lr_model.predict(x_test)\n",
    "print('Logistic Regression - ',accuracy_score(lr_predict,y_test))"
   ]
  },
  {
   "cell_type": "markdown",
   "metadata": {
    "_uuid": "67fc07be60779c31c2ada8c725289d8ef943c1bd"
   },
   "source": [
    "# <a id='svm'>SVM</a><br>"
   ]
  },
  {
   "cell_type": "markdown",
   "metadata": {
    "_uuid": "94f1dded6dca929473527ed7c42697021ace1e6c"
   },
   "source": [
    "<img src = \"https://cdn-images-1.medium.com/max/1600/1*TudH6YvvH7-h5ZyF2dJV2w.jpeg\">"
   ]
  },
  {
   "cell_type": "markdown",
   "metadata": {
    "_uuid": "0aac492ad1b1be323d503bc1a149364ae24d51af"
   },
   "source": [
    "**“Support Vector Machine” (SVM)** is a supervised machine learning algorithm which can be used for both classification or regression challenges. However,  it is mostly used in classification problems. In this algorithm, we plot each data item as a point in n-dimensional space (where n is number of features you have) with the value of each feature being the value of a particular coordinate. Then, we perform classification by finding the hyper-plane that differentiate the two classes very well.\n",
    "\n",
    "Support Vectors are simply the co-ordinates of individual observation. Support Vector Machine is a frontier which best segregates the two classes (hyper-plane/ line).\n",
    "(https://www.analyticsvidhya.com/blog/2017/09/understaing-support-vector-machine-example-code/)\n"
   ]
  },
  {
   "cell_type": "code",
   "execution_count": 23,
   "metadata": {
    "_uuid": "9c86b283ce845304587a40a9e92e22130b43caee"
   },
   "outputs": [
    {
     "name": "stdout",
     "output_type": "stream",
     "text": [
      "SVM -  1.0\n"
     ]
    }
   ],
   "source": [
    "svm_model = SVC(kernel='linear')\n",
    "svm_model.fit(x_train,y_train)\n",
    "svc_predict = svm_model.predict(x_test)\n",
    "print('SVM - ',accuracy_score(svc_predict,y_test))"
   ]
  },
  {
   "cell_type": "markdown",
   "metadata": {
    "_uuid": "4e7abe757465fb5904e59acf6d5c49f37ff0e740"
   },
   "source": [
    "# <a id='nbc'>Naive Bayes Classification</a><br>"
   ]
  },
  {
   "cell_type": "markdown",
   "metadata": {
    "_uuid": "502b809d07b32bf45dc6d147f479a305bfde5c79"
   },
   "source": [
    "<img src = \"https://helloacm.com/wp-content/uploads/2016/03/Bayes_rule.png\">"
   ]
  },
  {
   "cell_type": "markdown",
   "metadata": {
    "_uuid": "de46c12ea0ca21f4167706d660c0819e844e4dce"
   },
   "source": [
    "**Naive Bayes** is a simple, yet effective and commonly-used, machine learning classifier. It is a probabilistic classifier that makes classifications using the Maximum A Posteriori decision rule in a Bayesian setting. It can also be represented using a very simple Bayesian network. Naive Bayes classifiers have been especially popular for text classification, and are a traditional solution for problems such as spam detection.\n",
    "(https://towardsdatascience.com/introduction-to-naive-bayes-classification-4cffabb1ae54)"
   ]
  },
  {
   "cell_type": "code",
   "execution_count": 24,
   "metadata": {
    "_uuid": "ad312dc9438ae6a0afde56012bf3e101064373fe"
   },
   "outputs": [
    {
     "name": "stdout",
     "output_type": "stream",
     "text": [
      "Naive bayes -  0.9555555555555556\n"
     ]
    }
   ],
   "source": [
    "nb_model = GaussianNB()\n",
    "nb_model.fit(x_train,y_train)\n",
    "nb_predict = nb_model.predict(x_test)\n",
    "print('Naive bayes - ',accuracy_score(nb_predict,y_test))"
   ]
  },
  {
   "cell_type": "markdown",
   "metadata": {
    "_uuid": "4dda5f1d31e579cf25e2c18175cae01704053e76"
   },
   "source": [
    "# <a id='decision'>Decision tree</a><br>"
   ]
  },
  {
   "cell_type": "markdown",
   "metadata": {
    "_uuid": "117b1972679f8ef22c76fd29ea385fd124a7eaaf"
   },
   "source": [
    "<img src = \"https://annalyzin.files.wordpress.com/2016/07/decision-trees-titanic-tutorial.png\">"
   ]
  },
  {
   "cell_type": "markdown",
   "metadata": {
    "_uuid": "5a102d4fbf83103ac455022c4f25809fad4e1fd6"
   },
   "source": [
    "**Decision tree** is a type of supervised learning algorithm (having a pre-defined target variable) that is mostly used in classification problems. It works for both categorical and continuous input and output variables. In this technique, we split the population or sample into two or more homogeneous sets (or sub-populations) based on most significant splitter / differentiator in input variables.\n",
    "(https://www.analyticsvidhya.com/blog/2016/04/complete-tutorial-tree-based-modeling-scratch-in-python/)"
   ]
  },
  {
   "cell_type": "code",
   "execution_count": 25,
   "metadata": {
    "_uuid": "567f22ed14b3fb568c4a85af9b306214108de7f4"
   },
   "outputs": [
    {
     "name": "stdout",
     "output_type": "stream",
     "text": [
      "Decision Tree -  0.9333333333333333\n"
     ]
    }
   ],
   "source": [
    "dt_model = DecisionTreeClassifier(max_leaf_nodes=3)\n",
    "dt_model.fit(x_train,y_train)\n",
    "dt_predict = dt_model.predict(x_test)\n",
    "print('Decision Tree - ',accuracy_score(dt_predict,y_test))"
   ]
  },
  {
   "cell_type": "markdown",
   "metadata": {
    "_uuid": "42d55936cf6cbaa54948a268c9e243c733ce39cd"
   },
   "source": [
    "# <a id='random'>Random forest</a><br>"
   ]
  },
  {
   "cell_type": "markdown",
   "metadata": {
    "_uuid": "0a1de00cf9ef4c1ca8268f28ba2920ea9ca4a79c"
   },
   "source": [
    "<img src=\"https://i1.wp.com/dataaspirant.com/wp-content/uploads/2017/04/Random-Forest-Introduction.jpg?resize=690%2C345\">"
   ]
  },
  {
   "cell_type": "markdown",
   "metadata": {
    "_uuid": "c54dead6420adaa799cb24c8dbee75b6b39c005f"
   },
   "source": [
    "**Random Forest** is considered to be a panacea of all data science problems. On a funny note, when you can’t think of any algorithm (irrespective of situation), use random forest!\n",
    "\n",
    "Random Forest is a versatile machine learning method capable of performing both regression and classification tasks. It also undertakes dimensional reduction methods, treats missing values, outlier values and other essential steps of data exploration, and does a fairly good job. It is a type of ensemble learning method, where a group of weak models combine to form a powerful model.\n",
    "\n",
    "(https://www.analyticsvidhya.com/blog/2016/04/complete-tutorial-tree-based-modeling-scratch-in-python/#nine)"
   ]
  },
  {
   "cell_type": "code",
   "execution_count": 26,
   "metadata": {
    "_uuid": "4aeb3ce119c947d44b85dd398afaeb21504a2221"
   },
   "outputs": [
    {
     "name": "stdout",
     "output_type": "stream",
     "text": [
      "Random Forest -  0.9555555555555556\n"
     ]
    }
   ],
   "source": [
    "rfc_model = RandomForestClassifier(max_depth=3)\n",
    "rfc_model.fit(x_train,y_train)\n",
    "rfc_predict = rfc_model.predict(x_test)\n",
    "print('Random Forest - ',accuracy_score(rfc_predict,y_test))"
   ]
  },
  {
   "cell_type": "markdown",
   "metadata": {
    "_uuid": "46dc2d7de36b297dad987cdc98bb9cf41c29efd7"
   },
   "source": [
    "# <a href='etc'>Extra Tree Classifier</a><br>"
   ]
  },
  {
   "cell_type": "markdown",
   "metadata": {
    "_uuid": "14e5546a2a0e8eafecb2f4a59faae12b0a330f0a"
   },
   "source": []
  },
  {
   "cell_type": "markdown",
   "metadata": {
    "_uuid": "8991cdf3a0054cd64281b2c6cd260726440dc733"
   },
   "source": [
    "\n",
    "(https://machinelearningmastery.com/ensemble-machine-learning-algorithms-python-scikit-learn/)"
   ]
  },
  {
   "cell_type": "code",
   "execution_count": 27,
   "metadata": {
    "_uuid": "fc1c65b5b7b1eabbb09db35cec298b29ae00ec51"
   },
   "outputs": [
    {
     "name": "stdout",
     "output_type": "stream",
     "text": [
      "Extra Tree Classifier -  1.0\n"
     ]
    }
   ],
   "source": [
    "etc_model = ExtraTreesClassifier()\n",
    "etc_model.fit(x_train,y_train)\n",
    "etc_predict = etc_model.predict(x_test)\n",
    "print('Extra Tree Classifier - ',accuracy_score(etc_predict,y_test))\n"
   ]
  },
  {
   "cell_type": "markdown",
   "metadata": {
    "_uuid": "f575634697a8321b9fbc53a69025b8d21baa3a1c"
   },
   "source": [
    "# <a id='knn'>KNN</a><br>"
   ]
  },
  {
   "cell_type": "markdown",
   "metadata": {
    "_uuid": "f3602f23df5dbe07978ca00e5d97b3a15a470f24"
   },
   "source": [
    "<img src=\"http://res.cloudinary.com/dyd911kmh/image/upload/f_auto,q_auto:best/v1531424125/Knn_k1_z96jba.png\">"
   ]
  },
  {
   "cell_type": "markdown",
   "metadata": {
    "_uuid": "6a6e8e7a68403099e698efed00d0eb0a3ba93281"
   },
   "source": [
    "**K nearest neighbors** is a simple algorithm that stores all available cases and classifies new cases based on a similarity measure (e.g., distance functions). KNN has been used in statistical estimation and pattern recognition already in the beginning of 1970's as a non-parametric technique.\n",
    "(https://www.analyticsvidhya.com/blog/2018/03/introduction-k-neighbours-algorithm-clustering/)"
   ]
  },
  {
   "cell_type": "code",
   "execution_count": 28,
   "metadata": {
    "_uuid": "94a5fe5f4c50210bbc141d75cba423f0dde1b3b2"
   },
   "outputs": [
    {
     "name": "stdout",
     "output_type": "stream",
     "text": [
      "knn -accuracy:  1.0\n"
     ]
    }
   ],
   "source": [
    "knn_model = KNeighborsClassifier(n_neighbors=3)\n",
    "knn_model.fit(x_train,y_train)\n",
    "knn_predict = knn_model.predict(x_test)\n",
    "print('knn -accuracy: ',accuracy_score(knn_predict,y_test))"
   ]
  },
  {
   "cell_type": "markdown",
   "metadata": {
    "_uuid": "cd3fc2bfba1626652c5a1b879345d3e8e3d95595"
   },
   "source": [
    "# <a id='xgboost'>XGBoost</a><br>"
   ]
  },
  {
   "cell_type": "markdown",
   "metadata": {
    "_uuid": "1d35d1a725ec33c906d32ebd6c01e9cb5b1cf36f"
   },
   "source": [
    "<img src=\"https://i.imgur.com/e7MIgXk.png\">"
   ]
  },
  {
   "cell_type": "markdown",
   "metadata": {
    "_uuid": "7fff57c6d99ab43155ffddcc4c73884cee7e9b99"
   },
   "source": [
    "The beauty of this powerful algorithm lies in its scalability, which drives fast learning through parallel and distributed computing and offers efficient memory usage.\n",
    "\n",
    "It’s no wonder then that CERN recognized it as the best approach to classify signals from the Large Hadron Collider. This particular challenge posed by CERN required a solution that would be scalable to process data being generated at the rate of 3 petabytes per year and effectively distinguish an extremely rare signal from background noises in a complex physical process. XGBoost emerged as the most useful, straightforward and robust solution.\n",
    "\n",
    "(https://www.analyticsvidhya.com/blog/2018/09/an-end-to-end-guide-to-understand-the-math-behind-xgboost/)"
   ]
  },
  {
   "cell_type": "code",
   "execution_count": 29,
   "metadata": {
    "_uuid": "b4f09827b3f335da235608b2ede27e60df6ce161"
   },
   "outputs": [
    {
     "name": "stdout",
     "output_type": "stream",
     "text": [
      "XGBoost -accuracy： 0.9777777777777777\n"
     ]
    }
   ],
   "source": [
    "xg_model = xgb.XGBClassifier()\n",
    "xg_model = xg_model.fit(x_train,y_train)\n",
    "print('XGBoost -accuracy：',xg_model.score(x_test, y_test))"
   ]
  },
  {
   "cell_type": "markdown",
   "metadata": {
    "_uuid": "4705805636047c4ce43898c0c36259407f543a0d"
   },
   "source": [
    "# <a id='dl'>Deep Learning</a><br>"
   ]
  },
  {
   "cell_type": "markdown",
   "metadata": {
    "_uuid": "68b1d94d10fe279961e28e6bba90f27baeceebe2"
   },
   "source": [
    "Best place to understand deep learning.\n",
    "Please follow the blog\n",
    "\n",
    "https://machinelearningmastery.com/what-is-deep-learning/"
   ]
  },
  {
   "cell_type": "code",
   "execution_count": 30,
   "metadata": {
    "_kg_hide-input": true,
    "_uuid": "2bc41a138e69a3d02acdfa46cd47ad2b4fcfa74e"
   },
   "outputs": [
    {
     "name": "stderr",
     "output_type": "stream",
     "text": [
      "Using TensorFlow backend.\n"
     ]
    }
   ],
   "source": [
    "import keras\n",
    "from keras.models import Sequential\n",
    "from keras.layers import Dense"
   ]
  },
  {
   "cell_type": "code",
   "execution_count": 31,
   "metadata": {
    "_kg_hide-input": true,
    "_uuid": "93256144af33cc23c71dd8336f5622b2aab2ef90"
   },
   "outputs": [],
   "source": [
    "from sklearn.preprocessing import StandardScaler, LabelBinarizer\n",
    "X = df[['SepalLengthCm', 'SepalWidthCm', 'PetalLengthCm', 'PetalWidthCm']]\n",
    "y = df['Species']\n",
    "\n",
    "X = StandardScaler().fit_transform(X)\n",
    "y = LabelBinarizer().fit_transform(y)"
   ]
  },
  {
   "cell_type": "markdown",
   "metadata": {
    "_uuid": "9df7b248a5352b8e2d0e1d9d3ed68d9a253c02e2"
   },
   "source": [
    "Spliting the data into train - 70% and test - 30%"
   ]
  },
  {
   "cell_type": "code",
   "execution_count": 32,
   "metadata": {
    "_kg_hide-input": true,
    "_uuid": "8984cfef81f4e31db498376f5ca2bf72748faf13"
   },
   "outputs": [],
   "source": [
    "x_train, x_test, y_train, y_test = train_test_split(X, y, test_size = 0.3, random_state = 101)"
   ]
  },
  {
   "cell_type": "markdown",
   "metadata": {
    "_uuid": "313afe4a5c4b5ac84f1360a0196364d266878ea9"
   },
   "source": [
    "# <a id='shallow'>Shallow Deep learning</a>"
   ]
  },
  {
   "cell_type": "code",
   "execution_count": 33,
   "metadata": {
    "_kg_hide-input": true,
    "_uuid": "08365090312fac823129d5026f027617f6b9a2f3"
   },
   "outputs": [],
   "source": [
    "shallow_model = Sequential()\n",
    "shallow_model.add(Dense( 4, input_dim=4, activation = 'relu'))\n",
    "shallow_model.add(Dense( units = 10, activation= 'relu'))\n",
    "shallow_model.add(Dense( units = 3, activation= 'softmax'))\n",
    "shallow_model.compile(loss = 'binary_crossentropy', optimizer = 'adam', metrics = ['accuracy'])"
   ]
  },
  {
   "cell_type": "code",
   "execution_count": 34,
   "metadata": {
    "_uuid": "cf863925465f3d79fd04102b8870825f7ccb75a4",
    "scrolled": true
   },
   "outputs": [
    {
     "name": "stdout",
     "output_type": "stream",
     "text": [
      "Train on 105 samples, validate on 45 samples\n",
      "Epoch 1/150\n",
      "105/105 [==============================] - 3s 28ms/step - loss: 0.6192 - acc: 0.6667 - val_loss: 0.6262 - val_acc: 0.6741\n",
      "Epoch 2/150\n",
      "105/105 [==============================] - 0s 183us/step - loss: 0.6127 - acc: 0.6730 - val_loss: 0.6218 - val_acc: 0.6815\n",
      "Epoch 3/150\n",
      "105/105 [==============================] - 0s 182us/step - loss: 0.6063 - acc: 0.6730 - val_loss: 0.6174 - val_acc: 0.6815\n",
      "Epoch 4/150\n",
      "105/105 [==============================] - 0s 178us/step - loss: 0.5995 - acc: 0.6762 - val_loss: 0.6130 - val_acc: 0.6815\n",
      "Epoch 5/150\n",
      "105/105 [==============================] - 0s 180us/step - loss: 0.5934 - acc: 0.6794 - val_loss: 0.6086 - val_acc: 0.6815\n",
      "Epoch 6/150\n",
      "105/105 [==============================] - 0s 177us/step - loss: 0.5868 - acc: 0.7016 - val_loss: 0.6042 - val_acc: 0.6963\n",
      "Epoch 7/150\n",
      "105/105 [==============================] - 0s 185us/step - loss: 0.5804 - acc: 0.7079 - val_loss: 0.5996 - val_acc: 0.7037\n",
      "Epoch 8/150\n",
      "105/105 [==============================] - 0s 193us/step - loss: 0.5738 - acc: 0.7079 - val_loss: 0.5950 - val_acc: 0.7037\n",
      "Epoch 9/150\n",
      "105/105 [==============================] - 0s 172us/step - loss: 0.5673 - acc: 0.7143 - val_loss: 0.5903 - val_acc: 0.7037\n",
      "Epoch 10/150\n",
      "105/105 [==============================] - 0s 162us/step - loss: 0.5605 - acc: 0.7206 - val_loss: 0.5855 - val_acc: 0.7037\n",
      "Epoch 11/150\n",
      "105/105 [==============================] - 0s 139us/step - loss: 0.5538 - acc: 0.7270 - val_loss: 0.5804 - val_acc: 0.7037\n",
      "Epoch 12/150\n",
      "105/105 [==============================] - 0s 147us/step - loss: 0.5465 - acc: 0.7429 - val_loss: 0.5752 - val_acc: 0.7037\n",
      "Epoch 13/150\n",
      "105/105 [==============================] - 0s 137us/step - loss: 0.5393 - acc: 0.7492 - val_loss: 0.5697 - val_acc: 0.7111\n",
      "Epoch 14/150\n",
      "105/105 [==============================] - 0s 142us/step - loss: 0.5324 - acc: 0.7524 - val_loss: 0.5641 - val_acc: 0.7259\n",
      "Epoch 15/150\n",
      "105/105 [==============================] - 0s 138us/step - loss: 0.5249 - acc: 0.7556 - val_loss: 0.5586 - val_acc: 0.7333\n",
      "Epoch 16/150\n",
      "105/105 [==============================] - 0s 152us/step - loss: 0.5181 - acc: 0.7556 - val_loss: 0.5532 - val_acc: 0.7333\n",
      "Epoch 17/150\n",
      "105/105 [==============================] - 0s 173us/step - loss: 0.5108 - acc: 0.7556 - val_loss: 0.5476 - val_acc: 0.7333\n",
      "Epoch 18/150\n",
      "105/105 [==============================] - 0s 194us/step - loss: 0.5037 - acc: 0.7619 - val_loss: 0.5420 - val_acc: 0.7407\n",
      "Epoch 19/150\n",
      "105/105 [==============================] - 0s 222us/step - loss: 0.4961 - acc: 0.7683 - val_loss: 0.5365 - val_acc: 0.7407\n",
      "Epoch 20/150\n",
      "105/105 [==============================] - 0s 202us/step - loss: 0.4888 - acc: 0.7714 - val_loss: 0.5310 - val_acc: 0.7481\n",
      "Epoch 21/150\n",
      "105/105 [==============================] - 0s 209us/step - loss: 0.4815 - acc: 0.7714 - val_loss: 0.5255 - val_acc: 0.7481\n",
      "Epoch 22/150\n",
      "105/105 [==============================] - 0s 177us/step - loss: 0.4743 - acc: 0.7746 - val_loss: 0.5200 - val_acc: 0.7481\n",
      "Epoch 23/150\n",
      "105/105 [==============================] - 0s 184us/step - loss: 0.4665 - acc: 0.7873 - val_loss: 0.5147 - val_acc: 0.7630\n",
      "Epoch 24/150\n",
      "105/105 [==============================] - 0s 220us/step - loss: 0.4595 - acc: 0.7937 - val_loss: 0.5094 - val_acc: 0.7704\n",
      "Epoch 25/150\n",
      "105/105 [==============================] - 0s 176us/step - loss: 0.4521 - acc: 0.8159 - val_loss: 0.5042 - val_acc: 0.7778\n",
      "Epoch 26/150\n",
      "105/105 [==============================] - 0s 188us/step - loss: 0.4452 - acc: 0.8190 - val_loss: 0.4991 - val_acc: 0.7778\n",
      "Epoch 27/150\n",
      "105/105 [==============================] - 0s 176us/step - loss: 0.4381 - acc: 0.8317 - val_loss: 0.4941 - val_acc: 0.7778\n",
      "Epoch 28/150\n",
      "105/105 [==============================] - 0s 143us/step - loss: 0.4315 - acc: 0.8317 - val_loss: 0.4892 - val_acc: 0.7556\n",
      "Epoch 29/150\n",
      "105/105 [==============================] - 0s 145us/step - loss: 0.4251 - acc: 0.8349 - val_loss: 0.4845 - val_acc: 0.7704\n",
      "Epoch 30/150\n",
      "105/105 [==============================] - 0s 157us/step - loss: 0.4184 - acc: 0.8349 - val_loss: 0.4797 - val_acc: 0.7704\n",
      "Epoch 31/150\n",
      "105/105 [==============================] - 0s 161us/step - loss: 0.4123 - acc: 0.8349 - val_loss: 0.4751 - val_acc: 0.7778\n",
      "Epoch 32/150\n",
      "105/105 [==============================] - 0s 162us/step - loss: 0.4059 - acc: 0.8286 - val_loss: 0.4706 - val_acc: 0.7778\n",
      "Epoch 33/150\n",
      "105/105 [==============================] - 0s 161us/step - loss: 0.4000 - acc: 0.8317 - val_loss: 0.4663 - val_acc: 0.7778\n",
      "Epoch 34/150\n",
      "105/105 [==============================] - 0s 166us/step - loss: 0.3939 - acc: 0.8349 - val_loss: 0.4622 - val_acc: 0.7778\n",
      "Epoch 35/150\n",
      "105/105 [==============================] - 0s 163us/step - loss: 0.3886 - acc: 0.8317 - val_loss: 0.4581 - val_acc: 0.7778\n",
      "Epoch 36/150\n",
      "105/105 [==============================] - 0s 176us/step - loss: 0.3832 - acc: 0.8317 - val_loss: 0.4543 - val_acc: 0.7926\n",
      "Epoch 37/150\n",
      "105/105 [==============================] - 0s 143us/step - loss: 0.3774 - acc: 0.8381 - val_loss: 0.4507 - val_acc: 0.7852\n",
      "Epoch 38/150\n",
      "105/105 [==============================] - 0s 175us/step - loss: 0.3725 - acc: 0.8381 - val_loss: 0.4472 - val_acc: 0.8000\n",
      "Epoch 39/150\n",
      "105/105 [==============================] - 0s 174us/step - loss: 0.3678 - acc: 0.8413 - val_loss: 0.4440 - val_acc: 0.8000\n",
      "Epoch 40/150\n",
      "105/105 [==============================] - 0s 157us/step - loss: 0.3632 - acc: 0.8413 - val_loss: 0.4410 - val_acc: 0.8000\n",
      "Epoch 41/150\n",
      "105/105 [==============================] - 0s 154us/step - loss: 0.3588 - acc: 0.8413 - val_loss: 0.4380 - val_acc: 0.8000\n",
      "Epoch 42/150\n",
      "105/105 [==============================] - 0s 161us/step - loss: 0.3547 - acc: 0.8444 - val_loss: 0.4351 - val_acc: 0.8000\n",
      "Epoch 43/150\n",
      "105/105 [==============================] - 0s 159us/step - loss: 0.3508 - acc: 0.8444 - val_loss: 0.4323 - val_acc: 0.8000\n",
      "Epoch 44/150\n",
      "105/105 [==============================] - 0s 156us/step - loss: 0.3471 - acc: 0.8444 - val_loss: 0.4297 - val_acc: 0.7926\n",
      "Epoch 45/150\n",
      "105/105 [==============================] - 0s 152us/step - loss: 0.3436 - acc: 0.8476 - val_loss: 0.4273 - val_acc: 0.7926\n",
      "Epoch 46/150\n",
      "105/105 [==============================] - 0s 180us/step - loss: 0.3402 - acc: 0.8444 - val_loss: 0.4250 - val_acc: 0.7926\n",
      "Epoch 47/150\n",
      "105/105 [==============================] - 0s 157us/step - loss: 0.3369 - acc: 0.8444 - val_loss: 0.4227 - val_acc: 0.7926\n",
      "Epoch 48/150\n",
      "105/105 [==============================] - 0s 168us/step - loss: 0.3340 - acc: 0.8444 - val_loss: 0.4205 - val_acc: 0.7926\n",
      "Epoch 49/150\n",
      "105/105 [==============================] - 0s 173us/step - loss: 0.3309 - acc: 0.8444 - val_loss: 0.4183 - val_acc: 0.7926\n",
      "Epoch 50/150\n",
      "105/105 [==============================] - 0s 166us/step - loss: 0.3283 - acc: 0.8349 - val_loss: 0.4161 - val_acc: 0.7852\n",
      "Epoch 51/150\n",
      "105/105 [==============================] - 0s 183us/step - loss: 0.3257 - acc: 0.8349 - val_loss: 0.4138 - val_acc: 0.7852\n",
      "Epoch 52/150\n",
      "105/105 [==============================] - 0s 164us/step - loss: 0.3233 - acc: 0.8349 - val_loss: 0.4116 - val_acc: 0.7852\n",
      "Epoch 53/150\n",
      "105/105 [==============================] - 0s 171us/step - loss: 0.3208 - acc: 0.8349 - val_loss: 0.4096 - val_acc: 0.7852\n",
      "Epoch 54/150\n",
      "105/105 [==============================] - 0s 193us/step - loss: 0.3185 - acc: 0.8349 - val_loss: 0.4080 - val_acc: 0.7852\n",
      "Epoch 55/150\n",
      "105/105 [==============================] - 0s 181us/step - loss: 0.3162 - acc: 0.8317 - val_loss: 0.4063 - val_acc: 0.7852\n",
      "Epoch 56/150\n",
      "105/105 [==============================] - 0s 158us/step - loss: 0.3141 - acc: 0.8317 - val_loss: 0.4048 - val_acc: 0.7852\n",
      "Epoch 57/150\n",
      "105/105 [==============================] - 0s 169us/step - loss: 0.3120 - acc: 0.8349 - val_loss: 0.4031 - val_acc: 0.7852\n",
      "Epoch 58/150\n",
      "105/105 [==============================] - 0s 173us/step - loss: 0.3101 - acc: 0.8381 - val_loss: 0.4016 - val_acc: 0.7852\n",
      "Epoch 59/150\n",
      "105/105 [==============================] - 0s 165us/step - loss: 0.3084 - acc: 0.8349 - val_loss: 0.4002 - val_acc: 0.7852\n",
      "Epoch 60/150\n",
      "105/105 [==============================] - 0s 148us/step - loss: 0.3065 - acc: 0.8349 - val_loss: 0.3987 - val_acc: 0.7852\n"
     ]
    },
    {
     "name": "stdout",
     "output_type": "stream",
     "text": [
      "Epoch 61/150\n",
      "105/105 [==============================] - 0s 142us/step - loss: 0.3048 - acc: 0.8381 - val_loss: 0.3970 - val_acc: 0.7852\n",
      "Epoch 62/150\n",
      "105/105 [==============================] - 0s 136us/step - loss: 0.3032 - acc: 0.8413 - val_loss: 0.3953 - val_acc: 0.7852\n",
      "Epoch 63/150\n",
      "105/105 [==============================] - 0s 135us/step - loss: 0.3016 - acc: 0.8413 - val_loss: 0.3936 - val_acc: 0.7852\n",
      "Epoch 64/150\n",
      "105/105 [==============================] - 0s 185us/step - loss: 0.3000 - acc: 0.8413 - val_loss: 0.3918 - val_acc: 0.7852\n",
      "Epoch 65/150\n",
      "105/105 [==============================] - 0s 172us/step - loss: 0.2984 - acc: 0.8413 - val_loss: 0.3899 - val_acc: 0.7852\n",
      "Epoch 66/150\n",
      "105/105 [==============================] - 0s 173us/step - loss: 0.2969 - acc: 0.8413 - val_loss: 0.3880 - val_acc: 0.7852\n",
      "Epoch 67/150\n",
      "105/105 [==============================] - 0s 184us/step - loss: 0.2954 - acc: 0.8413 - val_loss: 0.3860 - val_acc: 0.7852\n",
      "Epoch 68/150\n",
      "105/105 [==============================] - 0s 175us/step - loss: 0.2939 - acc: 0.8413 - val_loss: 0.3842 - val_acc: 0.7852\n",
      "Epoch 69/150\n",
      "105/105 [==============================] - 0s 157us/step - loss: 0.2924 - acc: 0.8413 - val_loss: 0.3825 - val_acc: 0.7852\n",
      "Epoch 70/150\n",
      "105/105 [==============================] - 0s 169us/step - loss: 0.2910 - acc: 0.8413 - val_loss: 0.3809 - val_acc: 0.7852\n",
      "Epoch 71/150\n",
      "105/105 [==============================] - 0s 165us/step - loss: 0.2897 - acc: 0.8413 - val_loss: 0.3793 - val_acc: 0.7852\n",
      "Epoch 72/150\n",
      "105/105 [==============================] - 0s 172us/step - loss: 0.2882 - acc: 0.8413 - val_loss: 0.3775 - val_acc: 0.7852\n",
      "Epoch 73/150\n",
      "105/105 [==============================] - 0s 172us/step - loss: 0.2869 - acc: 0.8413 - val_loss: 0.3757 - val_acc: 0.7852\n",
      "Epoch 74/150\n",
      "105/105 [==============================] - 0s 181us/step - loss: 0.2855 - acc: 0.8413 - val_loss: 0.3741 - val_acc: 0.7852\n",
      "Epoch 75/150\n",
      "105/105 [==============================] - 0s 203us/step - loss: 0.2842 - acc: 0.8413 - val_loss: 0.3726 - val_acc: 0.7852\n",
      "Epoch 76/150\n",
      "105/105 [==============================] - 0s 203us/step - loss: 0.2828 - acc: 0.8413 - val_loss: 0.3710 - val_acc: 0.7852\n",
      "Epoch 77/150\n",
      "105/105 [==============================] - 0s 209us/step - loss: 0.2816 - acc: 0.8413 - val_loss: 0.3692 - val_acc: 0.7926\n",
      "Epoch 78/150\n",
      "105/105 [==============================] - 0s 177us/step - loss: 0.2803 - acc: 0.8413 - val_loss: 0.3673 - val_acc: 0.7926\n",
      "Epoch 79/150\n",
      "105/105 [==============================] - 0s 218us/step - loss: 0.2789 - acc: 0.8413 - val_loss: 0.3654 - val_acc: 0.7926\n",
      "Epoch 80/150\n",
      "105/105 [==============================] - 0s 191us/step - loss: 0.2777 - acc: 0.8413 - val_loss: 0.3635 - val_acc: 0.7926\n",
      "Epoch 81/150\n",
      "105/105 [==============================] - 0s 211us/step - loss: 0.2764 - acc: 0.8476 - val_loss: 0.3621 - val_acc: 0.7852\n",
      "Epoch 82/150\n",
      "105/105 [==============================] - 0s 195us/step - loss: 0.2751 - acc: 0.8476 - val_loss: 0.3606 - val_acc: 0.7852\n",
      "Epoch 83/150\n",
      "105/105 [==============================] - 0s 229us/step - loss: 0.2739 - acc: 0.8476 - val_loss: 0.3589 - val_acc: 0.7852\n",
      "Epoch 84/150\n",
      "105/105 [==============================] - 0s 224us/step - loss: 0.2728 - acc: 0.8476 - val_loss: 0.3572 - val_acc: 0.7852\n",
      "Epoch 85/150\n",
      "105/105 [==============================] - 0s 228us/step - loss: 0.2716 - acc: 0.8476 - val_loss: 0.3554 - val_acc: 0.7852\n",
      "Epoch 86/150\n",
      "105/105 [==============================] - 0s 217us/step - loss: 0.2704 - acc: 0.8476 - val_loss: 0.3541 - val_acc: 0.7852\n",
      "Epoch 87/150\n",
      "105/105 [==============================] - 0s 213us/step - loss: 0.2692 - acc: 0.8444 - val_loss: 0.3529 - val_acc: 0.7852\n",
      "Epoch 88/150\n",
      "105/105 [==============================] - 0s 213us/step - loss: 0.2681 - acc: 0.8444 - val_loss: 0.3515 - val_acc: 0.7852\n",
      "Epoch 89/150\n",
      "105/105 [==============================] - 0s 204us/step - loss: 0.2670 - acc: 0.8476 - val_loss: 0.3503 - val_acc: 0.7852\n",
      "Epoch 90/150\n",
      "105/105 [==============================] - 0s 207us/step - loss: 0.2660 - acc: 0.8476 - val_loss: 0.3486 - val_acc: 0.7852\n",
      "Epoch 91/150\n",
      "105/105 [==============================] - 0s 202us/step - loss: 0.2648 - acc: 0.8476 - val_loss: 0.3470 - val_acc: 0.7852\n",
      "Epoch 92/150\n",
      "105/105 [==============================] - 0s 234us/step - loss: 0.2637 - acc: 0.8476 - val_loss: 0.3454 - val_acc: 0.7852\n",
      "Epoch 93/150\n",
      "105/105 [==============================] - 0s 208us/step - loss: 0.2627 - acc: 0.8476 - val_loss: 0.3439 - val_acc: 0.7852\n",
      "Epoch 94/150\n",
      "105/105 [==============================] - 0s 205us/step - loss: 0.2617 - acc: 0.8476 - val_loss: 0.3423 - val_acc: 0.7852\n",
      "Epoch 95/150\n",
      "105/105 [==============================] - 0s 201us/step - loss: 0.2606 - acc: 0.8476 - val_loss: 0.3407 - val_acc: 0.7852\n",
      "Epoch 96/150\n",
      "105/105 [==============================] - 0s 223us/step - loss: 0.2596 - acc: 0.8508 - val_loss: 0.3391 - val_acc: 0.7852\n",
      "Epoch 97/150\n",
      "105/105 [==============================] - 0s 207us/step - loss: 0.2585 - acc: 0.8508 - val_loss: 0.3375 - val_acc: 0.7852\n",
      "Epoch 98/150\n",
      "105/105 [==============================] - 0s 200us/step - loss: 0.2574 - acc: 0.8508 - val_loss: 0.3360 - val_acc: 0.7852\n",
      "Epoch 99/150\n",
      "105/105 [==============================] - 0s 222us/step - loss: 0.2563 - acc: 0.8508 - val_loss: 0.3345 - val_acc: 0.7852\n",
      "Epoch 100/150\n",
      "105/105 [==============================] - 0s 205us/step - loss: 0.2552 - acc: 0.8508 - val_loss: 0.3329 - val_acc: 0.7852\n",
      "Epoch 101/150\n",
      "105/105 [==============================] - 0s 198us/step - loss: 0.2541 - acc: 0.8508 - val_loss: 0.3314 - val_acc: 0.7852\n",
      "Epoch 102/150\n",
      "105/105 [==============================] - 0s 209us/step - loss: 0.2531 - acc: 0.8508 - val_loss: 0.3298 - val_acc: 0.7852\n",
      "Epoch 103/150\n",
      "105/105 [==============================] - 0s 233us/step - loss: 0.2521 - acc: 0.8508 - val_loss: 0.3284 - val_acc: 0.7852\n",
      "Epoch 104/150\n",
      "105/105 [==============================] - 0s 210us/step - loss: 0.2511 - acc: 0.8508 - val_loss: 0.3267 - val_acc: 0.7852\n",
      "Epoch 105/150\n",
      "105/105 [==============================] - 0s 187us/step - loss: 0.2500 - acc: 0.8540 - val_loss: 0.3252 - val_acc: 0.7852\n",
      "Epoch 106/150\n",
      "105/105 [==============================] - 0s 171us/step - loss: 0.2489 - acc: 0.8540 - val_loss: 0.3233 - val_acc: 0.7852\n",
      "Epoch 107/150\n",
      "105/105 [==============================] - 0s 167us/step - loss: 0.2480 - acc: 0.8540 - val_loss: 0.3215 - val_acc: 0.7852\n",
      "Epoch 108/150\n",
      "105/105 [==============================] - 0s 164us/step - loss: 0.2470 - acc: 0.8508 - val_loss: 0.3198 - val_acc: 0.7852\n",
      "Epoch 109/150\n",
      "105/105 [==============================] - 0s 162us/step - loss: 0.2460 - acc: 0.8508 - val_loss: 0.3182 - val_acc: 0.7852\n",
      "Epoch 110/150\n",
      "105/105 [==============================] - 0s 165us/step - loss: 0.2450 - acc: 0.8508 - val_loss: 0.3166 - val_acc: 0.7852\n",
      "Epoch 111/150\n",
      "105/105 [==============================] - 0s 185us/step - loss: 0.2441 - acc: 0.8508 - val_loss: 0.3146 - val_acc: 0.7926\n",
      "Epoch 112/150\n",
      "105/105 [==============================] - 0s 170us/step - loss: 0.2430 - acc: 0.8571 - val_loss: 0.3130 - val_acc: 0.8000\n",
      "Epoch 113/150\n",
      "105/105 [==============================] - 0s 174us/step - loss: 0.2421 - acc: 0.8603 - val_loss: 0.3113 - val_acc: 0.8148\n",
      "Epoch 114/150\n",
      "105/105 [==============================] - 0s 173us/step - loss: 0.2412 - acc: 0.8635 - val_loss: 0.3097 - val_acc: 0.8222\n",
      "Epoch 115/150\n",
      "105/105 [==============================] - 0s 176us/step - loss: 0.2403 - acc: 0.8730 - val_loss: 0.3085 - val_acc: 0.8444\n",
      "Epoch 116/150\n",
      "105/105 [==============================] - 0s 163us/step - loss: 0.2394 - acc: 0.8730 - val_loss: 0.3073 - val_acc: 0.8519\n",
      "Epoch 117/150\n",
      "105/105 [==============================] - 0s 167us/step - loss: 0.2385 - acc: 0.8730 - val_loss: 0.3061 - val_acc: 0.8444\n",
      "Epoch 118/150\n",
      "105/105 [==============================] - 0s 201us/step - loss: 0.2377 - acc: 0.8730 - val_loss: 0.3048 - val_acc: 0.8593\n",
      "Epoch 119/150\n",
      "105/105 [==============================] - 0s 217us/step - loss: 0.2368 - acc: 0.8762 - val_loss: 0.3036 - val_acc: 0.8593\n",
      "Epoch 120/150\n",
      "105/105 [==============================] - 0s 232us/step - loss: 0.2359 - acc: 0.8794 - val_loss: 0.3021 - val_acc: 0.8667\n",
      "Epoch 121/150\n"
     ]
    },
    {
     "name": "stdout",
     "output_type": "stream",
     "text": [
      "105/105 [==============================] - 0s 211us/step - loss: 0.2349 - acc: 0.8794 - val_loss: 0.3010 - val_acc: 0.8667\n",
      "Epoch 122/150\n",
      "105/105 [==============================] - 0s 243us/step - loss: 0.2340 - acc: 0.8794 - val_loss: 0.2999 - val_acc: 0.8741\n",
      "Epoch 123/150\n",
      "105/105 [==============================] - 0s 218us/step - loss: 0.2331 - acc: 0.8825 - val_loss: 0.2988 - val_acc: 0.8741\n",
      "Epoch 124/150\n",
      "105/105 [==============================] - 0s 210us/step - loss: 0.2322 - acc: 0.8825 - val_loss: 0.2976 - val_acc: 0.8741\n",
      "Epoch 125/150\n",
      "105/105 [==============================] - 0s 213us/step - loss: 0.2313 - acc: 0.8825 - val_loss: 0.2962 - val_acc: 0.8815\n",
      "Epoch 126/150\n",
      "105/105 [==============================] - 0s 205us/step - loss: 0.2302 - acc: 0.8857 - val_loss: 0.2952 - val_acc: 0.8815\n",
      "Epoch 127/150\n",
      "105/105 [==============================] - 0s 213us/step - loss: 0.2293 - acc: 0.8857 - val_loss: 0.2940 - val_acc: 0.8815\n",
      "Epoch 128/150\n",
      "105/105 [==============================] - 0s 211us/step - loss: 0.2285 - acc: 0.8889 - val_loss: 0.2926 - val_acc: 0.8815\n",
      "Epoch 129/150\n",
      "105/105 [==============================] - 0s 225us/step - loss: 0.2275 - acc: 0.8889 - val_loss: 0.2915 - val_acc: 0.8815\n",
      "Epoch 130/150\n",
      "105/105 [==============================] - 0s 216us/step - loss: 0.2266 - acc: 0.8889 - val_loss: 0.2904 - val_acc: 0.8815\n",
      "Epoch 131/150\n",
      "105/105 [==============================] - 0s 223us/step - loss: 0.2257 - acc: 0.8889 - val_loss: 0.2895 - val_acc: 0.8815\n",
      "Epoch 132/150\n",
      "105/105 [==============================] - 0s 205us/step - loss: 0.2249 - acc: 0.8889 - val_loss: 0.2883 - val_acc: 0.8815\n",
      "Epoch 133/150\n",
      "105/105 [==============================] - 0s 221us/step - loss: 0.2240 - acc: 0.8921 - val_loss: 0.2870 - val_acc: 0.8815\n",
      "Epoch 134/150\n",
      "105/105 [==============================] - 0s 204us/step - loss: 0.2232 - acc: 0.8952 - val_loss: 0.2855 - val_acc: 0.8815\n",
      "Epoch 135/150\n",
      "105/105 [==============================] - 0s 203us/step - loss: 0.2223 - acc: 0.8952 - val_loss: 0.2841 - val_acc: 0.8815\n",
      "Epoch 136/150\n",
      "105/105 [==============================] - 0s 215us/step - loss: 0.2214 - acc: 0.8952 - val_loss: 0.2826 - val_acc: 0.8815\n",
      "Epoch 137/150\n",
      "105/105 [==============================] - 0s 227us/step - loss: 0.2207 - acc: 0.8984 - val_loss: 0.2810 - val_acc: 0.8741\n",
      "Epoch 138/150\n",
      "105/105 [==============================] - 0s 216us/step - loss: 0.2198 - acc: 0.8984 - val_loss: 0.2797 - val_acc: 0.8741\n",
      "Epoch 139/150\n",
      "105/105 [==============================] - 0s 217us/step - loss: 0.2190 - acc: 0.8984 - val_loss: 0.2785 - val_acc: 0.8815\n",
      "Epoch 140/150\n",
      "105/105 [==============================] - 0s 197us/step - loss: 0.2181 - acc: 0.8984 - val_loss: 0.2775 - val_acc: 0.8815\n",
      "Epoch 141/150\n",
      "105/105 [==============================] - 0s 207us/step - loss: 0.2173 - acc: 0.8984 - val_loss: 0.2762 - val_acc: 0.8815\n",
      "Epoch 142/150\n",
      "105/105 [==============================] - 0s 199us/step - loss: 0.2164 - acc: 0.8984 - val_loss: 0.2750 - val_acc: 0.8815\n",
      "Epoch 143/150\n",
      "105/105 [==============================] - 0s 203us/step - loss: 0.2156 - acc: 0.8984 - val_loss: 0.2739 - val_acc: 0.8815\n",
      "Epoch 144/150\n",
      "105/105 [==============================] - 0s 203us/step - loss: 0.2147 - acc: 0.8984 - val_loss: 0.2721 - val_acc: 0.8815\n",
      "Epoch 145/150\n",
      "105/105 [==============================] - 0s 190us/step - loss: 0.2138 - acc: 0.9048 - val_loss: 0.2704 - val_acc: 0.8889\n",
      "Epoch 146/150\n",
      "105/105 [==============================] - 0s 196us/step - loss: 0.2129 - acc: 0.9048 - val_loss: 0.2686 - val_acc: 0.8889\n",
      "Epoch 147/150\n",
      "105/105 [==============================] - 0s 213us/step - loss: 0.2120 - acc: 0.9048 - val_loss: 0.2668 - val_acc: 0.8889\n",
      "Epoch 148/150\n",
      "105/105 [==============================] - 0s 196us/step - loss: 0.2113 - acc: 0.9048 - val_loss: 0.2651 - val_acc: 0.8889\n",
      "Epoch 149/150\n",
      "105/105 [==============================] - 0s 203us/step - loss: 0.2104 - acc: 0.9048 - val_loss: 0.2638 - val_acc: 0.8889\n",
      "Epoch 150/150\n",
      "105/105 [==============================] - 0s 178us/step - loss: 0.2096 - acc: 0.9048 - val_loss: 0.2628 - val_acc: 0.8889\n"
     ]
    }
   ],
   "source": [
    "shallow_history = shallow_model.fit(x_train, y_train, epochs = 150, validation_data = (x_test, y_test))"
   ]
  },
  {
   "cell_type": "code",
   "execution_count": 35,
   "metadata": {
    "_uuid": "b3061f0e804a4fb326d25d690f2a9aec31f8c6b2"
   },
   "outputs": [
    {
     "data": {
      "image/png": "[encoded data removed]",
      "text/plain": [
       "<Figure size 432x288 with 1 Axes>"
      ]
     },
     "metadata": {},
     "output_type": "display_data"
    }
   ],
   "source": [
    "plt.plot(shallow_history.history['acc'])\n",
    "plt.plot(shallow_history.history['val_acc'])\n",
    "plt.title(\"Accuracy\")\n",
    "plt.legend(['train', 'test'])\n",
    "plt.show()"
   ]
  },
  {
   "cell_type": "code",
   "execution_count": 36,
   "metadata": {
    "_uuid": "605132bcfb1d9aa3b59bc58c0822e3c97ae72a8a"
   },
   "outputs": [
    {
     "data": {
      "image/png": "[encoded data removed]",
      "text/plain": [
       "<Figure size 432x288 with 1 Axes>"
      ]
     },
     "metadata": {},
     "output_type": "display_data"
    }
   ],
   "source": [
    "plt.plot(shallow_history.history['loss'])\n",
    "plt.plot(shallow_history.history['val_loss'])\n",
    "plt.plot('Loss')\n",
    "plt.legend(['Train','Test'])\n",
    "plt.show()"
   ]
  },
  {
   "cell_type": "markdown",
   "metadata": {
    "_uuid": "5b2d0d6aa208d3a6f77e2d2ab58139dbfa58f491"
   },
   "source": [
    "So our shallow model is  good accurate."
   ]
  },
  {
   "cell_type": "markdown",
   "metadata": {
    "_uuid": "64eecf88ba78f8616345496654ab70a04019f698"
   },
   "source": [
    "# <a id='deep'>Deep Deep learning</a>"
   ]
  },
  {
   "cell_type": "code",
   "execution_count": 37,
   "metadata": {
    "_uuid": "77cded2a0a730f5a6c3717a10449c890e4195f73"
   },
   "outputs": [],
   "source": [
    "deep_model = Sequential()\n",
    "deep_model.add(Dense( 4, input_dim=4, activation = 'relu'))\n",
    "deep_model.add(Dense( units = 10, activation= 'relu'))\n",
    "deep_model.add(Dense( units = 10, activation= 'relu'))\n",
    "deep_model.add(Dense( units = 10, activation= 'relu'))\n",
    "deep_model.add(Dense( units = 10, activation= 'relu'))\n",
    "deep_model.add(Dense( units = 10, activation= 'relu'))\n",
    "deep_model.add(Dense( units = 10, activation= 'relu'))\n",
    "deep_model.add(Dense( units = 10, activation= 'relu'))\n",
    "deep_model.add(Dense( units = 10, activation= 'relu'))\n",
    "deep_model.add(Dense( units = 3, activation= 'softmax'))\n",
    "deep_model.compile(loss = 'categorical_crossentropy', optimizer = 'adam', metrics = ['accuracy'])"
   ]
  },
  {
   "cell_type": "code",
   "execution_count": 38,
   "metadata": {
    "_uuid": "4be5a0688349325ac9f08365c28265571770dfe0"
   },
   "outputs": [
    {
     "name": "stdout",
     "output_type": "stream",
     "text": [
      "Train on 105 samples, validate on 45 samples\n",
      "Epoch 1/150\n",
      "105/105 [==============================] - 1s 5ms/step - loss: 1.0959 - acc: 0.3714 - val_loss: 1.0947 - val_acc: 0.4222\n",
      "Epoch 2/150\n",
      "105/105 [==============================] - 0s 311us/step - loss: 1.0917 - acc: 0.5810 - val_loss: 1.0915 - val_acc: 0.4222\n",
      "Epoch 3/150\n",
      "105/105 [==============================] - 0s 293us/step - loss: 1.0876 - acc: 0.6190 - val_loss: 1.0875 - val_acc: 0.4222\n",
      "Epoch 4/150\n",
      "105/105 [==============================] - 0s 318us/step - loss: 1.0825 - acc: 0.6190 - val_loss: 1.0831 - val_acc: 0.4222\n",
      "Epoch 5/150\n",
      "105/105 [==============================] - 0s 342us/step - loss: 1.0767 - acc: 0.6190 - val_loss: 1.0779 - val_acc: 0.4222\n",
      "Epoch 6/150\n",
      "105/105 [==============================] - 0s 314us/step - loss: 1.0698 - acc: 0.6190 - val_loss: 1.0716 - val_acc: 0.4444\n",
      "Epoch 7/150\n",
      "105/105 [==============================] - 0s 318us/step - loss: 1.0610 - acc: 0.6286 - val_loss: 1.0641 - val_acc: 0.4444\n",
      "Epoch 8/150\n",
      "105/105 [==============================] - 0s 281us/step - loss: 1.0507 - acc: 0.6286 - val_loss: 1.0551 - val_acc: 0.4444\n",
      "Epoch 9/150\n",
      "105/105 [==============================] - 0s 284us/step - loss: 1.0381 - acc: 0.6286 - val_loss: 1.0441 - val_acc: 0.4667\n",
      "Epoch 10/150\n",
      "105/105 [==============================] - 0s 278us/step - loss: 1.0236 - acc: 0.6667 - val_loss: 1.0312 - val_acc: 0.4667\n",
      "Epoch 11/150\n",
      "105/105 [==============================] - 0s 303us/step - loss: 1.0054 - acc: 0.6857 - val_loss: 1.0163 - val_acc: 0.4667\n",
      "Epoch 12/150\n",
      "105/105 [==============================] - 0s 327us/step - loss: 0.9854 - acc: 0.6857 - val_loss: 0.9985 - val_acc: 0.4889\n",
      "Epoch 13/150\n",
      "105/105 [==============================] - 0s 323us/step - loss: 0.9611 - acc: 0.6857 - val_loss: 0.9777 - val_acc: 0.4889\n",
      "Epoch 14/150\n",
      "105/105 [==============================] - 0s 312us/step - loss: 0.9342 - acc: 0.6857 - val_loss: 0.9539 - val_acc: 0.4889\n",
      "Epoch 15/150\n",
      "105/105 [==============================] - 0s 293us/step - loss: 0.9015 - acc: 0.6857 - val_loss: 0.9284 - val_acc: 0.4667\n",
      "Epoch 16/150\n",
      "105/105 [==============================] - 0s 266us/step - loss: 0.8673 - acc: 0.6857 - val_loss: 0.9012 - val_acc: 0.4667\n",
      "Epoch 17/150\n",
      "105/105 [==============================] - 0s 268us/step - loss: 0.8299 - acc: 0.6857 - val_loss: 0.8743 - val_acc: 0.5111\n",
      "Epoch 18/150\n",
      "105/105 [==============================] - 0s 250us/step - loss: 0.7957 - acc: 0.6857 - val_loss: 0.8484 - val_acc: 0.5333\n",
      "Epoch 19/150\n",
      "105/105 [==============================] - 0s 260us/step - loss: 0.7621 - acc: 0.7048 - val_loss: 0.8249 - val_acc: 0.5333\n",
      "Epoch 20/150\n",
      "105/105 [==============================] - 0s 292us/step - loss: 0.7330 - acc: 0.7143 - val_loss: 0.8062 - val_acc: 0.5556\n",
      "Epoch 21/150\n",
      "105/105 [==============================] - 0s 283us/step - loss: 0.7101 - acc: 0.7143 - val_loss: 0.7917 - val_acc: 0.5556\n",
      "Epoch 22/150\n",
      "105/105 [==============================] - 0s 274us/step - loss: 0.6900 - acc: 0.7143 - val_loss: 0.7782 - val_acc: 0.5556\n",
      "Epoch 23/150\n",
      "105/105 [==============================] - 0s 293us/step - loss: 0.6730 - acc: 0.7143 - val_loss: 0.7658 - val_acc: 0.5556\n",
      "Epoch 24/150\n",
      "105/105 [==============================] - 0s 298us/step - loss: 0.6574 - acc: 0.7143 - val_loss: 0.7544 - val_acc: 0.5556\n",
      "Epoch 25/150\n",
      "105/105 [==============================] - 0s 293us/step - loss: 0.6401 - acc: 0.7143 - val_loss: 0.7417 - val_acc: 0.5556\n",
      "Epoch 26/150\n",
      "105/105 [==============================] - 0s 284us/step - loss: 0.6228 - acc: 0.7143 - val_loss: 0.7290 - val_acc: 0.5556\n",
      "Epoch 27/150\n",
      "105/105 [==============================] - 0s 291us/step - loss: 0.6048 - acc: 0.7238 - val_loss: 0.7147 - val_acc: 0.5556\n",
      "Epoch 28/150\n",
      "105/105 [==============================] - 0s 326us/step - loss: 0.5852 - acc: 0.7238 - val_loss: 0.6978 - val_acc: 0.5778\n",
      "Epoch 29/150\n",
      "105/105 [==============================] - 0s 356us/step - loss: 0.5622 - acc: 0.7333 - val_loss: 0.6783 - val_acc: 0.6000\n",
      "Epoch 30/150\n",
      "105/105 [==============================] - 0s 349us/step - loss: 0.5372 - acc: 0.7429 - val_loss: 0.6569 - val_acc: 0.6000\n",
      "Epoch 31/150\n",
      "105/105 [==============================] - 0s 331us/step - loss: 0.5124 - acc: 0.7524 - val_loss: 0.6348 - val_acc: 0.6000\n",
      "Epoch 32/150\n",
      "105/105 [==============================] - 0s 294us/step - loss: 0.4879 - acc: 0.7524 - val_loss: 0.6133 - val_acc: 0.6444\n",
      "Epoch 33/150\n",
      "105/105 [==============================] - 0s 276us/step - loss: 0.4644 - acc: 0.7429 - val_loss: 0.5928 - val_acc: 0.6444\n",
      "Epoch 34/150\n",
      "105/105 [==============================] - 0s 302us/step - loss: 0.4435 - acc: 0.7524 - val_loss: 0.5685 - val_acc: 0.6889\n",
      "Epoch 35/150\n",
      "105/105 [==============================] - 0s 306us/step - loss: 0.4221 - acc: 0.8190 - val_loss: 0.5389 - val_acc: 0.7556\n",
      "Epoch 36/150\n",
      "105/105 [==============================] - 0s 308us/step - loss: 0.4027 - acc: 0.8476 - val_loss: 0.5097 - val_acc: 0.7778\n",
      "Epoch 37/150\n",
      "105/105 [==============================] - 0s 276us/step - loss: 0.3830 - acc: 0.8476 - val_loss: 0.4806 - val_acc: 0.8222\n",
      "Epoch 38/150\n",
      "105/105 [==============================] - 0s 338us/step - loss: 0.3630 - acc: 0.8571 - val_loss: 0.4478 - val_acc: 0.8667\n",
      "Epoch 39/150\n",
      "105/105 [==============================] - 0s 309us/step - loss: 0.3471 - acc: 0.8762 - val_loss: 0.4196 - val_acc: 0.9111\n",
      "Epoch 40/150\n",
      "105/105 [==============================] - 0s 285us/step - loss: 0.3263 - acc: 0.8762 - val_loss: 0.3938 - val_acc: 0.8889\n",
      "Epoch 41/150\n",
      "105/105 [==============================] - 0s 306us/step - loss: 0.3040 - acc: 0.8857 - val_loss: 0.3683 - val_acc: 0.9333\n",
      "Epoch 42/150\n",
      "105/105 [==============================] - 0s 304us/step - loss: 0.2847 - acc: 0.9143 - val_loss: 0.3435 - val_acc: 0.9556\n",
      "Epoch 43/150\n",
      "105/105 [==============================] - 0s 286us/step - loss: 0.2678 - acc: 0.9429 - val_loss: 0.3230 - val_acc: 0.9556\n",
      "Epoch 44/150\n",
      "105/105 [==============================] - 0s 389us/step - loss: 0.2563 - acc: 0.9333 - val_loss: 0.3032 - val_acc: 0.9333\n",
      "Epoch 45/150\n",
      "105/105 [==============================] - 0s 349us/step - loss: 0.2392 - acc: 0.9429 - val_loss: 0.2810 - val_acc: 0.9556\n",
      "Epoch 46/150\n",
      "105/105 [==============================] - 0s 337us/step - loss: 0.2272 - acc: 0.9429 - val_loss: 0.2605 - val_acc: 0.9556\n",
      "Epoch 47/150\n",
      "105/105 [==============================] - 0s 291us/step - loss: 0.2069 - acc: 0.9429 - val_loss: 0.2455 - val_acc: 0.9556\n",
      "Epoch 48/150\n",
      "105/105 [==============================] - 0s 357us/step - loss: 0.2048 - acc: 0.9524 - val_loss: 0.2253 - val_acc: 0.9556\n",
      "Epoch 49/150\n",
      "105/105 [==============================] - 0s 349us/step - loss: 0.1835 - acc: 0.9429 - val_loss: 0.2109 - val_acc: 0.9556\n",
      "Epoch 50/150\n",
      "105/105 [==============================] - 0s 332us/step - loss: 0.1758 - acc: 0.9429 - val_loss: 0.1943 - val_acc: 0.9556\n",
      "Epoch 51/150\n",
      "105/105 [==============================] - 0s 338us/step - loss: 0.1619 - acc: 0.9429 - val_loss: 0.1833 - val_acc: 0.9556\n",
      "Epoch 52/150\n",
      "105/105 [==============================] - 0s 340us/step - loss: 0.1558 - acc: 0.9524 - val_loss: 0.1680 - val_acc: 0.9778\n",
      "Epoch 53/150\n",
      "105/105 [==============================] - 0s 360us/step - loss: 0.1421 - acc: 0.9524 - val_loss: 0.1566 - val_acc: 0.9778\n",
      "Epoch 54/150\n",
      "105/105 [==============================] - 0s 325us/step - loss: 0.1360 - acc: 0.9524 - val_loss: 0.1476 - val_acc: 0.9556\n",
      "Epoch 55/150\n",
      "105/105 [==============================] - 0s 349us/step - loss: 0.1260 - acc: 0.9619 - val_loss: 0.1379 - val_acc: 0.9778\n",
      "Epoch 56/150\n",
      "105/105 [==============================] - 0s 355us/step - loss: 0.1207 - acc: 0.9619 - val_loss: 0.1305 - val_acc: 0.9778\n",
      "Epoch 57/150\n",
      "105/105 [==============================] - 0s 327us/step - loss: 0.1173 - acc: 0.9619 - val_loss: 0.1240 - val_acc: 0.9778\n",
      "Epoch 58/150\n",
      "105/105 [==============================] - 0s 296us/step - loss: 0.1157 - acc: 0.9619 - val_loss: 0.1196 - val_acc: 0.9556\n",
      "Epoch 59/150\n",
      "105/105 [==============================] - 0s 350us/step - loss: 0.1059 - acc: 0.9619 - val_loss: 0.1144 - val_acc: 0.9778\n",
      "Epoch 60/150\n",
      "105/105 [==============================] - 0s 359us/step - loss: 0.1048 - acc: 0.9714 - val_loss: 0.1110 - val_acc: 0.9778\n"
     ]
    },
    {
     "name": "stdout",
     "output_type": "stream",
     "text": [
      "Epoch 61/150\n",
      "105/105 [==============================] - 0s 309us/step - loss: 0.0983 - acc: 0.9619 - val_loss: 0.1118 - val_acc: 0.9556\n",
      "Epoch 62/150\n",
      "105/105 [==============================] - 0s 300us/step - loss: 0.1085 - acc: 0.9619 - val_loss: 0.1249 - val_acc: 0.9556\n",
      "Epoch 63/150\n",
      "105/105 [==============================] - 0s 317us/step - loss: 0.1102 - acc: 0.9524 - val_loss: 0.1004 - val_acc: 0.9778\n",
      "Epoch 64/150\n",
      "105/105 [==============================] - 0s 345us/step - loss: 0.0937 - acc: 0.9714 - val_loss: 0.1055 - val_acc: 0.9556\n",
      "Epoch 65/150\n",
      "105/105 [==============================] - 0s 320us/step - loss: 0.1002 - acc: 0.9810 - val_loss: 0.0990 - val_acc: 0.9556\n",
      "Epoch 66/150\n",
      "105/105 [==============================] - 0s 298us/step - loss: 0.0948 - acc: 0.9714 - val_loss: 0.0992 - val_acc: 0.9556\n",
      "Epoch 67/150\n",
      "105/105 [==============================] - 0s 321us/step - loss: 0.0882 - acc: 0.9619 - val_loss: 0.0923 - val_acc: 0.9778\n",
      "Epoch 68/150\n",
      "105/105 [==============================] - 0s 279us/step - loss: 0.0848 - acc: 0.9619 - val_loss: 0.0894 - val_acc: 0.9778\n",
      "Epoch 69/150\n",
      "105/105 [==============================] - 0s 317us/step - loss: 0.0839 - acc: 0.9619 - val_loss: 0.0990 - val_acc: 0.9556\n",
      "Epoch 70/150\n",
      "105/105 [==============================] - 0s 264us/step - loss: 0.0848 - acc: 0.9429 - val_loss: 0.0873 - val_acc: 0.9778\n",
      "Epoch 71/150\n",
      "105/105 [==============================] - 0s 283us/step - loss: 0.0765 - acc: 0.9714 - val_loss: 0.0922 - val_acc: 0.9556\n",
      "Epoch 72/150\n",
      "105/105 [==============================] - 0s 289us/step - loss: 0.0851 - acc: 0.9810 - val_loss: 0.0898 - val_acc: 0.9556\n",
      "Epoch 73/150\n",
      "105/105 [==============================] - 0s 306us/step - loss: 0.0821 - acc: 0.9714 - val_loss: 0.0845 - val_acc: 0.9556\n",
      "Epoch 74/150\n",
      "105/105 [==============================] - 0s 307us/step - loss: 0.0745 - acc: 0.9714 - val_loss: 0.0838 - val_acc: 0.9556\n",
      "Epoch 75/150\n",
      "105/105 [==============================] - 0s 323us/step - loss: 0.0741 - acc: 0.9714 - val_loss: 0.0829 - val_acc: 0.9556\n",
      "Epoch 76/150\n",
      "105/105 [==============================] - 0s 357us/step - loss: 0.0721 - acc: 0.9714 - val_loss: 0.0925 - val_acc: 0.9556\n",
      "Epoch 77/150\n",
      "105/105 [==============================] - 0s 310us/step - loss: 0.0842 - acc: 0.9524 - val_loss: 0.0904 - val_acc: 0.9556\n",
      "Epoch 78/150\n",
      "105/105 [==============================] - 0s 311us/step - loss: 0.0725 - acc: 0.9619 - val_loss: 0.0800 - val_acc: 0.9556\n",
      "Epoch 79/150\n",
      "105/105 [==============================] - 0s 366us/step - loss: 0.0738 - acc: 0.9714 - val_loss: 0.0827 - val_acc: 0.9556\n",
      "Epoch 80/150\n",
      "105/105 [==============================] - 0s 343us/step - loss: 0.0672 - acc: 0.9714 - val_loss: 0.0794 - val_acc: 0.9556\n",
      "Epoch 81/150\n",
      "105/105 [==============================] - 0s 354us/step - loss: 0.0709 - acc: 0.9619 - val_loss: 0.0814 - val_acc: 0.9778\n",
      "Epoch 82/150\n",
      "105/105 [==============================] - 0s 354us/step - loss: 0.0719 - acc: 0.9619 - val_loss: 0.0812 - val_acc: 0.9556\n",
      "Epoch 83/150\n",
      "105/105 [==============================] - 0s 345us/step - loss: 0.0704 - acc: 0.9714 - val_loss: 0.0820 - val_acc: 0.9556\n",
      "Epoch 84/150\n",
      "105/105 [==============================] - 0s 325us/step - loss: 0.0738 - acc: 0.9714 - val_loss: 0.0772 - val_acc: 0.9556\n",
      "Epoch 85/150\n",
      "105/105 [==============================] - 0s 318us/step - loss: 0.0664 - acc: 0.9714 - val_loss: 0.0781 - val_acc: 0.9556\n",
      "Epoch 86/150\n",
      "105/105 [==============================] - 0s 332us/step - loss: 0.0656 - acc: 0.9714 - val_loss: 0.0791 - val_acc: 0.9333\n",
      "Epoch 87/150\n",
      "105/105 [==============================] - 0s 322us/step - loss: 0.0650 - acc: 0.9619 - val_loss: 0.0782 - val_acc: 0.9556\n",
      "Epoch 88/150\n",
      "105/105 [==============================] - 0s 339us/step - loss: 0.0621 - acc: 0.9714 - val_loss: 0.0869 - val_acc: 0.9556\n",
      "Epoch 89/150\n",
      "105/105 [==============================] - 0s 333us/step - loss: 0.0674 - acc: 0.9810 - val_loss: 0.0879 - val_acc: 0.9556\n",
      "Epoch 90/150\n",
      "105/105 [==============================] - 0s 309us/step - loss: 0.0632 - acc: 0.9810 - val_loss: 0.0797 - val_acc: 0.9556\n",
      "Epoch 91/150\n",
      "105/105 [==============================] - 0s 286us/step - loss: 0.0626 - acc: 0.9714 - val_loss: 0.0877 - val_acc: 0.9556\n",
      "Epoch 92/150\n",
      "105/105 [==============================] - 0s 268us/step - loss: 0.0656 - acc: 0.9810 - val_loss: 0.0807 - val_acc: 0.9556\n",
      "Epoch 93/150\n",
      "105/105 [==============================] - 0s 261us/step - loss: 0.0642 - acc: 0.9714 - val_loss: 0.0820 - val_acc: 0.9556\n",
      "Epoch 94/150\n",
      "105/105 [==============================] - 0s 256us/step - loss: 0.0614 - acc: 0.9714 - val_loss: 0.0847 - val_acc: 0.9556\n",
      "Epoch 95/150\n",
      "105/105 [==============================] - 0s 244us/step - loss: 0.0647 - acc: 0.9810 - val_loss: 0.0826 - val_acc: 0.9778\n",
      "Epoch 96/150\n",
      "105/105 [==============================] - 0s 274us/step - loss: 0.0619 - acc: 0.9714 - val_loss: 0.0827 - val_acc: 0.9556\n",
      "Epoch 97/150\n",
      "105/105 [==============================] - 0s 263us/step - loss: 0.0653 - acc: 0.9810 - val_loss: 0.0814 - val_acc: 0.9778\n",
      "Epoch 98/150\n",
      "105/105 [==============================] - 0s 268us/step - loss: 0.0598 - acc: 0.9714 - val_loss: 0.0837 - val_acc: 0.9556\n",
      "Epoch 99/150\n",
      "105/105 [==============================] - 0s 290us/step - loss: 0.0581 - acc: 0.9714 - val_loss: 0.0837 - val_acc: 0.9556\n",
      "Epoch 100/150\n",
      "105/105 [==============================] - 0s 339us/step - loss: 0.0572 - acc: 0.9714 - val_loss: 0.0822 - val_acc: 0.9556\n",
      "Epoch 101/150\n",
      "105/105 [==============================] - 0s 315us/step - loss: 0.0560 - acc: 0.9714 - val_loss: 0.0791 - val_acc: 0.9556\n",
      "Epoch 102/150\n",
      "105/105 [==============================] - 0s 333us/step - loss: 0.0566 - acc: 0.9714 - val_loss: 0.0804 - val_acc: 0.9333\n",
      "Epoch 103/150\n",
      "105/105 [==============================] - 0s 318us/step - loss: 0.0580 - acc: 0.9714 - val_loss: 0.0804 - val_acc: 0.9556\n",
      "Epoch 104/150\n",
      "105/105 [==============================] - 0s 300us/step - loss: 0.0522 - acc: 0.9714 - val_loss: 0.0924 - val_acc: 0.9556\n",
      "Epoch 105/150\n",
      "105/105 [==============================] - 0s 358us/step - loss: 0.0630 - acc: 0.9810 - val_loss: 0.0969 - val_acc: 0.9556\n",
      "Epoch 106/150\n",
      "105/105 [==============================] - 0s 375us/step - loss: 0.0631 - acc: 0.9714 - val_loss: 0.0836 - val_acc: 0.9556\n",
      "Epoch 107/150\n",
      "105/105 [==============================] - 0s 345us/step - loss: 0.0564 - acc: 0.9714 - val_loss: 0.0811 - val_acc: 0.9556\n",
      "Epoch 108/150\n",
      "105/105 [==============================] - 0s 307us/step - loss: 0.0541 - acc: 0.9714 - val_loss: 0.0821 - val_acc: 0.9556\n",
      "Epoch 109/150\n",
      "105/105 [==============================] - 0s 307us/step - loss: 0.0547 - acc: 0.9714 - val_loss: 0.0817 - val_acc: 0.9556\n",
      "Epoch 110/150\n",
      "105/105 [==============================] - 0s 278us/step - loss: 0.0533 - acc: 0.9714 - val_loss: 0.0812 - val_acc: 0.9556\n",
      "Epoch 111/150\n",
      "105/105 [==============================] - 0s 299us/step - loss: 0.0531 - acc: 0.9714 - val_loss: 0.0813 - val_acc: 0.9556\n",
      "Epoch 112/150\n",
      "105/105 [==============================] - 0s 299us/step - loss: 0.0535 - acc: 0.9714 - val_loss: 0.0802 - val_acc: 0.9556\n",
      "Epoch 113/150\n",
      "105/105 [==============================] - 0s 310us/step - loss: 0.0589 - acc: 0.9714 - val_loss: 0.0819 - val_acc: 0.9556\n",
      "Epoch 114/150\n",
      "105/105 [==============================] - 0s 364us/step - loss: 0.0583 - acc: 0.9714 - val_loss: 0.0799 - val_acc: 0.9556\n",
      "Epoch 115/150\n",
      "105/105 [==============================] - 0s 327us/step - loss: 0.0517 - acc: 0.9714 - val_loss: 0.0833 - val_acc: 0.9556\n",
      "Epoch 116/150\n",
      "105/105 [==============================] - 0s 345us/step - loss: 0.0522 - acc: 0.9714 - val_loss: 0.0854 - val_acc: 0.9556\n",
      "Epoch 117/150\n",
      "105/105 [==============================] - 0s 319us/step - loss: 0.0528 - acc: 0.9714 - val_loss: 0.0853 - val_acc: 0.9556\n",
      "Epoch 118/150\n",
      "105/105 [==============================] - 0s 352us/step - loss: 0.0534 - acc: 0.9714 - val_loss: 0.0817 - val_acc: 0.9556\n",
      "Epoch 119/150\n",
      "105/105 [==============================] - 0s 328us/step - loss: 0.0546 - acc: 0.9714 - val_loss: 0.0792 - val_acc: 0.9333\n",
      "Epoch 120/150\n",
      "105/105 [==============================] - 0s 367us/step - loss: 0.0539 - acc: 0.9714 - val_loss: 0.0790 - val_acc: 0.9556\n",
      "Epoch 121/150\n"
     ]
    },
    {
     "name": "stdout",
     "output_type": "stream",
     "text": [
      "105/105 [==============================] - 0s 351us/step - loss: 0.0513 - acc: 0.9714 - val_loss: 0.0812 - val_acc: 0.9556\n",
      "Epoch 122/150\n",
      "105/105 [==============================] - 0s 335us/step - loss: 0.0517 - acc: 0.9714 - val_loss: 0.0814 - val_acc: 0.9556\n",
      "Epoch 123/150\n",
      "105/105 [==============================] - 0s 368us/step - loss: 0.0534 - acc: 0.9714 - val_loss: 0.0792 - val_acc: 0.9556\n",
      "Epoch 124/150\n",
      "105/105 [==============================] - 0s 313us/step - loss: 0.0529 - acc: 0.9714 - val_loss: 0.0800 - val_acc: 0.9556\n",
      "Epoch 125/150\n",
      "105/105 [==============================] - 0s 305us/step - loss: 0.0501 - acc: 0.9714 - val_loss: 0.0852 - val_acc: 0.9556\n",
      "Epoch 126/150\n",
      "105/105 [==============================] - 0s 309us/step - loss: 0.0516 - acc: 0.9714 - val_loss: 0.0855 - val_acc: 0.9556\n",
      "Epoch 127/150\n",
      "105/105 [==============================] - 0s 255us/step - loss: 0.0521 - acc: 0.9714 - val_loss: 0.0829 - val_acc: 0.9556\n",
      "Epoch 128/150\n",
      "105/105 [==============================] - 0s 259us/step - loss: 0.0504 - acc: 0.9714 - val_loss: 0.0803 - val_acc: 0.9556\n",
      "Epoch 129/150\n",
      "105/105 [==============================] - 0s 263us/step - loss: 0.0504 - acc: 0.9714 - val_loss: 0.0804 - val_acc: 0.9556\n",
      "Epoch 130/150\n",
      "105/105 [==============================] - 0s 262us/step - loss: 0.0499 - acc: 0.9714 - val_loss: 0.0800 - val_acc: 0.9556\n",
      "Epoch 131/150\n",
      "105/105 [==============================] - 0s 271us/step - loss: 0.0508 - acc: 0.9714 - val_loss: 0.0808 - val_acc: 0.9556\n",
      "Epoch 132/150\n",
      "105/105 [==============================] - 0s 344us/step - loss: 0.0495 - acc: 0.9714 - val_loss: 0.0847 - val_acc: 0.9556\n",
      "Epoch 133/150\n",
      "105/105 [==============================] - 0s 328us/step - loss: 0.0511 - acc: 0.9714 - val_loss: 0.0894 - val_acc: 0.9556\n",
      "Epoch 134/150\n",
      "105/105 [==============================] - 0s 336us/step - loss: 0.0524 - acc: 0.9714 - val_loss: 0.0839 - val_acc: 0.9556\n",
      "Epoch 135/150\n",
      "105/105 [==============================] - 0s 344us/step - loss: 0.0487 - acc: 0.9714 - val_loss: 0.0811 - val_acc: 0.9556\n",
      "Epoch 136/150\n",
      "105/105 [==============================] - 0s 341us/step - loss: 0.0492 - acc: 0.9714 - val_loss: 0.0811 - val_acc: 0.9556\n",
      "Epoch 137/150\n",
      "105/105 [==============================] - 0s 321us/step - loss: 0.0515 - acc: 0.9714 - val_loss: 0.0820 - val_acc: 0.9556\n",
      "Epoch 138/150\n",
      "105/105 [==============================] - 0s 345us/step - loss: 0.0556 - acc: 0.9714 - val_loss: 0.0818 - val_acc: 0.9556\n",
      "Epoch 139/150\n",
      "105/105 [==============================] - 0s 296us/step - loss: 0.0524 - acc: 0.9810 - val_loss: 0.0837 - val_acc: 0.9556\n",
      "Epoch 140/150\n",
      "105/105 [==============================] - 0s 337us/step - loss: 0.0486 - acc: 0.9714 - val_loss: 0.0871 - val_acc: 0.9556\n",
      "Epoch 141/150\n",
      "105/105 [==============================] - 0s 376us/step - loss: 0.0493 - acc: 0.9714 - val_loss: 0.0856 - val_acc: 0.9556\n",
      "Epoch 142/150\n",
      "105/105 [==============================] - 0s 331us/step - loss: 0.0488 - acc: 0.9714 - val_loss: 0.0827 - val_acc: 0.9556\n",
      "Epoch 143/150\n",
      "105/105 [==============================] - 0s 364us/step - loss: 0.0493 - acc: 0.9714 - val_loss: 0.0827 - val_acc: 0.9556\n",
      "Epoch 144/150\n",
      "105/105 [==============================] - 0s 375us/step - loss: 0.0486 - acc: 0.9714 - val_loss: 0.0851 - val_acc: 0.9556\n",
      "Epoch 145/150\n",
      "105/105 [==============================] - 0s 312us/step - loss: 0.0504 - acc: 0.9714 - val_loss: 0.0943 - val_acc: 0.9556\n",
      "Epoch 146/150\n",
      "105/105 [==============================] - 0s 310us/step - loss: 0.0528 - acc: 0.9714 - val_loss: 0.0897 - val_acc: 0.9556\n",
      "Epoch 147/150\n",
      "105/105 [==============================] - 0s 305us/step - loss: 0.0500 - acc: 0.9714 - val_loss: 0.0822 - val_acc: 0.9556\n",
      "Epoch 148/150\n",
      "105/105 [==============================] - 0s 353us/step - loss: 0.0481 - acc: 0.9714 - val_loss: 0.0812 - val_acc: 0.9556\n",
      "Epoch 149/150\n",
      "105/105 [==============================] - 0s 348us/step - loss: 0.0484 - acc: 0.9810 - val_loss: 0.0827 - val_acc: 0.9556\n",
      "Epoch 150/150\n",
      "105/105 [==============================] - 0s 332us/step - loss: 0.0492 - acc: 0.9714 - val_loss: 0.0859 - val_acc: 0.9556\n"
     ]
    }
   ],
   "source": [
    "deep_history = deep_model.fit(x_train, y_train, epochs = 150, validation_data = (x_test, y_test))"
   ]
  },
  {
   "cell_type": "code",
   "execution_count": 39,
   "metadata": {
    "_uuid": "700989a441f89101245ae099ebe528fe3f633431"
   },
   "outputs": [
    {
     "data": {
      "image/png": "[encoded data removed]",
      "text/plain": [
       "<Figure size 432x288 with 1 Axes>"
      ]
     },
     "metadata": {},
     "output_type": "display_data"
    }
   ],
   "source": [
    "plt.plot(deep_history.history['acc'])\n",
    "plt.plot(deep_history.history['val_acc'])\n",
    "plt.title(\"Accuracy\")\n",
    "plt.legend(['train', 'test'])\n",
    "plt.show()"
   ]
  },
  {
   "cell_type": "code",
   "execution_count": 40,
   "metadata": {
    "_uuid": "e11dd866567ce68bd5b4050d06793d33ae78a622"
   },
   "outputs": [
    {
     "data": {
      "image/png": "[encoded data removed]",
      "text/plain": [
       "<Figure size 432x288 with 1 Axes>"
      ]
     },
     "metadata": {},
     "output_type": "display_data"
    }
   ],
   "source": [
    "plt.plot(deep_history.history['loss'])\n",
    "plt.plot(deep_history.history['val_loss'])\n",
    "plt.plot('Loss')\n",
    "plt.legend(['Train','Test'])\n",
    "plt.show()"
   ]
  },
  {
   "cell_type": "markdown",
   "metadata": {
    "_uuid": "c7bc4c3d21891be9ebed38cdd359b1963cf6d5aa"
   },
   "source": [
    "So our deep model is more accurate than the shallow model."
   ]
  },
  {
   "cell_type": "markdown",
   "metadata": {
    "_uuid": "25901502724492603e74ca6d306528df43fcdbf9",
    "collapsed": true
   },
   "source": [
    "# Stay tune as the algorithms are learning. Hold tight \n",
    "\n",
    "# Upvote if you like "
   ]
  },
  {
   "cell_type": "code",
   "execution_count": null,
   "metadata": {
    "_uuid": "c31866c872647caccbc1557a0e1ef39688c38cf6"
   },
   "outputs": [],
   "source": []
  },
  {
   "cell_type": "code",
   "execution_count": null,
   "metadata": {},
   "outputs": [],
   "source": []
  }
 ],
 "metadata": {
  "kernelspec": {
   "display_name": "Python 3",
   "language": "python",
   "name": "python3"
  },
  "language_info": {
   "codemirror_mode": {
    "name": "ipython",
    "version": 3
   },
   "file_extension": ".py",
   "mimetype": "text/x-python",
   "name": "python",
   "nbconvert_exporter": "python",
   "pygments_lexer": "ipython3",
   "version": "3.5.2"
  }
 },
 "nbformat": 4,
 "nbformat_minor": 1
}
